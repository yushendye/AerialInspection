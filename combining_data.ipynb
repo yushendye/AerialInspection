{
  "nbformat": 4,
  "nbformat_minor": 0,
  "metadata": {
    "colab": {
      "name": "combining data.ipynb",
      "provenance": [],
      "collapsed_sections": [],
      "mount_file_id": "1TlSV9QJiJwQDd4LNUcSQTU9fYBv64Cx7",
      "authorship_tag": "ABX9TyM4UOf7FW4gxaezSu+y5qit",
      "include_colab_link": true
    },
    "kernelspec": {
      "name": "python3",
      "display_name": "Python 3"
    },
    "language_info": {
      "name": "python"
    }
  },
  "cells": [
    {
      "cell_type": "markdown",
      "metadata": {
        "id": "view-in-github",
        "colab_type": "text"
      },
      "source": [
        "<a href=\"https://colab.research.google.com/github/yushendye/AerialInspection/blob/main/combining_data.ipynb\" target=\"_parent\"><img src=\"https://colab.research.google.com/assets/colab-badge.svg\" alt=\"Open In Colab\"/></a>"
      ]
    },
    {
      "cell_type": "code",
      "metadata": {
        "id": "JOAzukaW7CZW"
      },
      "source": [
        "import json"
      ],
      "execution_count": null,
      "outputs": []
    },
    {
      "cell_type": "code",
      "metadata": {
        "id": "IpWnwmdN82of"
      },
      "source": [
        "#loading chair.json\n",
        "with open('/content/drive/MyDrive/Chair_COCO/chair.json') as json_reader:\n",
        "  chair_data = json_reader.read()"
      ],
      "execution_count": null,
      "outputs": []
    },
    {
      "cell_type": "code",
      "metadata": {
        "id": "t_-1vCL788CU"
      },
      "source": [
        "#loading chair.json content into a variable\n",
        "chair_js = json.loads(chair_data)"
      ],
      "execution_count": null,
      "outputs": []
    },
    {
      "cell_type": "code",
      "metadata": {
        "colab": {
          "base_uri": "https://localhost:8080/"
        },
        "id": "nwmzNdqT9fHq",
        "outputId": "868bcd29-d718-4abc-cecf-765f6970c903"
      },
      "source": [
        "#installing gdown\n",
        "!pip install gdown"
      ],
      "execution_count": null,
      "outputs": [
        {
          "output_type": "stream",
          "text": [
            "Requirement already satisfied: gdown in /usr/local/lib/python3.7/dist-packages (3.6.4)\n",
            "Requirement already satisfied: tqdm in /usr/local/lib/python3.7/dist-packages (from gdown) (4.41.1)\n",
            "Requirement already satisfied: requests in /usr/local/lib/python3.7/dist-packages (from gdown) (2.23.0)\n",
            "Requirement already satisfied: six in /usr/local/lib/python3.7/dist-packages (from gdown) (1.15.0)\n",
            "Requirement already satisfied: idna<3,>=2.5 in /usr/local/lib/python3.7/dist-packages (from requests->gdown) (2.10)\n",
            "Requirement already satisfied: certifi>=2017.4.17 in /usr/local/lib/python3.7/dist-packages (from requests->gdown) (2021.5.30)\n",
            "Requirement already satisfied: urllib3!=1.25.0,!=1.25.1,<1.26,>=1.21.1 in /usr/local/lib/python3.7/dist-packages (from requests->gdown) (1.24.3)\n",
            "Requirement already satisfied: chardet<4,>=3.0.2 in /usr/local/lib/python3.7/dist-packages (from requests->gdown) (3.0.4)\n"
          ],
          "name": "stdout"
        }
      ]
    },
    {
      "cell_type": "code",
      "metadata": {
        "colab": {
          "base_uri": "https://localhost:8080/"
        },
        "id": "mOwDvBcV-XuN",
        "outputId": "836ea572-68f2-446b-c484-5336ef24b13f"
      },
      "source": [
        "#downloading car.json\n",
        "!gdown --id 17elGJu5BS1Dz51aKKfl94-Xg2Cf7soQL"
      ],
      "execution_count": null,
      "outputs": [
        {
          "output_type": "stream",
          "text": [
            "Downloading...\n",
            "From: https://drive.google.com/uc?id=17elGJu5BS1Dz51aKKfl94-Xg2Cf7soQL\n",
            "To: /content/car.json\n",
            "\r  0% 0.00/265k [00:00<?, ?B/s]\r100% 265k/265k [00:00<00:00, 8.55MB/s]\n"
          ],
          "name": "stdout"
        }
      ]
    },
    {
      "cell_type": "code",
      "metadata": {
        "id": "nEDeMvqC-5c_"
      },
      "source": [
        "#loading car.json\n",
        "with open('/content/car.json') as json_reader:\n",
        "  car_data = json_reader.read()"
      ],
      "execution_count": null,
      "outputs": []
    },
    {
      "cell_type": "code",
      "metadata": {
        "id": "r2ehD-UR_JUh"
      },
      "source": [
        "car_js = json.loads(car_data)"
      ],
      "execution_count": null,
      "outputs": []
    },
    {
      "cell_type": "code",
      "metadata": {
        "colab": {
          "base_uri": "https://localhost:8080/"
        },
        "id": "Mztl0Lr7_n0K",
        "outputId": "fb11d8b9-f9ae-4805-9adc-621f596bd6f0"
      },
      "source": [
        "chair_js.keys"
      ],
      "execution_count": null,
      "outputs": [
        {
          "output_type": "execute_result",
          "data": {
            "text/plain": [
              "<function dict.keys>"
            ]
          },
          "metadata": {
            "tags": []
          },
          "execution_count": 29
        }
      ]
    },
    {
      "cell_type": "code",
      "metadata": {
        "id": "un-qqNhnAFIG"
      },
      "source": [
        "sec_ims = []\n",
        "def combine_data(original_file, file_to_append):\n",
        "  #with open(original_file, 'r+') as reader:\n",
        "  #  first_data = reader.read()\n",
        "\n",
        "  first_json = json.load(original_file)\n",
        "\n",
        "  #with open(file_to_append, 'r+') as reader:\n",
        "  #  sec_data = reader.read()\n",
        "\n",
        "  sec_json = json.load(file_to_append)\n",
        "\n",
        "  #getting images from second\n",
        "  sec_ims = sec_json.get(\"images\")\n",
        "\n",
        "  #getting annotations from second\n",
        "  sec_ann = sec_json.get(\"annotations\")\n",
        "\n",
        "  #appending json to the main file\n",
        "\n",
        "  for img in sec_ims:\n",
        "    print(img)\n",
        "    original_file[\"images\"].append(img)\n",
        "\n",
        "  for ann in sec_ann: \n",
        "    print(ann)   \n",
        "    original_file[\"annotations\"].append(ann)\n",
        "\n",
        "  #json.dump(original_file, '/content/train.json', indent = 4)"
      ],
      "execution_count": null,
      "outputs": []
    },
    {
      "cell_type": "code",
      "metadata": {
        "colab": {
          "base_uri": "https://localhost:8080/",
          "height": 376
        },
        "id": "l1D1WkqDC4yr",
        "outputId": "c2902ffc-8842-4544-de62-c9bf90ebe451"
      },
      "source": [
        "f1 = open('/content/drive/MyDrive/Chair_COCO/chair.json', 'r+')\n",
        "f2 = open('/content/car.json', 'r+')\n",
        "combine_data(f1, f2)"
      ],
      "execution_count": null,
      "outputs": [
        {
          "output_type": "stream",
          "text": [
            "{'license': 3, 'file_name': '000000532481.jpg', 'coco_url': 'http://images.cocodataset.org/val2017/000000532481.jpg', 'height': 426, 'width': 640, 'date_captured': '2013-11-20 16:28:24', 'flickr_url': 'http://farm7.staticflickr.com/6048/5915494136_da3cfa7c5a_z.jpg', 'id': 532481}\n"
          ],
          "name": "stdout"
        },
        {
          "output_type": "error",
          "ename": "TypeError",
          "evalue": "ignored",
          "traceback": [
            "\u001b[0;31m---------------------------------------------------------------------------\u001b[0m",
            "\u001b[0;31mTypeError\u001b[0m                                 Traceback (most recent call last)",
            "\u001b[0;32m<ipython-input-54-85cbcd1d67aa>\u001b[0m in \u001b[0;36m<module>\u001b[0;34m()\u001b[0m\n\u001b[1;32m      1\u001b[0m \u001b[0mf1\u001b[0m \u001b[0;34m=\u001b[0m \u001b[0mopen\u001b[0m\u001b[0;34m(\u001b[0m\u001b[0;34m'/content/drive/MyDrive/Chair_COCO/chair.json'\u001b[0m\u001b[0;34m,\u001b[0m \u001b[0;34m'r+'\u001b[0m\u001b[0;34m)\u001b[0m\u001b[0;34m\u001b[0m\u001b[0;34m\u001b[0m\u001b[0m\n\u001b[1;32m      2\u001b[0m \u001b[0mf2\u001b[0m \u001b[0;34m=\u001b[0m \u001b[0mopen\u001b[0m\u001b[0;34m(\u001b[0m\u001b[0;34m'/content/car.json'\u001b[0m\u001b[0;34m,\u001b[0m \u001b[0;34m'r+'\u001b[0m\u001b[0;34m)\u001b[0m\u001b[0;34m\u001b[0m\u001b[0;34m\u001b[0m\u001b[0m\n\u001b[0;32m----> 3\u001b[0;31m \u001b[0mcombine_data\u001b[0m\u001b[0;34m(\u001b[0m\u001b[0mf1\u001b[0m\u001b[0;34m,\u001b[0m \u001b[0mf2\u001b[0m\u001b[0;34m)\u001b[0m\u001b[0;34m\u001b[0m\u001b[0;34m\u001b[0m\u001b[0m\n\u001b[0m",
            "\u001b[0;32m<ipython-input-53-6382b3471f9f>\u001b[0m in \u001b[0;36mcombine_data\u001b[0;34m(original_file, file_to_append)\u001b[0m\n\u001b[1;32m     20\u001b[0m   \u001b[0;32mfor\u001b[0m \u001b[0mimg\u001b[0m \u001b[0;32min\u001b[0m \u001b[0msec_ims\u001b[0m\u001b[0;34m:\u001b[0m\u001b[0;34m\u001b[0m\u001b[0;34m\u001b[0m\u001b[0m\n\u001b[1;32m     21\u001b[0m     \u001b[0mprint\u001b[0m\u001b[0;34m(\u001b[0m\u001b[0mimg\u001b[0m\u001b[0;34m)\u001b[0m\u001b[0;34m\u001b[0m\u001b[0;34m\u001b[0m\u001b[0m\n\u001b[0;32m---> 22\u001b[0;31m     \u001b[0moriginal_file\u001b[0m\u001b[0;34m[\u001b[0m\u001b[0;34m\"images\"\u001b[0m\u001b[0;34m]\u001b[0m\u001b[0;34m.\u001b[0m\u001b[0mappend\u001b[0m\u001b[0;34m(\u001b[0m\u001b[0mimg\u001b[0m\u001b[0;34m)\u001b[0m\u001b[0;34m\u001b[0m\u001b[0;34m\u001b[0m\u001b[0m\n\u001b[0m\u001b[1;32m     23\u001b[0m \u001b[0;34m\u001b[0m\u001b[0m\n\u001b[1;32m     24\u001b[0m   \u001b[0;32mfor\u001b[0m \u001b[0mann\u001b[0m \u001b[0;32min\u001b[0m \u001b[0msec_ann\u001b[0m\u001b[0;34m:\u001b[0m\u001b[0;34m\u001b[0m\u001b[0;34m\u001b[0m\u001b[0m\n",
            "\u001b[0;31mTypeError\u001b[0m: '_io.TextIOWrapper' object is not subscriptable"
          ]
        }
      ]
    },
    {
      "cell_type": "code",
      "metadata": {
        "id": "kZtwkyDTFATq"
      },
      "source": [
        "!cp /content/drive/MyDrive/Chair_COCO/chair.json /content\n",
        "def write_json(images, annos, filename='/content/drive/MyDrive/chair.json'):\n",
        "    with open(filename,'r+') as file:\n",
        "          # First we load existing data into a dict.\n",
        "        file_data = json.load(file)\n",
        "        # Join new_data with file_data inside emp_details\n",
        "        for im in images:\n",
        "          file_data[\"images\"].append(im)\n",
        "        \n",
        "        for ann in annos:\n",
        "          file_data[\"annotations\"].append(ann)\n",
        "        # Sets file's current position at offset.\n",
        "        file.seek(0)\n",
        "        # convert back to json.\n",
        "        json.dump(file_data, file, indent = 4)"
      ],
      "execution_count": null,
      "outputs": []
    },
    {
      "cell_type": "code",
      "metadata": {
        "id": "4eJyHiQTUdOI"
      },
      "source": [
        "def combine(path_of_new_data):\n",
        "  with open(path_of_new_data, 'r+') as reader:\n",
        "    req_data = reader.read()\n",
        "  req_json = json.loads(req_data)\n",
        "  #getting images from second\n",
        "  req_ims = req_json.get(\"images\")\n",
        "  #getting annotations from second\n",
        "  req_ann = req_json.get(\"annotations\")\n",
        "  write_json(req_ims, req_ann, '/content/drive/MyDrive/chair.json')\n"
      ],
      "execution_count": null,
      "outputs": []
    },
    {
      "cell_type": "code",
      "metadata": {
        "id": "QdV6ARg_KfI1"
      },
      "source": [
        "#reading from car.json\n",
        "with open('/content/car.json', 'r+') as reader:\n",
        "  req_data = reader.read()\n",
        "\n",
        "req_json = json.loads(sec_data)\n",
        "\n",
        "#getting images from second\n",
        "req_ims = sec_json.get(\"images\")\n",
        "\n",
        "#getting annotations from second\n",
        "req_ann = sec_json.get(\"annotations\")\n",
        "\n",
        "\n",
        "write_json(req_ims, req_ann, '/content/chair.json')"
      ],
      "execution_count": null,
      "outputs": []
    },
    {
      "cell_type": "code",
      "metadata": {
        "colab": {
          "base_uri": "https://localhost:8080/"
        },
        "id": "x7Y1eWOTLYL6",
        "outputId": "6cd21c8b-aea2-4b1e-c32b-6040b3893be6"
      },
      "source": [
        "#traffic lights\n",
        "!gdown --id 186gzfoZtm1PhefvHceM3eVZJ6JdypBgX"
      ],
      "execution_count": null,
      "outputs": [
        {
          "output_type": "stream",
          "text": [
            "Downloading...\n",
            "From: https://drive.google.com/uc?id=186gzfoZtm1PhefvHceM3eVZJ6JdypBgX\n",
            "To: /content/traffic_light.json\n",
            "\r  0% 0.00/192k [00:00<?, ?B/s]\r100% 192k/192k [00:00<00:00, 6.08MB/s]\n"
          ],
          "name": "stdout"
        }
      ]
    },
    {
      "cell_type": "code",
      "metadata": {
        "id": "AGczixr4V16U"
      },
      "source": [
        "combine('/content/traffic_light.json')"
      ],
      "execution_count": null,
      "outputs": []
    },
    {
      "cell_type": "code",
      "metadata": {
        "colab": {
          "base_uri": "https://localhost:8080/"
        },
        "id": "0bkM93cqV5bz",
        "outputId": "b0a3797d-cc99-4036-f2a5-e4c75af8ce2a"
      },
      "source": [
        "# dog\n",
        "!gdown --id 1AZdEPVy7gZw8l3D8_4kFLx3MoKh5-SX1"
      ],
      "execution_count": null,
      "outputs": [
        {
          "output_type": "stream",
          "text": [
            "Downloading...\n",
            "From: https://drive.google.com/uc?id=1AZdEPVy7gZw8l3D8_4kFLx3MoKh5-SX1\n",
            "To: /content/dog.json\n",
            "\r  0% 0.00/258k [00:00<?, ?B/s]\r100% 258k/258k [00:00<00:00, 8.03MB/s]\n"
          ],
          "name": "stdout"
        }
      ]
    },
    {
      "cell_type": "code",
      "metadata": {
        "id": "6ZM-nvR3WJvO"
      },
      "source": [
        "combine('/content/dog.json')"
      ],
      "execution_count": null,
      "outputs": []
    },
    {
      "cell_type": "code",
      "metadata": {
        "id": "GLJUd_SEWd90"
      },
      "source": [
        "!rm /content/drive/MyDrive//chair.json\n",
        "!cp /content/chair.json /content/drive/MyDrive/"
      ],
      "execution_count": null,
      "outputs": []
    },
    {
      "cell_type": "code",
      "metadata": {
        "colab": {
          "base_uri": "https://localhost:8080/"
        },
        "id": "Xl8wdQg_WtW7",
        "outputId": "4300d994-739b-44e1-9191-9a5083cf4b3c"
      },
      "source": [
        "#person\n",
        "!gdown --id 17AiYeiRqkJ6Dwb2qmHv5YeYVpvYNNU9O"
      ],
      "execution_count": null,
      "outputs": [
        {
          "output_type": "stream",
          "text": [
            "Downloading...\n",
            "From: https://drive.google.com/uc?id=17AiYeiRqkJ6Dwb2qmHv5YeYVpvYNNU9O\n",
            "To: /content/person.json\n",
            "\r  0% 0.00/360k [00:00<?, ?B/s]\r100% 360k/360k [00:00<00:00, 5.69MB/s]\n"
          ],
          "name": "stdout"
        }
      ]
    },
    {
      "cell_type": "code",
      "metadata": {
        "id": "lx27gyQ3bnOS"
      },
      "source": [
        "combine('/content/person.json')"
      ],
      "execution_count": null,
      "outputs": []
    },
    {
      "cell_type": "code",
      "metadata": {
        "id": "FK6KdLhmbqxw"
      },
      "source": [
        "!rm /content/drive/MyDrive//chair.json\n",
        "!cp /content/chair.json /content/drive/MyDrive/"
      ],
      "execution_count": null,
      "outputs": []
    },
    {
      "cell_type": "code",
      "metadata": {
        "colab": {
          "base_uri": "https://localhost:8080/"
        },
        "id": "B30wsYRPbtI4",
        "outputId": "0b3db511-a463-4496-8c23-0d43e1df4873"
      },
      "source": [
        "#aeroplane\n",
        "!gdown --id 1zGVIwGb8wCpFXHKhxZynk3pwEzaKp9lA"
      ],
      "execution_count": null,
      "outputs": [
        {
          "output_type": "stream",
          "text": [
            "Downloading...\n",
            "From: https://drive.google.com/uc?id=1zGVIwGb8wCpFXHKhxZynk3pwEzaKp9lA\n",
            "To: /content/airplane.json\n",
            "\r  0% 0.00/132k [00:00<?, ?B/s]\r100% 132k/132k [00:00<00:00, 49.8MB/s]\n"
          ],
          "name": "stdout"
        }
      ]
    },
    {
      "cell_type": "code",
      "metadata": {
        "id": "FoZgkTHgDdAc"
      },
      "source": [
        "combine('/content/airplane.json')"
      ],
      "execution_count": null,
      "outputs": []
    },
    {
      "cell_type": "code",
      "metadata": {
        "id": "UkguYB9eD8H9"
      },
      "source": [
        "!mkdir /content/drive/MyDrive/Final\n",
        "!cp /content/chair.json /content/drive/MyDrive/Final/"
      ],
      "execution_count": null,
      "outputs": []
    },
    {
      "cell_type": "code",
      "metadata": {
        "id": "I_KSprUsEhtd"
      },
      "source": [
        ""
      ],
      "execution_count": null,
      "outputs": []
    }
  ]
}