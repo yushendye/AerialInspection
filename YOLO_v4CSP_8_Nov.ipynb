{
  "nbformat": 4,
  "nbformat_minor": 0,
  "metadata": {
    "colab": {
      "name": "YOLO v4CSP.ipynb",
      "provenance": [],
      "collapsed_sections": [],
      "include_colab_link": true
    },
    "kernelspec": {
      "display_name": "Python 3",
      "name": "python3"
    },
    "language_info": {
      "name": "python"
    },
    "accelerator": "GPU"
  },
  "cells": [
    {
      "cell_type": "markdown",
      "metadata": {
        "id": "view-in-github",
        "colab_type": "text"
      },
      "source": [
        "<a href=\"https://colab.research.google.com/github/yushendye/AerialInspection/blob/main/YOLO_v4CSP_8_Nov.ipynb\" target=\"_parent\"><img src=\"https://colab.research.google.com/assets/colab-badge.svg\" alt=\"Open In Colab\"/></a>"
      ]
    },
    {
      "cell_type": "code",
      "metadata": {
        "colab": {
          "base_uri": "https://localhost:8080/"
        },
        "id": "htqQXHp5fbO0",
        "outputId": "40f72238-3c5b-4096-a679-406f978af093"
      },
      "source": [
        "from google.colab import drive\n",
        "drive.mount('/content/drive')"
      ],
      "execution_count": 1,
      "outputs": [
        {
          "output_type": "stream",
          "name": "stdout",
          "text": [
            "Mounted at /content/drive\n"
          ]
        }
      ]
    },
    {
      "cell_type": "code",
      "metadata": {
        "colab": {
          "base_uri": "https://localhost:8080/"
        },
        "id": "mfVk34m3yxkU",
        "outputId": "cdbabf89-5d0d-4547-8159-b5a410eff319"
      },
      "source": [
        "# clone Scaled_YOLOv4\n",
        "!git clone https://github.com/roboflow-ai/ScaledYOLOv4.git  # clone repo\n",
        "%cd /content/ScaledYOLOv4/\n",
        "#checkout the yolov4-large branch\n",
        "!git checkout yolov4-large"
      ],
      "execution_count": 2,
      "outputs": [
        {
          "output_type": "stream",
          "name": "stdout",
          "text": [
            "Cloning into 'ScaledYOLOv4'...\n",
            "remote: Enumerating objects: 128, done.\u001b[K\n",
            "remote: Total 128 (delta 0), reused 0 (delta 0), pack-reused 128\u001b[K\n",
            "Receiving objects: 100% (128/128), 389.37 KiB | 3.04 MiB/s, done.\n",
            "Resolving deltas: 100% (39/39), done.\n",
            "/content/ScaledYOLOv4\n",
            "Branch 'yolov4-large' set up to track remote branch 'yolov4-large' from 'origin'.\n",
            "Switched to a new branch 'yolov4-large'\n"
          ]
        }
      ]
    },
    {
      "cell_type": "code",
      "metadata": {
        "colab": {
          "base_uri": "https://localhost:8080/"
        },
        "id": "UnvwJr6jzM84",
        "outputId": "a5c40a08-ec17-46bd-88a2-a84a056ef526"
      },
      "source": [
        "import torch\n",
        "print('Using torch %s %s' % (torch.__version__, torch.cuda.get_device_properties(0) if torch.cuda.is_available() else 'CPU'))"
      ],
      "execution_count": 3,
      "outputs": [
        {
          "output_type": "stream",
          "name": "stdout",
          "text": [
            "Using torch 1.9.0+cu111 _CudaDeviceProperties(name='Tesla K80', major=3, minor=7, total_memory=11441MB, multi_processor_count=13)\n"
          ]
        }
      ]
    },
    {
      "cell_type": "code",
      "metadata": {
        "colab": {
          "base_uri": "https://localhost:8080/"
        },
        "id": "P2TNpvXZfBEs",
        "outputId": "df8842e5-0879-4ec2-a0a5-db41fead2500"
      },
      "source": [
        "#install mish activation funciton for cuda\n",
        "%cd /content/\n",
        "!git clone https://github.com/JunnYu/mish-cuda\n",
        "%cd mish-cuda\n",
        "!python setup.py build install"
      ],
      "execution_count": 4,
      "outputs": [
        {
          "output_type": "stream",
          "name": "stdout",
          "text": [
            "/content\n",
            "Cloning into 'mish-cuda'...\n",
            "remote: Enumerating objects: 195, done.\u001b[K\n",
            "remote: Counting objects: 100% (88/88), done.\u001b[K\n",
            "remote: Compressing objects: 100% (75/75), done.\u001b[K\n",
            "remote: Total 195 (delta 7), reused 79 (delta 3), pack-reused 107\u001b[K\n",
            "Receiving objects: 100% (195/195), 208.77 KiB | 2.90 MiB/s, done.\n",
            "Resolving deltas: 100% (56/56), done.\n",
            "/content/mish-cuda\n",
            "/usr/lib/python3.7/distutils/extension.py:131: UserWarning: Unknown Extension options: 'headers'\n",
            "  warnings.warn(msg)\n",
            "running build\n",
            "running build_py\n",
            "creating build\n",
            "creating build/lib.linux-x86_64-3.7\n",
            "creating build/lib.linux-x86_64-3.7/mish_cuda\n",
            "copying src/mish_cuda/__init__.py -> build/lib.linux-x86_64-3.7/mish_cuda\n",
            "running egg_info\n",
            "creating src/mish_cuda.egg-info\n",
            "writing src/mish_cuda.egg-info/PKG-INFO\n",
            "writing dependency_links to src/mish_cuda.egg-info/dependency_links.txt\n",
            "writing requirements to src/mish_cuda.egg-info/requires.txt\n",
            "writing top-level names to src/mish_cuda.egg-info/top_level.txt\n",
            "writing manifest file 'src/mish_cuda.egg-info/SOURCES.txt'\n",
            "/usr/local/lib/python3.7/dist-packages/torch/utils/cpp_extension.py:370: UserWarning: Attempted to use ninja as the BuildExtension backend but we could not find ninja.. Falling back to using the slow distutils backend.\n",
            "  warnings.warn(msg.format('we could not find ninja.'))\n",
            "adding license file 'LICENSE'\n",
            "writing manifest file 'src/mish_cuda.egg-info/SOURCES.txt'\n",
            "running build_ext\n",
            "building 'mish_cuda._C' extension\n",
            "creating build/temp.linux-x86_64-3.7\n",
            "creating build/temp.linux-x86_64-3.7/csrc\n",
            "creating build/temp.linux-x86_64-3.7/csrc/cpu\n",
            "creating build/temp.linux-x86_64-3.7/csrc/cuda\n",
            "x86_64-linux-gnu-gcc -pthread -Wno-unused-result -Wsign-compare -DNDEBUG -g -fwrapv -O2 -Wall -g -fdebug-prefix-map=/build/python3.7-Y7dWVB/python3.7-3.7.12=. -fstack-protector-strong -Wformat -Werror=format-security -g -fdebug-prefix-map=/build/python3.7-Y7dWVB/python3.7-3.7.12=. -fstack-protector-strong -Wformat -Werror=format-security -Wdate-time -D_FORTIFY_SOURCE=2 -fPIC -I/usr/local/lib/python3.7/dist-packages/torch/include -I/usr/local/lib/python3.7/dist-packages/torch/include/torch/csrc/api/include -I/usr/local/lib/python3.7/dist-packages/torch/include/TH -I/usr/local/lib/python3.7/dist-packages/torch/include/THC -I/usr/local/cuda/include -I/usr/include/python3.7m -c csrc/cpu/mish_cpu.cpp -o build/temp.linux-x86_64-3.7/csrc/cpu/mish_cpu.o -DTORCH_API_INCLUDE_EXTENSION_H -DPYBIND11_COMPILER_TYPE=\"_gcc\" -DPYBIND11_STDLIB=\"_libstdcpp\" -DPYBIND11_BUILD_ABI=\"_cxxabi1011\" -DTORCH_EXTENSION_NAME=_C -D_GLIBCXX_USE_CXX11_ABI=0 -std=c++14\n",
            "In file included from \u001b[01m\u001b[K/usr/local/lib/python3.7/dist-packages/torch/include/ATen/Parallel.h:140:0\u001b[m\u001b[K,\n",
            "                 from \u001b[01m\u001b[K/usr/local/lib/python3.7/dist-packages/torch/include/ATen/CPUApplyUtils.h:3\u001b[m\u001b[K,\n",
            "                 from \u001b[01m\u001b[Kcsrc/cpu/mish_cpu.cpp:3\u001b[m\u001b[K:\n",
            "\u001b[01m\u001b[K/usr/local/lib/python3.7/dist-packages/torch/include/ATen/ParallelOpenMP.h:87:0:\u001b[m\u001b[K \u001b[01;35m\u001b[Kwarning: \u001b[m\u001b[Kignoring #pragma omp parallel [\u001b[01;35m\u001b[K-Wunknown-pragmas\u001b[m\u001b[K]\n",
            " #pragma omp parallel for if ((end - begin) >= grain_size)\n",
            " \n",
            "x86_64-linux-gnu-gcc -pthread -Wno-unused-result -Wsign-compare -DNDEBUG -g -fwrapv -O2 -Wall -g -fdebug-prefix-map=/build/python3.7-Y7dWVB/python3.7-3.7.12=. -fstack-protector-strong -Wformat -Werror=format-security -g -fdebug-prefix-map=/build/python3.7-Y7dWVB/python3.7-3.7.12=. -fstack-protector-strong -Wformat -Werror=format-security -Wdate-time -D_FORTIFY_SOURCE=2 -fPIC -I/usr/local/lib/python3.7/dist-packages/torch/include -I/usr/local/lib/python3.7/dist-packages/torch/include/torch/csrc/api/include -I/usr/local/lib/python3.7/dist-packages/torch/include/TH -I/usr/local/lib/python3.7/dist-packages/torch/include/THC -I/usr/local/cuda/include -I/usr/include/python3.7m -c csrc/cuda/mish_cuda.cpp -o build/temp.linux-x86_64-3.7/csrc/cuda/mish_cuda.o -DTORCH_API_INCLUDE_EXTENSION_H -DPYBIND11_COMPILER_TYPE=\"_gcc\" -DPYBIND11_STDLIB=\"_libstdcpp\" -DPYBIND11_BUILD_ABI=\"_cxxabi1011\" -DTORCH_EXTENSION_NAME=_C -D_GLIBCXX_USE_CXX11_ABI=0 -std=c++14\n",
            "In file included from \u001b[01m\u001b[K/usr/local/lib/python3.7/dist-packages/torch/include/ATen/Parallel.h:140:0\u001b[m\u001b[K,\n",
            "                 from \u001b[01m\u001b[K/usr/local/lib/python3.7/dist-packages/torch/include/torch/csrc/api/include/torch/utils.h:3\u001b[m\u001b[K,\n",
            "                 from \u001b[01m\u001b[K/usr/local/lib/python3.7/dist-packages/torch/include/torch/csrc/api/include/torch/nn/cloneable.h:5\u001b[m\u001b[K,\n",
            "                 from \u001b[01m\u001b[K/usr/local/lib/python3.7/dist-packages/torch/include/torch/csrc/api/include/torch/nn.h:3\u001b[m\u001b[K,\n",
            "                 from \u001b[01m\u001b[K/usr/local/lib/python3.7/dist-packages/torch/include/torch/csrc/api/include/torch/all.h:13\u001b[m\u001b[K,\n",
            "                 from \u001b[01m\u001b[K/usr/local/lib/python3.7/dist-packages/torch/include/torch/extension.h:4\u001b[m\u001b[K,\n",
            "                 from \u001b[01m\u001b[Kcsrc/cuda/mish_cuda.cpp:2\u001b[m\u001b[K:\n",
            "\u001b[01m\u001b[K/usr/local/lib/python3.7/dist-packages/torch/include/ATen/ParallelOpenMP.h:87:0:\u001b[m\u001b[K \u001b[01;35m\u001b[Kwarning: \u001b[m\u001b[Kignoring #pragma omp parallel [\u001b[01;35m\u001b[K-Wunknown-pragmas\u001b[m\u001b[K]\n",
            " #pragma omp parallel for if ((end - begin) >= grain_size)\n",
            " \n",
            "/usr/local/cuda/bin/nvcc -I/usr/local/lib/python3.7/dist-packages/torch/include -I/usr/local/lib/python3.7/dist-packages/torch/include/torch/csrc/api/include -I/usr/local/lib/python3.7/dist-packages/torch/include/TH -I/usr/local/lib/python3.7/dist-packages/torch/include/THC -I/usr/local/cuda/include -I/usr/include/python3.7m -c csrc/cuda/mish_kernel.cu -o build/temp.linux-x86_64-3.7/csrc/cuda/mish_kernel.o -D__CUDA_NO_HALF_OPERATORS__ -D__CUDA_NO_HALF_CONVERSIONS__ -D__CUDA_NO_BFLOAT16_CONVERSIONS__ -D__CUDA_NO_HALF2_OPERATORS__ --expt-relaxed-constexpr --compiler-options '-fPIC' --expt-extended-lambda -DTORCH_API_INCLUDE_EXTENSION_H -DPYBIND11_COMPILER_TYPE=\"_gcc\" -DPYBIND11_STDLIB=\"_libstdcpp\" -DPYBIND11_BUILD_ABI=\"_cxxabi1011\" -DTORCH_EXTENSION_NAME=_C -D_GLIBCXX_USE_CXX11_ABI=0 -gencode=arch=compute_37,code=compute_37 -gencode=arch=compute_37,code=sm_37 -std=c++14\n",
            "nvcc warning : The 'compute_35', 'compute_37', 'compute_50', 'sm_35', 'sm_37' and 'sm_50' architectures are deprecated, and may be removed in a future release (Use -Wno-deprecated-gpu-targets to suppress warning).\n",
            "x86_64-linux-gnu-g++ -pthread -shared -Wl,-O1 -Wl,-Bsymbolic-functions -Wl,-Bsymbolic-functions -Wl,-z,relro -Wl,-Bsymbolic-functions -Wl,-z,relro -g -fdebug-prefix-map=/build/python3.7-Y7dWVB/python3.7-3.7.12=. -fstack-protector-strong -Wformat -Werror=format-security -Wdate-time -D_FORTIFY_SOURCE=2 build/temp.linux-x86_64-3.7/csrc/cpu/mish_cpu.o build/temp.linux-x86_64-3.7/csrc/cuda/mish_cuda.o build/temp.linux-x86_64-3.7/csrc/cuda/mish_kernel.o -L/usr/local/lib/python3.7/dist-packages/torch/lib -L/usr/local/cuda/lib64 -lc10 -ltorch -ltorch_cpu -ltorch_python -lcudart -lc10_cuda -ltorch_cuda_cu -ltorch_cuda_cpp -o build/lib.linux-x86_64-3.7/mish_cuda/_C.cpython-37m-x86_64-linux-gnu.so\n",
            "running install\n",
            "running bdist_egg\n",
            "installing library code to build/bdist.linux-x86_64/egg\n",
            "running install_lib\n",
            "creating build/bdist.linux-x86_64\n",
            "creating build/bdist.linux-x86_64/egg\n",
            "creating build/bdist.linux-x86_64/egg/mish_cuda\n",
            "copying build/lib.linux-x86_64-3.7/mish_cuda/_C.cpython-37m-x86_64-linux-gnu.so -> build/bdist.linux-x86_64/egg/mish_cuda\n",
            "copying build/lib.linux-x86_64-3.7/mish_cuda/__init__.py -> build/bdist.linux-x86_64/egg/mish_cuda\n",
            "byte-compiling build/bdist.linux-x86_64/egg/mish_cuda/__init__.py to __init__.cpython-37.pyc\n",
            "creating stub loader for mish_cuda/_C.cpython-37m-x86_64-linux-gnu.so\n",
            "byte-compiling build/bdist.linux-x86_64/egg/mish_cuda/_C.py to _C.cpython-37.pyc\n",
            "creating build/bdist.linux-x86_64/egg/EGG-INFO\n",
            "copying src/mish_cuda.egg-info/PKG-INFO -> build/bdist.linux-x86_64/egg/EGG-INFO\n",
            "copying src/mish_cuda.egg-info/SOURCES.txt -> build/bdist.linux-x86_64/egg/EGG-INFO\n",
            "copying src/mish_cuda.egg-info/dependency_links.txt -> build/bdist.linux-x86_64/egg/EGG-INFO\n",
            "copying src/mish_cuda.egg-info/not-zip-safe -> build/bdist.linux-x86_64/egg/EGG-INFO\n",
            "copying src/mish_cuda.egg-info/requires.txt -> build/bdist.linux-x86_64/egg/EGG-INFO\n",
            "copying src/mish_cuda.egg-info/top_level.txt -> build/bdist.linux-x86_64/egg/EGG-INFO\n",
            "writing build/bdist.linux-x86_64/egg/EGG-INFO/native_libs.txt\n",
            "creating dist\n",
            "creating 'dist/mish_cuda-0.0.3-py3.7-linux-x86_64.egg' and adding 'build/bdist.linux-x86_64/egg' to it\n",
            "removing 'build/bdist.linux-x86_64/egg' (and everything under it)\n",
            "Processing mish_cuda-0.0.3-py3.7-linux-x86_64.egg\n",
            "creating /usr/local/lib/python3.7/dist-packages/mish_cuda-0.0.3-py3.7-linux-x86_64.egg\n",
            "Extracting mish_cuda-0.0.3-py3.7-linux-x86_64.egg to /usr/local/lib/python3.7/dist-packages\n",
            "Adding mish-cuda 0.0.3 to easy-install.pth file\n",
            "\n",
            "Installed /usr/local/lib/python3.7/dist-packages/mish_cuda-0.0.3-py3.7-linux-x86_64.egg\n",
            "Processing dependencies for mish-cuda==0.0.3\n",
            "Searching for torch==1.9.0+cu111\n",
            "Best match: torch 1.9.0+cu111\n",
            "Adding torch 1.9.0+cu111 to easy-install.pth file\n",
            "Installing convert-caffe2-to-onnx script to /usr/local/bin\n",
            "Installing convert-onnx-to-caffe2 script to /usr/local/bin\n",
            "\n",
            "Using /usr/local/lib/python3.7/dist-packages\n",
            "Searching for typing-extensions==3.7.4.3\n",
            "Best match: typing-extensions 3.7.4.3\n",
            "Adding typing-extensions 3.7.4.3 to easy-install.pth file\n",
            "\n",
            "Using /usr/local/lib/python3.7/dist-packages\n",
            "Finished processing dependencies for mish-cuda==0.0.3\n"
          ]
        }
      ]
    },
    {
      "cell_type": "code",
      "metadata": {
        "colab": {
          "base_uri": "https://localhost:8080/"
        },
        "id": "KtDt5MSkl8iN",
        "outputId": "2b90b2b6-0b01-49ad-a2df-912058873ddc"
      },
      "source": [
        "!pip install -U PyYAML"
      ],
      "execution_count": 5,
      "outputs": [
        {
          "output_type": "stream",
          "name": "stdout",
          "text": [
            "Requirement already satisfied: PyYAML in /usr/local/lib/python3.7/dist-packages (3.13)\n",
            "Collecting PyYAML\n",
            "  Downloading PyYAML-6.0-cp37-cp37m-manylinux_2_5_x86_64.manylinux1_x86_64.manylinux_2_12_x86_64.manylinux2010_x86_64.whl (596 kB)\n",
            "\u001b[K     |████████████████████████████████| 596 kB 5.5 MB/s \n",
            "\u001b[?25hInstalling collected packages: PyYAML\n",
            "  Attempting uninstall: PyYAML\n",
            "    Found existing installation: PyYAML 3.13\n",
            "    Uninstalling PyYAML-3.13:\n",
            "      Successfully uninstalled PyYAML-3.13\n",
            "Successfully installed PyYAML-6.0\n"
          ]
        }
      ]
    },
    {
      "cell_type": "code",
      "metadata": {
        "colab": {
          "base_uri": "https://localhost:8080/"
        },
        "id": "946yOiRymL39",
        "outputId": "ed23b125-3065-4b04-ba19-6e925f376fed"
      },
      "source": [
        "%cd /content/ScaledYOLOv4/\n",
        "!python train.py --help"
      ],
      "execution_count": null,
      "outputs": [
        {
          "output_type": "stream",
          "name": "stdout",
          "text": [
            "/content/ScaledYOLOv4\n",
            "usage: train.py [-h] [--weights WEIGHTS] [--cfg CFG] [--data DATA] [--hyp HYP]\n",
            "                [--epochs EPOCHS] [--batch-size BATCH_SIZE]\n",
            "                [--img-size IMG_SIZE [IMG_SIZE ...]] [--rect]\n",
            "                [--resume [RESUME]] [--nosave] [--notest] [--noautoanchor]\n",
            "                [--evolve] [--bucket BUCKET] [--cache-images] [--name NAME]\n",
            "                [--device DEVICE] [--multi-scale] [--single-cls] [--adam]\n",
            "                [--sync-bn] [--local_rank LOCAL_RANK] [--logdir LOGDIR]\n",
            "\n",
            "optional arguments:\n",
            "  -h, --help            show this help message and exit\n",
            "  --weights WEIGHTS     initial weights path\n",
            "  --cfg CFG             model.yaml path\n",
            "  --data DATA           data.yaml path\n",
            "  --hyp HYP             hyperparameters path, i.e. data/hyp.scratch.yaml\n",
            "  --epochs EPOCHS\n",
            "  --batch-size BATCH_SIZE\n",
            "                        total batch size for all GPUs\n",
            "  --img-size IMG_SIZE [IMG_SIZE ...]\n",
            "                        train,test sizes\n",
            "  --rect                rectangular training\n",
            "  --resume [RESUME]     resume from given path/last.pt, or most recent run if\n",
            "                        blank\n",
            "  --nosave              only save final checkpoint\n",
            "  --notest              only test final epoch\n",
            "  --noautoanchor        disable autoanchor check\n",
            "  --evolve              evolve hyperparameters\n",
            "  --bucket BUCKET       gsutil bucket\n",
            "  --cache-images        cache images for faster training\n",
            "  --name NAME           renames results.txt to results_name.txt if supplied\n",
            "  --device DEVICE       cuda device, i.e. 0 or 0,1,2,3 or cpu\n",
            "  --multi-scale         vary img-size +/- 50%\n",
            "  --single-cls          train as single-class dataset\n",
            "  --adam                use torch.optim.Adam() optimizer\n",
            "  --sync-bn             use SyncBatchNorm, only available in DDP mode\n",
            "  --local_rank LOCAL_RANK\n",
            "                        DDP parameter, do not modify\n",
            "  --logdir LOGDIR       logging directory\n"
          ]
        }
      ]
    },
    {
      "cell_type": "code",
      "metadata": {
        "id": "VUuowbUzgODH"
      },
      "source": [
        "!cp -r /content/drive/MyDrive/ScaledYolo_Data /content/"
      ],
      "execution_count": 6,
      "outputs": []
    },
    {
      "cell_type": "code",
      "metadata": {
        "colab": {
          "base_uri": "https://localhost:8080/"
        },
        "id": "ONZdamOqYMw4",
        "outputId": "75422f55-bc11-49f8-deda-91ffd49baced"
      },
      "source": [
        "#for first time download pretraineid weights\n",
        "%cd /content/\n",
        "!gdown --id 1TdKvDQb2QpP4EhOIyks8kgT8dgI1iOWT"
      ],
      "execution_count": null,
      "outputs": [
        {
          "name": "stdout",
          "output_type": "stream",
          "text": [
            "/content\n",
            "Downloading...\n",
            "From: https://drive.google.com/uc?id=1TdKvDQb2QpP4EhOIyks8kgT8dgI1iOWT\n",
            "To: /content/yolov4-csp.weights\n",
            "100% 212M/212M [00:01<00:00, 124MB/s]\n"
          ]
        }
      ]
    },
    {
      "cell_type": "code",
      "metadata": {
        "id": "iAVrw8bIMzhA"
      },
      "source": [
        "!cp -r /content/ScaledYOLOv4 /content/drive/MyDrive/Scaled_YOLOv4/"
      ],
      "execution_count": null,
      "outputs": []
    },
    {
      "cell_type": "code",
      "metadata": {
        "id": "PtpuMMUvao7W"
      },
      "source": [
        "!cp /content/drive/MyDrive/old_weights.zip /content/"
      ],
      "execution_count": null,
      "outputs": []
    },
    {
      "cell_type": "code",
      "metadata": {
        "colab": {
          "base_uri": "https://localhost:8080/"
        },
        "id": "5bwX4VOBbB0U",
        "outputId": "a1af7b59-40b6-4cb4-bcb5-d6a66d456e9f"
      },
      "source": [
        "%cd /content/\n",
        "!unzip /content/old_weights.zip"
      ],
      "execution_count": null,
      "outputs": [
        {
          "name": "stdout",
          "output_type": "stream",
          "text": [
            "/content\n",
            "Archive:  /content/old_weights.zip\n",
            "   creating: content/old_wt/\n",
            "   creating: content/old_wt/18_Oct_CSP_Scratch5/\n",
            "   creating: content/old_wt/18_Oct_CSP_Scratch5/exp0_yolov4-csp-results/\n",
            "  inflating: content/old_wt/18_Oct_CSP_Scratch5/exp0_yolov4-csp-results/test_batch0_pred.jpg  \n",
            "  inflating: content/old_wt/18_Oct_CSP_Scratch5/exp0_yolov4-csp-results/labels.png  \n",
            "  inflating: content/old_wt/18_Oct_CSP_Scratch5/exp0_yolov4-csp-results/hyp.yaml  \n",
            "  inflating: content/old_wt/18_Oct_CSP_Scratch5/exp0_yolov4-csp-results/events.out.tfevents.1634557450.b8b2e1eaea28.3460.0  \n",
            "   creating: content/old_wt/18_Oct_CSP_Scratch5/exp0_yolov4-csp-results/weights/\n",
            "  inflating: content/old_wt/18_Oct_CSP_Scratch5/exp0_yolov4-csp-results/weights/best.pt  \n",
            "  inflating: content/old_wt/18_Oct_CSP_Scratch5/exp0_yolov4-csp-results/weights/last.pt  \n",
            "  inflating: content/old_wt/18_Oct_CSP_Scratch5/exp0_yolov4-csp-results/test_batch0_gt.jpg  \n",
            "  inflating: content/old_wt/18_Oct_CSP_Scratch5/exp0_yolov4-csp-results/opt.yaml  \n",
            "  inflating: content/old_wt/18_Oct_CSP_Scratch5/exp0_yolov4-csp-results/results.txt  \n",
            "   creating: content/old_wt/19_Oct_CSP_Scratch2/\n",
            "   creating: content/old_wt/19_Oct_CSP_Scratch2/exp0_yolov4-csp-results/\n",
            "  inflating: content/old_wt/19_Oct_CSP_Scratch2/exp0_yolov4-csp-results/events.out.tfevents.1634625632.515eb89829b3.472.0  \n",
            "  inflating: content/old_wt/19_Oct_CSP_Scratch2/exp0_yolov4-csp-results/test_batch0_pred.jpg  \n",
            "  inflating: content/old_wt/19_Oct_CSP_Scratch2/exp0_yolov4-csp-results/labels.png  \n",
            "  inflating: content/old_wt/19_Oct_CSP_Scratch2/exp0_yolov4-csp-results/hyp.yaml  \n",
            "   creating: content/old_wt/19_Oct_CSP_Scratch2/exp0_yolov4-csp-results/weights/\n",
            "  inflating: content/old_wt/19_Oct_CSP_Scratch2/exp0_yolov4-csp-results/weights/best.pt  \n",
            "  inflating: content/old_wt/19_Oct_CSP_Scratch2/exp0_yolov4-csp-results/weights/last.pt  \n",
            "  inflating: content/old_wt/19_Oct_CSP_Scratch2/exp0_yolov4-csp-results/test_batch0_gt.jpg  \n",
            "  inflating: content/old_wt/19_Oct_CSP_Scratch2/exp0_yolov4-csp-results/opt.yaml  \n",
            "  inflating: content/old_wt/19_Oct_CSP_Scratch2/exp0_yolov4-csp-results/results.txt  \n",
            "   creating: content/old_wt/14_Oct_CSP_Scratch3/\n",
            "   creating: content/old_wt/14_Oct_CSP_Scratch3/exp0_yolov4-csp-results/\n",
            "  inflating: content/old_wt/14_Oct_CSP_Scratch3/exp0_yolov4-csp-results/events.out.tfevents.1634207702.7da7d14cee45.568.0  \n",
            "  inflating: content/old_wt/14_Oct_CSP_Scratch3/exp0_yolov4-csp-results/test_batch0_pred.jpg  \n",
            "  inflating: content/old_wt/14_Oct_CSP_Scratch3/exp0_yolov4-csp-results/labels.png  \n",
            "  inflating: content/old_wt/14_Oct_CSP_Scratch3/exp0_yolov4-csp-results/hyp.yaml  \n",
            "   creating: content/old_wt/14_Oct_CSP_Scratch3/exp0_yolov4-csp-results/weights/\n",
            "  inflating: content/old_wt/14_Oct_CSP_Scratch3/exp0_yolov4-csp-results/weights/best.pt  \n",
            "  inflating: content/old_wt/14_Oct_CSP_Scratch3/exp0_yolov4-csp-results/weights/last.pt  \n",
            "  inflating: content/old_wt/14_Oct_CSP_Scratch3/exp0_yolov4-csp-results/test_batch0_gt.jpg  \n",
            "  inflating: content/old_wt/14_Oct_CSP_Scratch3/exp0_yolov4-csp-results/opt.yaml  \n",
            "  inflating: content/old_wt/14_Oct_CSP_Scratch3/exp0_yolov4-csp-results/results.txt  \n"
          ]
        }
      ]
    },
    {
      "cell_type": "code",
      "metadata": {
        "colab": {
          "base_uri": "https://localhost:8080/"
        },
        "id": "mOz5jjZYf89n",
        "outputId": "cbcaeedd-434e-40d2-9fd0-322db588ddde"
      },
      "source": [
        "%cd /content/ScaledYOLOv4/\n",
        "!python train.py --img 608 --batch 4 --epochs 700 --data /content/ScaledYOLOv4/data/coco.yaml --cfg /content/ScaledYOLOv4/models/yolov4-csp.yaml --weights '/content/drive/MyDrive/8_Nov_CSP_Scratch_608_2/exp0_yolov4-csp-results/weights/last.pt' --name yolov4-csp-results --logdir '/content/drive/MyDrive/8_Nov_CSP_Scratch_608_3/' --hyp /content/ScaledYOLOv4/data/hyp.scratch.yaml"
      ],
      "execution_count": 7,
      "outputs": [
        {
          "output_type": "stream",
          "name": "stdout",
          "text": [
            "/content/ScaledYOLOv4\n",
            "Using CUDA device0 _CudaDeviceProperties(name='Tesla K80', total_memory=11441MB)\n",
            "\n",
            "Namespace(adam=False, batch_size=4, bucket='', cache_images=False, cfg='/content/ScaledYOLOv4/models/yolov4-csp.yaml', data='/content/ScaledYOLOv4/data/coco.yaml', device='', epochs=700, evolve=False, global_rank=-1, hyp='/content/ScaledYOLOv4/data/hyp.scratch.yaml', img_size=[608, 608], local_rank=-1, logdir='/content/drive/MyDrive/8_Nov_CSP_Scratch_608_3/', multi_scale=False, name='yolov4-csp-results', noautoanchor=False, nosave=False, notest=False, rect=False, resume=False, single_cls=False, sync_bn=False, total_batch_size=4, weights='/content/drive/MyDrive/8_Nov_CSP_Scratch_608_2/exp0_yolov4-csp-results/weights/last.pt', world_size=1)\n",
            "Start Tensorboard with \"tensorboard --logdir /content/drive/MyDrive/8_Nov_CSP_Scratch_608_3/\", view at http://localhost:6006/\n",
            "Hyperparameters {'lr0': 0.01, 'momentum': 0.937, 'weight_decay': 0.0005, 'giou': 0.05, 'cls': 0.5, 'cls_pw': 1.0, 'obj': 1.0, 'obj_pw': 1.0, 'iou_t': 0.2, 'anchor_t': 4.0, 'fl_gamma': 0.0, 'hsv_h': 0.015, 'hsv_s': 0.7, 'hsv_v': 0.4, 'degrees': 0.0, 'translate': 0.5, 'scale': 0.5, 'shear': 0.0, 'perspective': 0.0, 'flipud': 0.0, 'fliplr': 0.5, 'mixup': 0.0}\n",
            "\n",
            "                 from  n    params  module                                  arguments                     \n",
            "  0                -1  1       928  models.common.Conv                      [3, 32, 3, 1]                 \n",
            "  1                -1  1     18560  models.common.Conv                      [32, 64, 3, 2]                \n",
            "  2                -1  1     20672  models.common.Bottleneck                [64, 64]                      \n",
            "  3                -1  1     73984  models.common.Conv                      [64, 128, 3, 2]               \n",
            "  4                -1  1    119936  models.common.BottleneckCSP             [128, 128, 2]                 \n",
            "  5                -1  1    295424  models.common.Conv                      [128, 256, 3, 2]              \n",
            "  6                -1  1   1463552  models.common.BottleneckCSP             [256, 256, 8]                 \n",
            "  7                -1  1   1180672  models.common.Conv                      [256, 512, 3, 2]              \n",
            "  8                -1  1   5843456  models.common.BottleneckCSP             [512, 512, 8]                 \n",
            "  9                -1  1   4720640  models.common.Conv                      [512, 1024, 3, 2]             \n",
            " 10                -1  1  12858368  models.common.BottleneckCSP             [1024, 1024, 4]               \n",
            " 11                -1  1   7610368  models.common.SPPCSP                    [1024, 512, 1]                \n",
            " 12                -1  1    131584  models.common.Conv                      [512, 256, 1, 1]              \n",
            " 13                -1  1         0  torch.nn.modules.upsampling.Upsample    [None, 2, 'nearest']          \n",
            " 14                 8  1    131584  models.common.Conv                      [512, 256, 1, 1]              \n",
            " 15          [-1, -2]  1         0  models.common.Concat                    [1]                           \n",
            " 16                -1  1   1642496  models.common.BottleneckCSP2            [512, 256, 2]                 \n",
            " 17                -1  1     33024  models.common.Conv                      [256, 128, 1, 1]              \n",
            " 18                -1  1         0  torch.nn.modules.upsampling.Upsample    [None, 2, 'nearest']          \n",
            " 19                 6  1     33024  models.common.Conv                      [256, 128, 1, 1]              \n",
            " 20          [-1, -2]  1         0  models.common.Concat                    [1]                           \n",
            " 21                -1  1    411648  models.common.BottleneckCSP2            [256, 128, 2]                 \n",
            " 22                -1  1    295424  models.common.Conv                      [128, 256, 3, 1]              \n",
            " 23                -2  1    295424  models.common.Conv                      [128, 256, 3, 2]              \n",
            " 24          [-1, 16]  1         0  models.common.Concat                    [1]                           \n",
            " 25                -1  1   1642496  models.common.BottleneckCSP2            [512, 256, 2]                 \n",
            " 26                -1  1   1180672  models.common.Conv                      [256, 512, 3, 1]              \n",
            " 27                -2  1   1180672  models.common.Conv                      [256, 512, 3, 2]              \n",
            " 28          [-1, 11]  1         0  models.common.Concat                    [1]                           \n",
            " 29                -1  1   6561792  models.common.BottleneckCSP2            [1024, 512, 2]                \n",
            " 30                -1  1   4720640  models.common.Conv                      [512, 1024, 3, 1]             \n",
            " 31      [22, 26, 30]  1     43080  models.yolo.Detect                      [3, [[12, 16, 19, 36, 40, 28], [36, 75, 76, 55, 72, 146], [142, 110, 192, 243, 459, 401]], [256, 512, 1024]]\n",
            "/usr/local/lib/python3.7/dist-packages/torch/nn/functional.py:718: UserWarning: Named tensors and all their associated APIs are an experimental feature and subject to change. Please do not use them for anything important until they are released as stable. (Triggered internally at  /pytorch/c10/core/TensorImpl.h:1156.)\n",
            "  return torch.max_pool2d(input, kernel_size, stride, padding, dilation, ceil_mode)\n",
            "Model Summary: 334 layers, 5.25101e+07 parameters, 5.25101e+07 gradients\n",
            "\n",
            "Transferred 658/660 items from /content/drive/MyDrive/8_Nov_CSP_Scratch_608_2/exp0_yolov4-csp-results/weights/last.pt\n",
            "Optimizer groups: 111 .bias, 115 conv.weight, 108 other\n",
            "/content/drive/MyDrive/8_Nov_CSP_Scratch_608_2/exp0_yolov4-csp-results/weights/last.pt has been trained for 1417 epochs. Fine-tuning for 700 additional epochs.\n",
            "Scanning images: 100% 394/394 [00:00<00:00, 4005.38it/s]\n",
            "Scanning labels /content/ScaledYolo_Data/train.cache (394 found, 0 missing, 0 empty, 0 duplicate, for 394 images): 100% 394/394 [00:00<00:00, 10852.44it/s]\n",
            "Scanning images: 100% 53/53 [00:00<00:00, 3328.86it/s]\n",
            "Scanning labels /content/ScaledYolo_Data/val.cache (53 found, 0 missing, 0 empty, 0 duplicate, for 53 images): 100% 53/53 [00:00<00:00, 5936.66it/s]\n",
            "\n",
            "Analyzing anchors... anchors/target = 2.89, Best Possible Recall (BPR) = 0.9623. Attempting to generate improved anchors, please wait...\n",
            "Running kmeans for 9 anchors on 663 points...\n",
            "thr=0.25: 0.9578 best possible recall, 5.12 anchors past thr\n",
            "n=9, img_size=608, metric_all=0.333/0.687-mean/best, past_thr=0.487-mean: 28,105,  40,264,  154,192,  70,551,  112,390,  170,572,  284,359,  311,574,  498,483\n",
            "Evolving anchors with Genetic Algorithm: fitness = 0.7322: 100% 1000/1000 [00:00<00:00, 2044.89it/s]\n",
            "thr=0.25: 1.0000 best possible recall, 4.93 anchors past thr\n",
            "n=9, img_size=608, metric_all=0.330/0.732-mean/best, past_thr=0.491-mean: 12,80,  24,226,  72,121,  47,441,  106,294,  100,553,  167,557,  303,366,  356,580\n",
            "New anchors saved to model. Update model *.yaml to use these anchors in the future.\n",
            "\n",
            "Image sizes 608 train, 608 test\n",
            "Using 2 dataloader workers\n",
            "Starting training for 2117 epochs...\n",
            "\n",
            "     Epoch   gpu_mem      GIoU       obj       cls     total   targets  img_size\n",
            " 1418/2116     3.73G   0.03499  0.009611 0.0003226   0.04493         2       608: 100% 99/99 [02:33<00:00,  1.55s/it]\n",
            "               Class      Images     Targets           P           R      mAP@.5  mAP@.5:.95:   0% 0/14 [00:00<?, ?it/s][W pthreadpool-cpp.cc:90] Warning: Leaking Caffe2 thread-pool after fork. (function pthreadpool)\n",
            "[W pthreadpool-cpp.cc:90] Warning: Leaking Caffe2 thread-pool after fork. (function pthreadpool)\n",
            "               Class      Images     Targets           P           R      mAP@.5  mAP@.5:.95: 100% 14/14 [00:10<00:00,  1.31it/s]\n",
            "                 all          53         103       0.111       0.445       0.108      0.0358\n",
            "[W pthreadpool-cpp.cc:90] Warning: Leaking Caffe2 thread-pool after fork. (function pthreadpool)\n",
            "[W pthreadpool-cpp.cc:90] Warning: Leaking Caffe2 thread-pool after fork. (function pthreadpool)\n",
            "\n",
            "     Epoch   gpu_mem      GIoU       obj       cls     total   targets  img_size\n",
            " 1419/2116     3.71G   0.02127  0.008413 0.0003547   0.03004         4       608: 100% 99/99 [02:02<00:00,  1.23s/it]\n",
            "               Class      Images     Targets           P           R      mAP@.5  mAP@.5:.95:   0% 0/14 [00:00<?, ?it/s][W pthreadpool-cpp.cc:90] Warning: Leaking Caffe2 thread-pool after fork. (function pthreadpool)\n",
            "[W pthreadpool-cpp.cc:90] Warning: Leaking Caffe2 thread-pool after fork. (function pthreadpool)\n",
            "               Class      Images     Targets           P           R      mAP@.5  mAP@.5:.95: 100% 14/14 [00:05<00:00,  2.42it/s]\n",
            "                 all          53         103       0.141       0.488       0.151      0.0382\n",
            "[W pthreadpool-cpp.cc:90] Warning: Leaking Caffe2 thread-pool after fork. (function pthreadpool)\n",
            "[W pthreadpool-cpp.cc:90] Warning: Leaking Caffe2 thread-pool after fork. (function pthreadpool)\n",
            "\n",
            "     Epoch   gpu_mem      GIoU       obj       cls     total   targets  img_size\n",
            " 1420/2116     3.71G   0.01509  0.007029 0.0003513   0.02247         7       608: 100% 99/99 [02:01<00:00,  1.23s/it]\n",
            "               Class      Images     Targets           P           R      mAP@.5  mAP@.5:.95:   0% 0/14 [00:00<?, ?it/s][W pthreadpool-cpp.cc:90] Warning: Leaking Caffe2 thread-pool after fork. (function pthreadpool)\n",
            "[W pthreadpool-cpp.cc:90] Warning: Leaking Caffe2 thread-pool after fork. (function pthreadpool)\n",
            "               Class      Images     Targets           P           R      mAP@.5  mAP@.5:.95: 100% 14/14 [00:05<00:00,  2.41it/s]\n",
            "                 all          53         103       0.165       0.517       0.205      0.0409\n",
            "[W pthreadpool-cpp.cc:90] Warning: Leaking Caffe2 thread-pool after fork. (function pthreadpool)\n",
            "[W pthreadpool-cpp.cc:90] Warning: Leaking Caffe2 thread-pool after fork. (function pthreadpool)\n",
            "\n",
            "     Epoch   gpu_mem      GIoU       obj       cls     total   targets  img_size\n",
            " 1421/2116     3.71G   0.01201  0.006637 0.0004268   0.01908         6       608: 100% 99/99 [02:01<00:00,  1.23s/it]\n",
            "               Class      Images     Targets           P           R      mAP@.5  mAP@.5:.95:   0% 0/14 [00:00<?, ?it/s][W pthreadpool-cpp.cc:90] Warning: Leaking Caffe2 thread-pool after fork. (function pthreadpool)\n",
            "[W pthreadpool-cpp.cc:90] Warning: Leaking Caffe2 thread-pool after fork. (function pthreadpool)\n",
            "               Class      Images     Targets           P           R      mAP@.5  mAP@.5:.95: 100% 14/14 [00:05<00:00,  2.40it/s]\n",
            "                 all          53         103       0.186       0.521       0.243      0.0613\n",
            "[W pthreadpool-cpp.cc:90] Warning: Leaking Caffe2 thread-pool after fork. (function pthreadpool)\n",
            "[W pthreadpool-cpp.cc:90] Warning: Leaking Caffe2 thread-pool after fork. (function pthreadpool)\n",
            "\n",
            "     Epoch   gpu_mem      GIoU       obj       cls     total   targets  img_size\n",
            " 1422/2116     3.71G     0.012  0.006393 0.0003941   0.01879         7       608: 100% 99/99 [02:01<00:00,  1.23s/it]\n",
            "               Class      Images     Targets           P           R      mAP@.5  mAP@.5:.95:   0% 0/14 [00:00<?, ?it/s][W pthreadpool-cpp.cc:90] Warning: Leaking Caffe2 thread-pool after fork. (function pthreadpool)\n",
            "[W pthreadpool-cpp.cc:90] Warning: Leaking Caffe2 thread-pool after fork. (function pthreadpool)\n",
            "               Class      Images     Targets           P           R      mAP@.5  mAP@.5:.95: 100% 14/14 [00:05<00:00,  2.40it/s]\n",
            "                 all          53         103       0.207       0.525        0.28      0.0767\n",
            "[W pthreadpool-cpp.cc:90] Warning: Leaking Caffe2 thread-pool after fork. (function pthreadpool)\n",
            "[W pthreadpool-cpp.cc:90] Warning: Leaking Caffe2 thread-pool after fork. (function pthreadpool)\n",
            "\n",
            "     Epoch   gpu_mem      GIoU       obj       cls     total   targets  img_size\n",
            " 1423/2116     3.71G   0.01103  0.005807 0.0003444   0.01718         5       608: 100% 99/99 [02:01<00:00,  1.23s/it]\n",
            "               Class      Images     Targets           P           R      mAP@.5  mAP@.5:.95:   0% 0/14 [00:00<?, ?it/s][W pthreadpool-cpp.cc:90] Warning: Leaking Caffe2 thread-pool after fork. (function pthreadpool)\n",
            "[W pthreadpool-cpp.cc:90] Warning: Leaking Caffe2 thread-pool after fork. (function pthreadpool)\n",
            "               Class      Images     Targets           P           R      mAP@.5  mAP@.5:.95: 100% 14/14 [00:05<00:00,  2.41it/s]\n",
            "                 all          53         103       0.221       0.525       0.292      0.0964\n",
            "[W pthreadpool-cpp.cc:90] Warning: Leaking Caffe2 thread-pool after fork. (function pthreadpool)\n",
            "[W pthreadpool-cpp.cc:90] Warning: Leaking Caffe2 thread-pool after fork. (function pthreadpool)\n",
            "\n",
            "     Epoch   gpu_mem      GIoU       obj       cls     total   targets  img_size\n",
            " 1424/2116     3.71G   0.01152  0.005875 0.0003272   0.01772         2       608: 100% 99/99 [02:01<00:00,  1.23s/it]\n",
            "               Class      Images     Targets           P           R      mAP@.5  mAP@.5:.95:   0% 0/14 [00:00<?, ?it/s][W pthreadpool-cpp.cc:90] Warning: Leaking Caffe2 thread-pool after fork. (function pthreadpool)\n",
            "[W pthreadpool-cpp.cc:90] Warning: Leaking Caffe2 thread-pool after fork. (function pthreadpool)\n",
            "               Class      Images     Targets           P           R      mAP@.5  mAP@.5:.95: 100% 14/14 [00:05<00:00,  2.41it/s]\n",
            "                 all          53         103       0.243       0.561       0.354      0.0926\n",
            "[W pthreadpool-cpp.cc:90] Warning: Leaking Caffe2 thread-pool after fork. (function pthreadpool)\n",
            "[W pthreadpool-cpp.cc:90] Warning: Leaking Caffe2 thread-pool after fork. (function pthreadpool)\n",
            "\n",
            "     Epoch   gpu_mem      GIoU       obj       cls     total   targets  img_size\n",
            " 1425/2116     3.71G   0.01142  0.006044 0.0003989   0.01787         3       608: 100% 99/99 [02:01<00:00,  1.23s/it]\n",
            "               Class      Images     Targets           P           R      mAP@.5  mAP@.5:.95:   0% 0/14 [00:00<?, ?it/s][W pthreadpool-cpp.cc:90] Warning: Leaking Caffe2 thread-pool after fork. (function pthreadpool)\n",
            "[W pthreadpool-cpp.cc:90] Warning: Leaking Caffe2 thread-pool after fork. (function pthreadpool)\n",
            "               Class      Images     Targets           P           R      mAP@.5  mAP@.5:.95: 100% 14/14 [00:05<00:00,  2.41it/s]\n",
            "                 all          53         103       0.267       0.589        0.38      0.0947\n",
            "[W pthreadpool-cpp.cc:90] Warning: Leaking Caffe2 thread-pool after fork. (function pthreadpool)\n",
            "[W pthreadpool-cpp.cc:90] Warning: Leaking Caffe2 thread-pool after fork. (function pthreadpool)\n",
            "\n",
            "     Epoch   gpu_mem      GIoU       obj       cls     total   targets  img_size\n",
            " 1426/2116     3.71G   0.01097  0.005597 0.0004372     0.017         2       608: 100% 99/99 [02:01<00:00,  1.23s/it]\n",
            "               Class      Images     Targets           P           R      mAP@.5  mAP@.5:.95:   0% 0/14 [00:00<?, ?it/s][W pthreadpool-cpp.cc:90] Warning: Leaking Caffe2 thread-pool after fork. (function pthreadpool)\n",
            "[W pthreadpool-cpp.cc:90] Warning: Leaking Caffe2 thread-pool after fork. (function pthreadpool)\n",
            "               Class      Images     Targets           P           R      mAP@.5  mAP@.5:.95: 100% 14/14 [00:05<00:00,  2.41it/s]\n",
            "                 all          53         103       0.279        0.59       0.436       0.102\n",
            "[W pthreadpool-cpp.cc:90] Warning: Leaking Caffe2 thread-pool after fork. (function pthreadpool)\n",
            "[W pthreadpool-cpp.cc:90] Warning: Leaking Caffe2 thread-pool after fork. (function pthreadpool)\n",
            "\n",
            "     Epoch   gpu_mem      GIoU       obj       cls     total   targets  img_size\n",
            " 1427/2116     3.71G   0.01068  0.005604 0.0003892   0.01667         3       608: 100% 99/99 [02:01<00:00,  1.23s/it]\n",
            "               Class      Images     Targets           P           R      mAP@.5  mAP@.5:.95:   0% 0/14 [00:00<?, ?it/s][W pthreadpool-cpp.cc:90] Warning: Leaking Caffe2 thread-pool after fork. (function pthreadpool)\n",
            "[W pthreadpool-cpp.cc:90] Warning: Leaking Caffe2 thread-pool after fork. (function pthreadpool)\n",
            "               Class      Images     Targets           P           R      mAP@.5  mAP@.5:.95: 100% 14/14 [00:05<00:00,  2.41it/s]\n",
            "                 all          53         103       0.298       0.598       0.448       0.118\n",
            "[W pthreadpool-cpp.cc:90] Warning: Leaking Caffe2 thread-pool after fork. (function pthreadpool)\n",
            "[W pthreadpool-cpp.cc:90] Warning: Leaking Caffe2 thread-pool after fork. (function pthreadpool)\n",
            "\n",
            "     Epoch   gpu_mem      GIoU       obj       cls     total   targets  img_size\n",
            " 1428/2116     3.71G    0.0115  0.006006 0.0003404   0.01784         5       608: 100% 99/99 [02:01<00:00,  1.23s/it]\n",
            "               Class      Images     Targets           P           R      mAP@.5  mAP@.5:.95:   0% 0/14 [00:00<?, ?it/s][W pthreadpool-cpp.cc:90] Warning: Leaking Caffe2 thread-pool after fork. (function pthreadpool)\n",
            "[W pthreadpool-cpp.cc:90] Warning: Leaking Caffe2 thread-pool after fork. (function pthreadpool)\n",
            "               Class      Images     Targets           P           R      mAP@.5  mAP@.5:.95: 100% 14/14 [00:05<00:00,  2.41it/s]\n",
            "                 all          53         103       0.302       0.583       0.453       0.137\n",
            "[W pthreadpool-cpp.cc:90] Warning: Leaking Caffe2 thread-pool after fork. (function pthreadpool)\n",
            "[W pthreadpool-cpp.cc:90] Warning: Leaking Caffe2 thread-pool after fork. (function pthreadpool)\n",
            "\n",
            "     Epoch   gpu_mem      GIoU       obj       cls     total   targets  img_size\n",
            " 1429/2116     3.71G    0.0114  0.005719  0.000362   0.01748         5       608: 100% 99/99 [02:01<00:00,  1.23s/it]\n",
            "               Class      Images     Targets           P           R      mAP@.5  mAP@.5:.95:   0% 0/14 [00:00<?, ?it/s][W pthreadpool-cpp.cc:90] Warning: Leaking Caffe2 thread-pool after fork. (function pthreadpool)\n",
            "[W pthreadpool-cpp.cc:90] Warning: Leaking Caffe2 thread-pool after fork. (function pthreadpool)\n",
            "               Class      Images     Targets           P           R      mAP@.5  mAP@.5:.95: 100% 14/14 [00:05<00:00,  2.40it/s]\n",
            "                 all          53         103       0.345       0.626       0.479       0.156\n",
            "[W pthreadpool-cpp.cc:90] Warning: Leaking Caffe2 thread-pool after fork. (function pthreadpool)\n",
            "[W pthreadpool-cpp.cc:90] Warning: Leaking Caffe2 thread-pool after fork. (function pthreadpool)\n",
            "\n",
            "     Epoch   gpu_mem      GIoU       obj       cls     total   targets  img_size\n",
            " 1430/2116     3.71G   0.01026  0.005344 0.0003839   0.01599         3       608: 100% 99/99 [02:01<00:00,  1.23s/it]\n",
            "               Class      Images     Targets           P           R      mAP@.5  mAP@.5:.95:   0% 0/14 [00:00<?, ?it/s][W pthreadpool-cpp.cc:90] Warning: Leaking Caffe2 thread-pool after fork. (function pthreadpool)\n",
            "[W pthreadpool-cpp.cc:90] Warning: Leaking Caffe2 thread-pool after fork. (function pthreadpool)\n",
            "               Class      Images     Targets           P           R      mAP@.5  mAP@.5:.95: 100% 14/14 [00:05<00:00,  2.41it/s]\n",
            "                 all          53         103       0.378       0.639       0.504       0.182\n",
            "[W pthreadpool-cpp.cc:90] Warning: Leaking Caffe2 thread-pool after fork. (function pthreadpool)\n",
            "[W pthreadpool-cpp.cc:90] Warning: Leaking Caffe2 thread-pool after fork. (function pthreadpool)\n",
            "\n",
            "     Epoch   gpu_mem      GIoU       obj       cls     total   targets  img_size\n",
            " 1431/2116     3.71G    0.0105   0.00605  0.000328   0.01688         7       608: 100% 99/99 [02:01<00:00,  1.23s/it]\n",
            "               Class      Images     Targets           P           R      mAP@.5  mAP@.5:.95:   0% 0/14 [00:00<?, ?it/s][W pthreadpool-cpp.cc:90] Warning: Leaking Caffe2 thread-pool after fork. (function pthreadpool)\n",
            "[W pthreadpool-cpp.cc:90] Warning: Leaking Caffe2 thread-pool after fork. (function pthreadpool)\n",
            "               Class      Images     Targets           P           R      mAP@.5  mAP@.5:.95: 100% 14/14 [00:05<00:00,  2.40it/s]\n",
            "                 all          53         103         0.4       0.618        0.52       0.197\n",
            "[W pthreadpool-cpp.cc:90] Warning: Leaking Caffe2 thread-pool after fork. (function pthreadpool)\n",
            "[W pthreadpool-cpp.cc:90] Warning: Leaking Caffe2 thread-pool after fork. (function pthreadpool)\n",
            "\n",
            "     Epoch   gpu_mem      GIoU       obj       cls     total   targets  img_size\n",
            " 1432/2116     3.71G   0.01099  0.005708 0.0002968   0.01699         5       608: 100% 99/99 [02:01<00:00,  1.23s/it]\n",
            "               Class      Images     Targets           P           R      mAP@.5  mAP@.5:.95:   0% 0/14 [00:00<?, ?it/s][W pthreadpool-cpp.cc:90] Warning: Leaking Caffe2 thread-pool after fork. (function pthreadpool)\n",
            "[W pthreadpool-cpp.cc:90] Warning: Leaking Caffe2 thread-pool after fork. (function pthreadpool)\n",
            "               Class      Images     Targets           P           R      mAP@.5  mAP@.5:.95: 100% 14/14 [00:05<00:00,  2.42it/s]\n",
            "                 all          53         103       0.425       0.616       0.526       0.218\n",
            "[W pthreadpool-cpp.cc:90] Warning: Leaking Caffe2 thread-pool after fork. (function pthreadpool)\n",
            "[W pthreadpool-cpp.cc:90] Warning: Leaking Caffe2 thread-pool after fork. (function pthreadpool)\n",
            "\n",
            "     Epoch   gpu_mem      GIoU       obj       cls     total   targets  img_size\n",
            " 1433/2116     3.71G   0.01055  0.005474 0.0002755    0.0163         1       608: 100% 99/99 [02:01<00:00,  1.23s/it]\n",
            "               Class      Images     Targets           P           R      mAP@.5  mAP@.5:.95:   0% 0/14 [00:00<?, ?it/s][W pthreadpool-cpp.cc:90] Warning: Leaking Caffe2 thread-pool after fork. (function pthreadpool)\n",
            "[W pthreadpool-cpp.cc:90] Warning: Leaking Caffe2 thread-pool after fork. (function pthreadpool)\n",
            "               Class      Images     Targets           P           R      mAP@.5  mAP@.5:.95: 100% 14/14 [00:05<00:00,  2.41it/s]\n",
            "                 all          53         103       0.463       0.617        0.56       0.242\n",
            "[W pthreadpool-cpp.cc:90] Warning: Leaking Caffe2 thread-pool after fork. (function pthreadpool)\n",
            "[W pthreadpool-cpp.cc:90] Warning: Leaking Caffe2 thread-pool after fork. (function pthreadpool)\n",
            "\n",
            "     Epoch   gpu_mem      GIoU       obj       cls     total   targets  img_size\n",
            " 1434/2116     3.71G   0.01085  0.005358 0.0002598   0.01647         5       608: 100% 99/99 [02:01<00:00,  1.23s/it]\n",
            "               Class      Images     Targets           P           R      mAP@.5  mAP@.5:.95:   0% 0/14 [00:00<?, ?it/s][W pthreadpool-cpp.cc:90] Warning: Leaking Caffe2 thread-pool after fork. (function pthreadpool)\n",
            "[W pthreadpool-cpp.cc:90] Warning: Leaking Caffe2 thread-pool after fork. (function pthreadpool)\n",
            "               Class      Images     Targets           P           R      mAP@.5  mAP@.5:.95: 100% 14/14 [00:05<00:00,  2.41it/s]\n",
            "                 all          53         103       0.526        0.62       0.605       0.277\n",
            "[W pthreadpool-cpp.cc:90] Warning: Leaking Caffe2 thread-pool after fork. (function pthreadpool)\n",
            "[W pthreadpool-cpp.cc:90] Warning: Leaking Caffe2 thread-pool after fork. (function pthreadpool)\n",
            "\n",
            "     Epoch   gpu_mem      GIoU       obj       cls     total   targets  img_size\n",
            " 1435/2116     3.71G    0.0111  0.005517 0.0002825    0.0169         4       608: 100% 99/99 [02:01<00:00,  1.23s/it]\n",
            "               Class      Images     Targets           P           R      mAP@.5  mAP@.5:.95:   0% 0/14 [00:00<?, ?it/s][W pthreadpool-cpp.cc:90] Warning: Leaking Caffe2 thread-pool after fork. (function pthreadpool)\n",
            "[W pthreadpool-cpp.cc:90] Warning: Leaking Caffe2 thread-pool after fork. (function pthreadpool)\n",
            "               Class      Images     Targets           P           R      mAP@.5  mAP@.5:.95: 100% 14/14 [00:05<00:00,  2.42it/s]\n",
            "                 all          53         103       0.549        0.62       0.612       0.292\n",
            "[W pthreadpool-cpp.cc:90] Warning: Leaking Caffe2 thread-pool after fork. (function pthreadpool)\n",
            "[W pthreadpool-cpp.cc:90] Warning: Leaking Caffe2 thread-pool after fork. (function pthreadpool)\n",
            "\n",
            "     Epoch   gpu_mem      GIoU       obj       cls     total   targets  img_size\n",
            " 1436/2116     3.71G   0.01092  0.006258 0.0002663   0.01744         4       608: 100% 99/99 [02:01<00:00,  1.23s/it]\n",
            "               Class      Images     Targets           P           R      mAP@.5  mAP@.5:.95:   0% 0/14 [00:00<?, ?it/s][W pthreadpool-cpp.cc:90] Warning: Leaking Caffe2 thread-pool after fork. (function pthreadpool)\n",
            "[W pthreadpool-cpp.cc:90] Warning: Leaking Caffe2 thread-pool after fork. (function pthreadpool)\n",
            "               Class      Images     Targets           P           R      mAP@.5  mAP@.5:.95: 100% 14/14 [00:05<00:00,  2.42it/s]\n",
            "                 all          53         103        0.58       0.618       0.619       0.306\n",
            "[W pthreadpool-cpp.cc:90] Warning: Leaking Caffe2 thread-pool after fork. (function pthreadpool)\n",
            "[W pthreadpool-cpp.cc:90] Warning: Leaking Caffe2 thread-pool after fork. (function pthreadpool)\n",
            "\n",
            "     Epoch   gpu_mem      GIoU       obj       cls     total   targets  img_size\n",
            " 1437/2116     3.71G   0.01092  0.005804  0.000352   0.01708         3       608: 100% 99/99 [02:01<00:00,  1.23s/it]\n",
            "               Class      Images     Targets           P           R      mAP@.5  mAP@.5:.95:   0% 0/14 [00:00<?, ?it/s][W pthreadpool-cpp.cc:90] Warning: Leaking Caffe2 thread-pool after fork. (function pthreadpool)\n",
            "[W pthreadpool-cpp.cc:90] Warning: Leaking Caffe2 thread-pool after fork. (function pthreadpool)\n",
            "               Class      Images     Targets           P           R      mAP@.5  mAP@.5:.95: 100% 14/14 [00:05<00:00,  2.42it/s]\n",
            "                 all          53         103       0.599       0.606       0.633       0.329\n",
            "[W pthreadpool-cpp.cc:90] Warning: Leaking Caffe2 thread-pool after fork. (function pthreadpool)\n",
            "[W pthreadpool-cpp.cc:90] Warning: Leaking Caffe2 thread-pool after fork. (function pthreadpool)\n",
            "\n",
            "     Epoch   gpu_mem      GIoU       obj       cls     total   targets  img_size\n",
            " 1438/2116     3.71G   0.01022  0.005465 0.0003234   0.01601         4       608: 100% 99/99 [02:01<00:00,  1.23s/it]\n",
            "               Class      Images     Targets           P           R      mAP@.5  mAP@.5:.95:   0% 0/14 [00:00<?, ?it/s][W pthreadpool-cpp.cc:90] Warning: Leaking Caffe2 thread-pool after fork. (function pthreadpool)\n",
            "[W pthreadpool-cpp.cc:90] Warning: Leaking Caffe2 thread-pool after fork. (function pthreadpool)\n",
            "               Class      Images     Targets           P           R      mAP@.5  mAP@.5:.95: 100% 14/14 [00:05<00:00,  2.41it/s]\n",
            "                 all          53         103       0.606        0.59       0.636       0.342\n",
            "[W pthreadpool-cpp.cc:90] Warning: Leaking Caffe2 thread-pool after fork. (function pthreadpool)\n",
            "[W pthreadpool-cpp.cc:90] Warning: Leaking Caffe2 thread-pool after fork. (function pthreadpool)\n",
            "\n",
            "     Epoch   gpu_mem      GIoU       obj       cls     total   targets  img_size\n",
            " 1439/2116     3.71G   0.01024  0.005474  0.000383    0.0161         5       608: 100% 99/99 [02:01<00:00,  1.23s/it]\n",
            "               Class      Images     Targets           P           R      mAP@.5  mAP@.5:.95:   0% 0/14 [00:00<?, ?it/s][W pthreadpool-cpp.cc:90] Warning: Leaking Caffe2 thread-pool after fork. (function pthreadpool)\n",
            "[W pthreadpool-cpp.cc:90] Warning: Leaking Caffe2 thread-pool after fork. (function pthreadpool)\n",
            "               Class      Images     Targets           P           R      mAP@.5  mAP@.5:.95: 100% 14/14 [00:05<00:00,  2.42it/s]\n",
            "                 all          53         103       0.623       0.592       0.638       0.352\n",
            "[W pthreadpool-cpp.cc:90] Warning: Leaking Caffe2 thread-pool after fork. (function pthreadpool)\n",
            "[W pthreadpool-cpp.cc:90] Warning: Leaking Caffe2 thread-pool after fork. (function pthreadpool)\n",
            "\n",
            "     Epoch   gpu_mem      GIoU       obj       cls     total   targets  img_size\n",
            " 1440/2116     3.71G   0.01094  0.005392  0.000324   0.01665         4       608: 100% 99/99 [02:01<00:00,  1.23s/it]\n",
            "               Class      Images     Targets           P           R      mAP@.5  mAP@.5:.95:   0% 0/14 [00:00<?, ?it/s][W pthreadpool-cpp.cc:90] Warning: Leaking Caffe2 thread-pool after fork. (function pthreadpool)\n",
            "[W pthreadpool-cpp.cc:90] Warning: Leaking Caffe2 thread-pool after fork. (function pthreadpool)\n",
            "               Class      Images     Targets           P           R      mAP@.5  mAP@.5:.95: 100% 14/14 [00:05<00:00,  2.40it/s]\n",
            "                 all          53         103       0.634       0.597       0.627       0.353\n",
            "[W pthreadpool-cpp.cc:90] Warning: Leaking Caffe2 thread-pool after fork. (function pthreadpool)\n",
            "[W pthreadpool-cpp.cc:90] Warning: Leaking Caffe2 thread-pool after fork. (function pthreadpool)\n",
            "\n",
            "     Epoch   gpu_mem      GIoU       obj       cls     total   targets  img_size\n",
            " 1441/2116     3.71G   0.01074  0.005972 0.0003666   0.01708         4       608: 100% 99/99 [02:01<00:00,  1.23s/it]\n",
            "               Class      Images     Targets           P           R      mAP@.5  mAP@.5:.95:   0% 0/14 [00:00<?, ?it/s][W pthreadpool-cpp.cc:90] Warning: Leaking Caffe2 thread-pool after fork. (function pthreadpool)\n",
            "[W pthreadpool-cpp.cc:90] Warning: Leaking Caffe2 thread-pool after fork. (function pthreadpool)\n",
            "               Class      Images     Targets           P           R      mAP@.5  mAP@.5:.95: 100% 14/14 [00:05<00:00,  2.42it/s]\n",
            "                 all          53         103       0.633       0.598       0.624       0.362\n",
            "[W pthreadpool-cpp.cc:90] Warning: Leaking Caffe2 thread-pool after fork. (function pthreadpool)\n",
            "[W pthreadpool-cpp.cc:90] Warning: Leaking Caffe2 thread-pool after fork. (function pthreadpool)\n",
            "\n",
            "     Epoch   gpu_mem      GIoU       obj       cls     total   targets  img_size\n",
            " 1442/2116     3.71G  0.009886  0.005166 0.0003849   0.01544         4       608: 100% 99/99 [02:01<00:00,  1.23s/it]\n",
            "               Class      Images     Targets           P           R      mAP@.5  mAP@.5:.95:   0% 0/14 [00:00<?, ?it/s][W pthreadpool-cpp.cc:90] Warning: Leaking Caffe2 thread-pool after fork. (function pthreadpool)\n",
            "[W pthreadpool-cpp.cc:90] Warning: Leaking Caffe2 thread-pool after fork. (function pthreadpool)\n",
            "               Class      Images     Targets           P           R      mAP@.5  mAP@.5:.95: 100% 14/14 [00:05<00:00,  2.41it/s]\n",
            "                 all          53         103        0.63       0.598       0.624       0.361\n",
            "[W pthreadpool-cpp.cc:90] Warning: Leaking Caffe2 thread-pool after fork. (function pthreadpool)\n",
            "[W pthreadpool-cpp.cc:90] Warning: Leaking Caffe2 thread-pool after fork. (function pthreadpool)\n",
            "\n",
            "     Epoch   gpu_mem      GIoU       obj       cls     total   targets  img_size\n",
            " 1443/2116     3.71G   0.01074  0.005613 0.0002906   0.01665         4       608: 100% 99/99 [02:02<00:00,  1.23s/it]\n",
            "               Class      Images     Targets           P           R      mAP@.5  mAP@.5:.95:   0% 0/14 [00:00<?, ?it/s][W pthreadpool-cpp.cc:90] Warning: Leaking Caffe2 thread-pool after fork. (function pthreadpool)\n",
            "[W pthreadpool-cpp.cc:90] Warning: Leaking Caffe2 thread-pool after fork. (function pthreadpool)\n",
            "               Class      Images     Targets           P           R      mAP@.5  mAP@.5:.95: 100% 14/14 [00:05<00:00,  2.41it/s]\n",
            "                 all          53         103       0.622       0.598       0.625       0.372\n",
            "[W pthreadpool-cpp.cc:90] Warning: Leaking Caffe2 thread-pool after fork. (function pthreadpool)\n",
            "[W pthreadpool-cpp.cc:90] Warning: Leaking Caffe2 thread-pool after fork. (function pthreadpool)\n",
            "\n",
            "     Epoch   gpu_mem      GIoU       obj       cls     total   targets  img_size\n",
            " 1444/2116     3.71G    0.0106  0.005504 0.0002663   0.01637         9       608: 100% 99/99 [02:01<00:00,  1.23s/it]\n",
            "               Class      Images     Targets           P           R      mAP@.5  mAP@.5:.95:   0% 0/14 [00:00<?, ?it/s][W pthreadpool-cpp.cc:90] Warning: Leaking Caffe2 thread-pool after fork. (function pthreadpool)\n",
            "[W pthreadpool-cpp.cc:90] Warning: Leaking Caffe2 thread-pool after fork. (function pthreadpool)\n",
            "               Class      Images     Targets           P           R      mAP@.5  mAP@.5:.95: 100% 14/14 [00:05<00:00,  2.41it/s]\n",
            "                 all          53         103       0.622       0.598       0.626       0.383\n",
            "[W pthreadpool-cpp.cc:90] Warning: Leaking Caffe2 thread-pool after fork. (function pthreadpool)\n",
            "[W pthreadpool-cpp.cc:90] Warning: Leaking Caffe2 thread-pool after fork. (function pthreadpool)\n",
            "\n",
            "     Epoch   gpu_mem      GIoU       obj       cls     total   targets  img_size\n",
            " 1445/2116     3.71G   0.01106   0.00549  0.000312   0.01686         3       608: 100% 99/99 [02:01<00:00,  1.23s/it]\n",
            "               Class      Images     Targets           P           R      mAP@.5  mAP@.5:.95:   0% 0/14 [00:00<?, ?it/s][W pthreadpool-cpp.cc:90] Warning: Leaking Caffe2 thread-pool after fork. (function pthreadpool)\n",
            "[W pthreadpool-cpp.cc:90] Warning: Leaking Caffe2 thread-pool after fork. (function pthreadpool)\n",
            "               Class      Images     Targets           P           R      mAP@.5  mAP@.5:.95: 100% 14/14 [00:05<00:00,  2.41it/s]\n",
            "                 all          53         103       0.613       0.598       0.629        0.39\n",
            "[W pthreadpool-cpp.cc:90] Warning: Leaking Caffe2 thread-pool after fork. (function pthreadpool)\n",
            "[W pthreadpool-cpp.cc:90] Warning: Leaking Caffe2 thread-pool after fork. (function pthreadpool)\n",
            "\n",
            "     Epoch   gpu_mem      GIoU       obj       cls     total   targets  img_size\n",
            " 1446/2116     3.71G   0.01078  0.005498 0.0003106   0.01658         6       608: 100% 99/99 [02:01<00:00,  1.23s/it]\n",
            "               Class      Images     Targets           P           R      mAP@.5  mAP@.5:.95:   0% 0/14 [00:00<?, ?it/s][W pthreadpool-cpp.cc:90] Warning: Leaking Caffe2 thread-pool after fork. (function pthreadpool)\n",
            "[W pthreadpool-cpp.cc:90] Warning: Leaking Caffe2 thread-pool after fork. (function pthreadpool)\n",
            "               Class      Images     Targets           P           R      mAP@.5  mAP@.5:.95: 100% 14/14 [00:05<00:00,  2.41it/s]\n",
            "                 all          53         103       0.607       0.598        0.63       0.398\n",
            "[W pthreadpool-cpp.cc:90] Warning: Leaking Caffe2 thread-pool after fork. (function pthreadpool)\n",
            "[W pthreadpool-cpp.cc:90] Warning: Leaking Caffe2 thread-pool after fork. (function pthreadpool)\n",
            "\n",
            "     Epoch   gpu_mem      GIoU       obj       cls     total   targets  img_size\n",
            " 1447/2116     3.71G   0.01057  0.005744 0.0003061   0.01662         2       608: 100% 99/99 [02:01<00:00,  1.23s/it]\n",
            "               Class      Images     Targets           P           R      mAP@.5  mAP@.5:.95:   0% 0/14 [00:00<?, ?it/s][W pthreadpool-cpp.cc:90] Warning: Leaking Caffe2 thread-pool after fork. (function pthreadpool)\n",
            "[W pthreadpool-cpp.cc:90] Warning: Leaking Caffe2 thread-pool after fork. (function pthreadpool)\n",
            "               Class      Images     Targets           P           R      mAP@.5  mAP@.5:.95: 100% 14/14 [00:05<00:00,  2.42it/s]\n",
            "                 all          53         103         0.6       0.598        0.63       0.403\n",
            "[W pthreadpool-cpp.cc:90] Warning: Leaking Caffe2 thread-pool after fork. (function pthreadpool)\n",
            "[W pthreadpool-cpp.cc:90] Warning: Leaking Caffe2 thread-pool after fork. (function pthreadpool)\n",
            "\n",
            "     Epoch   gpu_mem      GIoU       obj       cls     total   targets  img_size\n",
            " 1448/2116     3.71G   0.01065   0.00569  0.000286   0.01663         5       608: 100% 99/99 [02:01<00:00,  1.23s/it]\n",
            "               Class      Images     Targets           P           R      mAP@.5  mAP@.5:.95:   0% 0/14 [00:00<?, ?it/s][W pthreadpool-cpp.cc:90] Warning: Leaking Caffe2 thread-pool after fork. (function pthreadpool)\n",
            "[W pthreadpool-cpp.cc:90] Warning: Leaking Caffe2 thread-pool after fork. (function pthreadpool)\n",
            "               Class      Images     Targets           P           R      mAP@.5  mAP@.5:.95: 100% 14/14 [00:05<00:00,  2.41it/s]\n",
            "                 all          53         103       0.611       0.609       0.642        0.41\n",
            "[W pthreadpool-cpp.cc:90] Warning: Leaking Caffe2 thread-pool after fork. (function pthreadpool)\n",
            "[W pthreadpool-cpp.cc:90] Warning: Leaking Caffe2 thread-pool after fork. (function pthreadpool)\n",
            "\n",
            "     Epoch   gpu_mem      GIoU       obj       cls     total   targets  img_size\n",
            " 1449/2116     3.71G   0.01091  0.005424 0.0002858   0.01662         5       608: 100% 99/99 [02:01<00:00,  1.23s/it]\n",
            "               Class      Images     Targets           P           R      mAP@.5  mAP@.5:.95:   0% 0/14 [00:00<?, ?it/s][W pthreadpool-cpp.cc:90] Warning: Leaking Caffe2 thread-pool after fork. (function pthreadpool)\n",
            "[W pthreadpool-cpp.cc:90] Warning: Leaking Caffe2 thread-pool after fork. (function pthreadpool)\n",
            "               Class      Images     Targets           P           R      mAP@.5  mAP@.5:.95: 100% 14/14 [00:05<00:00,  2.42it/s]\n",
            "                 all          53         103       0.608       0.598       0.632       0.411\n",
            "[W pthreadpool-cpp.cc:90] Warning: Leaking Caffe2 thread-pool after fork. (function pthreadpool)\n",
            "[W pthreadpool-cpp.cc:90] Warning: Leaking Caffe2 thread-pool after fork. (function pthreadpool)\n",
            "\n",
            "     Epoch   gpu_mem      GIoU       obj       cls     total   targets  img_size\n",
            " 1450/2116     3.71G   0.01094  0.005823 0.0003262   0.01709         2       608: 100% 99/99 [02:01<00:00,  1.23s/it]\n",
            "               Class      Images     Targets           P           R      mAP@.5  mAP@.5:.95:   0% 0/14 [00:00<?, ?it/s][W pthreadpool-cpp.cc:90] Warning: Leaking Caffe2 thread-pool after fork. (function pthreadpool)\n",
            "[W pthreadpool-cpp.cc:90] Warning: Leaking Caffe2 thread-pool after fork. (function pthreadpool)\n",
            "               Class      Images     Targets           P           R      mAP@.5  mAP@.5:.95: 100% 14/14 [00:05<00:00,  2.40it/s]\n",
            "                 all          53         103       0.614        0.59       0.624       0.412\n",
            "[W pthreadpool-cpp.cc:90] Warning: Leaking Caffe2 thread-pool after fork. (function pthreadpool)\n",
            "[W pthreadpool-cpp.cc:90] Warning: Leaking Caffe2 thread-pool after fork. (function pthreadpool)\n",
            "\n",
            "     Epoch   gpu_mem      GIoU       obj       cls     total   targets  img_size\n",
            " 1451/2116     3.71G   0.01155  0.005678 0.0002637    0.0175         5       608: 100% 99/99 [02:01<00:00,  1.23s/it]\n",
            "               Class      Images     Targets           P           R      mAP@.5  mAP@.5:.95:   0% 0/14 [00:00<?, ?it/s][W pthreadpool-cpp.cc:90] Warning: Leaking Caffe2 thread-pool after fork. (function pthreadpool)\n",
            "[W pthreadpool-cpp.cc:90] Warning: Leaking Caffe2 thread-pool after fork. (function pthreadpool)\n",
            "               Class      Images     Targets           P           R      mAP@.5  mAP@.5:.95: 100% 14/14 [00:05<00:00,  2.41it/s]\n",
            "                 all          53         103       0.616       0.589       0.625       0.415\n",
            "[W pthreadpool-cpp.cc:90] Warning: Leaking Caffe2 thread-pool after fork. (function pthreadpool)\n",
            "[W pthreadpool-cpp.cc:90] Warning: Leaking Caffe2 thread-pool after fork. (function pthreadpool)\n",
            "\n",
            "     Epoch   gpu_mem      GIoU       obj       cls     total   targets  img_size\n",
            " 1452/2116     3.71G   0.01125    0.0056 0.0002861   0.01714         3       608: 100% 99/99 [02:01<00:00,  1.23s/it]\n",
            "               Class      Images     Targets           P           R      mAP@.5  mAP@.5:.95:   0% 0/14 [00:00<?, ?it/s][W pthreadpool-cpp.cc:90] Warning: Leaking Caffe2 thread-pool after fork. (function pthreadpool)\n",
            "[W pthreadpool-cpp.cc:90] Warning: Leaking Caffe2 thread-pool after fork. (function pthreadpool)\n",
            "               Class      Images     Targets           P           R      mAP@.5  mAP@.5:.95: 100% 14/14 [00:05<00:00,  2.41it/s]\n",
            "                 all          53         103       0.616        0.59       0.626        0.42\n",
            "[W pthreadpool-cpp.cc:90] Warning: Leaking Caffe2 thread-pool after fork. (function pthreadpool)\n",
            "[W pthreadpool-cpp.cc:90] Warning: Leaking Caffe2 thread-pool after fork. (function pthreadpool)\n",
            "\n",
            "     Epoch   gpu_mem      GIoU       obj       cls     total   targets  img_size\n",
            " 1453/2116     3.71G  0.009991  0.005406 0.0003123   0.01571         4       608: 100% 99/99 [02:01<00:00,  1.23s/it]\n",
            "               Class      Images     Targets           P           R      mAP@.5  mAP@.5:.95:   0% 0/14 [00:00<?, ?it/s][W pthreadpool-cpp.cc:90] Warning: Leaking Caffe2 thread-pool after fork. (function pthreadpool)\n",
            "[W pthreadpool-cpp.cc:90] Warning: Leaking Caffe2 thread-pool after fork. (function pthreadpool)\n",
            "               Class      Images     Targets           P           R      mAP@.5  mAP@.5:.95: 100% 14/14 [00:05<00:00,  2.41it/s]\n",
            "                 all          53         103       0.628       0.592       0.626        0.42\n",
            "[W pthreadpool-cpp.cc:90] Warning: Leaking Caffe2 thread-pool after fork. (function pthreadpool)\n",
            "[W pthreadpool-cpp.cc:90] Warning: Leaking Caffe2 thread-pool after fork. (function pthreadpool)\n",
            "\n",
            "     Epoch   gpu_mem      GIoU       obj       cls     total   targets  img_size\n",
            " 1454/2116     3.71G   0.01061  0.005645 0.0002995   0.01655         3       608: 100% 99/99 [02:01<00:00,  1.23s/it]\n",
            "               Class      Images     Targets           P           R      mAP@.5  mAP@.5:.95:   0% 0/14 [00:00<?, ?it/s][W pthreadpool-cpp.cc:90] Warning: Leaking Caffe2 thread-pool after fork. (function pthreadpool)\n",
            "[W pthreadpool-cpp.cc:90] Warning: Leaking Caffe2 thread-pool after fork. (function pthreadpool)\n",
            "               Class      Images     Targets           P           R      mAP@.5  mAP@.5:.95: 100% 14/14 [00:05<00:00,  2.41it/s]\n",
            "                 all          53         103       0.631       0.592       0.624       0.418\n",
            "[W pthreadpool-cpp.cc:90] Warning: Leaking Caffe2 thread-pool after fork. (function pthreadpool)\n",
            "[W pthreadpool-cpp.cc:90] Warning: Leaking Caffe2 thread-pool after fork. (function pthreadpool)\n",
            "\n",
            "     Epoch   gpu_mem      GIoU       obj       cls     total   targets  img_size\n",
            " 1455/2116     3.71G   0.01118  0.005781 0.0002836   0.01725         4       608: 100% 99/99 [02:01<00:00,  1.23s/it]\n",
            "               Class      Images     Targets           P           R      mAP@.5  mAP@.5:.95:   0% 0/14 [00:00<?, ?it/s][W pthreadpool-cpp.cc:90] Warning: Leaking Caffe2 thread-pool after fork. (function pthreadpool)\n",
            "[W pthreadpool-cpp.cc:90] Warning: Leaking Caffe2 thread-pool after fork. (function pthreadpool)\n",
            "               Class      Images     Targets           P           R      mAP@.5  mAP@.5:.95: 100% 14/14 [00:05<00:00,  2.42it/s]\n",
            "                 all          53         103       0.628       0.589       0.625        0.42\n",
            "[W pthreadpool-cpp.cc:90] Warning: Leaking Caffe2 thread-pool after fork. (function pthreadpool)\n",
            "[W pthreadpool-cpp.cc:90] Warning: Leaking Caffe2 thread-pool after fork. (function pthreadpool)\n",
            "\n",
            "     Epoch   gpu_mem      GIoU       obj       cls     total   targets  img_size\n",
            " 1456/2116     3.71G   0.01126  0.005517 0.0002908   0.01706         9       608:  55% 54/99 [01:08<00:56,  1.26s/it]\n",
            "Traceback (most recent call last):\n",
            "  File \"train.py\", line 443, in <module>\n",
            "    train(hyp, opt, device, tb_writer)\n",
            "  File \"train.py\", line 283, in train\n",
            "    '%g/%g' % (epoch, epochs - 1), mem, *mloss, targets.shape[0], imgs.shape[-1])\n",
            "KeyboardInterrupt\n"
          ]
        }
      ]
    },
    {
      "cell_type": "code",
      "metadata": {
        "colab": {
          "base_uri": "https://localhost:8080/"
        },
        "id": "XZ0NlY1lkLLQ",
        "outputId": "39d8fef8-1dd4-41e9-c273-2380e6f5da15"
      },
      "source": [
        "# when we ran this, we saw .007 second inference time. That is 140 FPS on a TESLA P100!\n",
        "# use the best weights!\n",
        "%cd /content/ScaledYOLOv4/\n",
        "!python detect.py --weights /content/drive/MyDrive/8_Nov_CSP_Scratch_608_3/exp0_yolov4-csp-results/weights/last.pt --img 608 --conf 0.2 --source /content/ScaledYolo_Data/val"
      ],
      "execution_count": 8,
      "outputs": [
        {
          "output_type": "stream",
          "name": "stdout",
          "text": [
            "/content/ScaledYOLOv4\n",
            "Namespace(agnostic_nms=False, augment=False, classes=None, conf_thres=0.2, device='', img_size=608, iou_thres=0.5, output='inference/output', save_txt=False, source='/content/ScaledYolo_Data/val', update=False, view_img=False, weights=['/content/drive/MyDrive/8_Nov_CSP_Scratch_608_3/exp0_yolov4-csp-results/weights/last.pt'])\n",
            "Using CUDA device0 _CudaDeviceProperties(name='Tesla K80', total_memory=11441MB)\n",
            "\n",
            "Fusing layers... Model Summary: 235 layers, 5.24813e+07 parameters, 5.04494e+07 gradients\n",
            "/usr/local/lib/python3.7/dist-packages/torch/nn/functional.py:718: UserWarning: Named tensors and all their associated APIs are an experimental feature and subject to change. Please do not use them for anything important until they are released as stable. (Triggered internally at  /pytorch/c10/core/TensorImpl.h:1156.)\n",
            "  return torch.max_pool2d(input, kernel_size, stride, padding, dilation, ceil_mode)\n",
            "image 1/53 /content/ScaledYolo_Data/val/04_3420.jpg: 608x608 Done. (0.153s)\n",
            "image 2/53 /content/ScaledYolo_Data/val/08_1830.jpg: 608x608 Done. (0.139s)\n",
            "image 3/53 /content/ScaledYolo_Data/val/08_1890.jpg: 608x608 1 tower_tucohys, 1 tower_woodens, Done. (0.129s)\n",
            "image 4/53 /content/ScaledYolo_Data/val/09_2550.jpg: 608x608 Done. (0.119s)\n",
            "image 5/53 /content/ScaledYolo_Data/val/09_9180.jpg: 608x608 Done. (0.119s)\n",
            "image 6/53 /content/ScaledYolo_Data/val/1000_00527.jpg: 608x608 1 tower_lattices, Done. (0.121s)\n",
            "image 7/53 /content/ScaledYolo_Data/val/104_2190.jpg: 608x608 1 tower_lattices, Done. (0.122s)\n",
            "image 8/53 /content/ScaledYolo_Data/val/105_4350.jpg: 608x608 1 tower_lattices, 1 tower_tucohys, Done. (0.122s)\n",
            "image 9/53 /content/ScaledYolo_Data/val/106_30.jpg: 608x608 1 tower_woodens, Done. (0.121s)\n",
            "image 10/53 /content/ScaledYolo_Data/val/107_2505.jpg: 608x608 1 tower_lattices, Done. (0.120s)\n",
            "image 11/53 /content/ScaledYolo_Data/val/110_0.jpg: 608x608 1 tower_tucohys, Done. (0.119s)\n",
            "image 12/53 /content/ScaledYolo_Data/val/111_3585.jpg: 608x608 2 tower_tucohys, Done. (0.123s)\n",
            "image 13/53 /content/ScaledYolo_Data/val/112_165.jpg: 608x608 Done. (0.119s)\n",
            "image 14/53 /content/ScaledYolo_Data/val/114_210.jpg: 608x608 Done. (0.120s)\n",
            "image 15/53 /content/ScaledYolo_Data/val/13_5580.jpg: 608x608 Done. (0.120s)\n",
            "image 16/53 /content/ScaledYolo_Data/val/14_01171.jpg: 608x608 2 tower_woodens, Done. (0.122s)\n",
            "image 17/53 /content/ScaledYolo_Data/val/16_3720.jpg: 608x608 1 tower_lattices, Done. (0.118s)\n",
            "image 18/53 /content/ScaledYolo_Data/val/19_00137.jpg: 608x608 5 tower_lattices, 2 tower_woodens, Done. (0.121s)\n",
            "image 19/53 /content/ScaledYolo_Data/val/20_3120.jpg: 608x608 Done. (0.120s)\n",
            "image 20/53 /content/ScaledYolo_Data/val/20_360.jpg: 608x608 1 tower_lattices, Done. (0.120s)\n",
            "image 21/53 /content/ScaledYolo_Data/val/20_7215.jpg: 608x608 Done. (0.121s)\n",
            "image 22/53 /content/ScaledYolo_Data/val/22_00434.jpg: 608x608 3 tower_tucohys, Done. (0.125s)\n",
            "image 23/53 /content/ScaledYolo_Data/val/22_02021.jpg: 608x608 Done. (0.122s)\n",
            "image 24/53 /content/ScaledYolo_Data/val/23_01656.jpg: 608x608 1 tower_lattices, Done. (0.124s)\n",
            "image 25/53 /content/ScaledYolo_Data/val/25_00029.jpg: 608x608 1 tower_lattices, 2 tower_tucohys, Done. (0.124s)\n",
            "image 26/53 /content/ScaledYolo_Data/val/26_2850.jpg: 608x608 1 tower_woodens, Done. (0.124s)\n",
            "image 27/53 /content/ScaledYolo_Data/val/27_00375.jpg: 608x608 1 tower_tucohys, Done. (0.120s)\n",
            "image 28/53 /content/ScaledYolo_Data/val/28_00090.jpg: 608x608 2 tower_tucohys, Done. (0.121s)\n",
            "image 29/53 /content/ScaledYolo_Data/val/34_1005.jpg: 608x608 1 tower_lattices, 2 tower_tucohys, Done. (0.121s)\n",
            "image 30/53 /content/ScaledYolo_Data/val/41_00961.jpg: 608x608 1 tower_woodens, Done. (0.121s)\n",
            "image 31/53 /content/ScaledYolo_Data/val/43_00591.jpg: 608x608 Done. (0.121s)\n",
            "image 32/53 /content/ScaledYolo_Data/val/46_00596.jpg: 608x608 1 tower_woodens, Done. (0.122s)\n",
            "image 33/53 /content/ScaledYolo_Data/val/47_00601.jpg: 608x608 3 tower_woodens, Done. (0.124s)\n",
            "image 34/53 /content/ScaledYolo_Data/val/48_02416.jpg: 608x608 Done. (0.120s)\n",
            "image 35/53 /content/ScaledYolo_Data/val/52_00721.jpg: 608x608 1 tower_woodens, Done. (0.121s)\n",
            "image 36/53 /content/ScaledYolo_Data/val/57_01046.jpg: 608x608 1 tower_woodens, Done. (0.120s)\n",
            "image 37/53 /content/ScaledYolo_Data/val/58_00956.jpg: 608x608 1 tower_woodens, Done. (0.123s)\n",
            "image 38/53 /content/ScaledYolo_Data/val/63_01871.jpg: 608x608 1 tower_lattices, Done. (0.121s)\n",
            "image 39/53 /content/ScaledYolo_Data/val/64_00036.jpg: 608x608 3 tower_lattices, 1 tower_tucohys, Done. (0.123s)\n",
            "image 40/53 /content/ScaledYolo_Data/val/66_00191.jpg: 608x608 5 tower_lattices, 1 tower_woodens, Done. (0.122s)\n",
            "image 41/53 /content/ScaledYolo_Data/val/67_00356.jpg: 608x608 1 tower_lattices, 3 tower_woodens, Done. (0.122s)\n",
            "image 42/53 /content/ScaledYolo_Data/val/67_02716.jpg: 608x608 2 tower_lattices, Done. (0.121s)\n",
            "image 43/53 /content/ScaledYolo_Data/val/70_00343.jpg: 608x608 1 tower_woodens, Done. (0.122s)\n",
            "image 44/53 /content/ScaledYolo_Data/val/70_00655.jpg: 608x608 1 tower_woodens, Done. (0.120s)\n",
            "image 45/53 /content/ScaledYolo_Data/val/70_01510.jpg: 608x608 1 tower_woodens, Done. (0.122s)\n",
            "image 46/53 /content/ScaledYolo_Data/val/71_3880.jpg: 608x608 1 tower_lattices, 1 tower_tucohys, Done. (0.122s)\n",
            "image 47/53 /content/ScaledYolo_Data/val/71_4520.jpg: 608x608 1 tower_lattices, Done. (0.120s)\n",
            "image 48/53 /content/ScaledYolo_Data/val/71_9160.jpg: 608x608 1 tower_lattices, 1 tower_tucohys, Done. (0.121s)\n",
            "image 49/53 /content/ScaledYolo_Data/val/74_00453.jpg: 608x608 1 tower_lattices, Done. (0.122s)\n",
            "image 50/53 /content/ScaledYolo_Data/val/76_1230.jpg: 608x608 2 tower_lattices, Done. (0.121s)\n",
            "image 51/53 /content/ScaledYolo_Data/val/78_465.jpg: 608x608 1 tower_lattices, Done. (0.122s)\n",
            "image 52/53 /content/ScaledYolo_Data/val/80_1660.jpg: 608x608 1 tower_lattices, Done. (0.119s)\n",
            "image 53/53 /content/ScaledYolo_Data/val/90_5550.jpg: 608x608 1 tower_tucohys, Done. (0.123s)\n",
            "Results saved to inference/output\n",
            "Done. (8.105s)\n"
          ]
        }
      ]
    },
    {
      "cell_type": "code",
      "metadata": {
        "id": "SBWJ6SVoyK8k"
      },
      "source": [
        "!cp -r /content/ScaledYOLOv4/inference/output /content/drive/MyDrive/Preds_8_Nov_608/"
      ],
      "execution_count": 9,
      "outputs": []
    },
    {
      "cell_type": "code",
      "metadata": {
        "colab": {
          "base_uri": "https://localhost:8080/",
          "height": 41
        },
        "id": "5wSoO2lhq74R",
        "outputId": "7dcedec1-1024-4449-f7fb-71c78bbebd54"
      },
      "source": [
        "from IPython.display import Image, display\n",
        "display(Image('/content/drive/MyDrive/6_Oct_CSP_4/exp0_yolov4-csp-results/results.png'))  # view results.png"
      ],
      "execution_count": null,
      "outputs": [
        {
          "data": {
            "image/png": "/content/drive/MyDrive/6_Oct_CSP_4/exp0_yolov4-csp-results/results.png",
            "text/plain": [
              "<IPython.core.display.Image object>"
            ]
          },
          "metadata": {},
          "output_type": "display_data"
        }
      ]
    },
    {
      "cell_type": "code",
      "metadata": {
        "colab": {
          "base_uri": "https://localhost:8080/"
        },
        "id": "FFMSNA11gTzG",
        "outputId": "1a74782b-1f5f-4e89-b520-d0bd4a52e8b9"
      },
      "source": [
        "!python /content/ScaledYOLOv4/test.py --help"
      ],
      "execution_count": null,
      "outputs": [
        {
          "name": "stdout",
          "output_type": "stream",
          "text": [
            "usage: test.py [-h] [--weights WEIGHTS [WEIGHTS ...]] [--data DATA]\n",
            "               [--batch-size BATCH_SIZE] [--img-size IMG_SIZE]\n",
            "               [--conf-thres CONF_THRES] [--iou-thres IOU_THRES] [--save-json]\n",
            "               [--task TASK] [--device DEVICE] [--single-cls] [--augment]\n",
            "               [--merge] [--verbose] [--save-txt]\n",
            "\n",
            "optional arguments:\n",
            "  -h, --help            show this help message and exit\n",
            "  --weights WEIGHTS [WEIGHTS ...]\n",
            "                        model.pt path(s)\n",
            "  --data DATA           *.data path\n",
            "  --batch-size BATCH_SIZE\n",
            "                        size of each image batch\n",
            "  --img-size IMG_SIZE   inference size (pixels)\n",
            "  --conf-thres CONF_THRES\n",
            "                        object confidence threshold\n",
            "  --iou-thres IOU_THRES\n",
            "                        IOU threshold for NMS\n",
            "  --save-json           save a cocoapi-compatible JSON results file\n",
            "  --task TASK           'val', 'test', 'study'\n",
            "  --device DEVICE       cuda device, i.e. 0 or 0,1,2,3 or cpu\n",
            "  --single-cls          treat as single-class dataset\n",
            "  --augment             augmented inference\n",
            "  --merge               use Merge NMS\n",
            "  --verbose             report mAP by class\n",
            "  --save-txt            save results to *.txt\n"
          ]
        }
      ]
    },
    {
      "cell_type": "code",
      "metadata": {
        "colab": {
          "base_uri": "https://localhost:8080/"
        },
        "id": "O-3dusvne5w5",
        "outputId": "8e8a8c7f-8ce5-4bf8-e2ff-f8dac6edc68a"
      },
      "source": [
        "!python /content/ScaledYOLOv4/test.py --img 608 --conf 0.2 --iou 0.65 --batch 8 --device 0 --data /content/ScaledYOLOv4/data/coco.yaml --weights /content/drive/MyDrive/8_Nov_CSP_Scratch_608_3/exp0_yolov4-csp-results/weights/last.pt --verbose"
      ],
      "execution_count": 10,
      "outputs": [
        {
          "output_type": "stream",
          "name": "stdout",
          "text": [
            "Namespace(augment=False, batch_size=8, conf_thres=0.2, data='/content/ScaledYOLOv4/data/coco.yaml', device='0', img_size=608, iou_thres=0.65, merge=False, save_json=True, save_txt=False, single_cls=False, task='val', verbose=True, weights=['/content/drive/MyDrive/8_Nov_CSP_Scratch_608_3/exp0_yolov4-csp-results/weights/last.pt'])\n",
            "Using CUDA device0 _CudaDeviceProperties(name='Tesla K80', total_memory=11441MB)\n",
            "\n",
            "Fusing layers... Model Summary: 235 layers, 5.24813e+07 parameters, 5.04494e+07 gradients\n",
            "/usr/local/lib/python3.7/dist-packages/torch/nn/functional.py:718: UserWarning: Named tensors and all their associated APIs are an experimental feature and subject to change. Please do not use them for anything important until they are released as stable. (Triggered internally at  /pytorch/c10/core/TensorImpl.h:1156.)\n",
            "  return torch.max_pool2d(input, kernel_size, stride, padding, dilation, ceil_mode)\n",
            "Scanning labels /content/ScaledYolo_Data/train.cache (394 found, 0 missing, 0 empty, 0 duplicate, for 394 images): 100% 394/394 [00:00<00:00, 10959.68it/s]\n",
            "               Class      Images     Targets           P           R      mAP@.5  mAP@.5:.95: 100% 50/50 [00:39<00:00,  1.28it/s]\n",
            "                 all         394         663       0.928       0.957       0.957       0.824\n",
            "       tower_lattice         394         275       0.948       0.989       0.986       0.867\n",
            "        tower_tucohy         394         170       0.884       0.941       0.941       0.812\n",
            "        tower_wooden         394         218       0.953        0.94       0.945       0.792\n",
            "Speed: 91.6/2.0/93.6 ms inference/NMS/total per 608x608 image at batch-size 8\n",
            "\n",
            "COCO mAP with pycocotools... saving detections_val2017__results.json...\n",
            "ERROR: pycocotools unable to run: invalid literal for int() with base 10: '19_00993_'\n"
          ]
        }
      ]
    },
    {
      "cell_type": "code",
      "metadata": {
        "colab": {
          "base_uri": "https://localhost:8080/"
        },
        "id": "JxnDLa5Rg5L3",
        "outputId": "b35ad759-a490-47b8-c82d-41ec348c8f51"
      },
      "source": [
        "!python /content/ScaledYOLOv4/test.py --img 608 --conf 0.2 --iou 0.65 --batch 8 --device 0 --data /content/ScaledYOLOv4/data/coco.yaml --weights /content/drive/MyDrive/8_Nov_CSP_Scratch_608_3/exp0_yolov4-csp-results/weights/last.pt --verbose"
      ],
      "execution_count": 11,
      "outputs": [
        {
          "output_type": "stream",
          "name": "stdout",
          "text": [
            "Namespace(augment=False, batch_size=8, conf_thres=0.2, data='/content/ScaledYOLOv4/data/coco.yaml', device='0', img_size=608, iou_thres=0.65, merge=False, save_json=True, save_txt=False, single_cls=False, task='val', verbose=True, weights=['/content/drive/MyDrive/8_Nov_CSP_Scratch_608_3/exp0_yolov4-csp-results/weights/last.pt'])\n",
            "Using CUDA device0 _CudaDeviceProperties(name='Tesla K80', total_memory=11441MB)\n",
            "\n",
            "Fusing layers... Model Summary: 235 layers, 5.24813e+07 parameters, 5.04494e+07 gradients\n",
            "/usr/local/lib/python3.7/dist-packages/torch/nn/functional.py:718: UserWarning: Named tensors and all their associated APIs are an experimental feature and subject to change. Please do not use them for anything important until they are released as stable. (Triggered internally at  /pytorch/c10/core/TensorImpl.h:1156.)\n",
            "  return torch.max_pool2d(input, kernel_size, stride, padding, dilation, ceil_mode)\n",
            "Scanning labels /content/ScaledYolo_Data/val.cache (53 found, 0 missing, 0 empty, 0 duplicate, for 53 images): 100% 53/53 [00:00<00:00, 11507.30it/s]\n",
            "               Class      Images     Targets           P           R      mAP@.5  mAP@.5:.95: 100% 7/7 [00:05<00:00,  1.19it/s]\n",
            "                 all          53         103        0.83       0.561        0.55       0.408\n",
            "       tower_lattice          53          41       0.912       0.756       0.754       0.561\n",
            "        tower_tucohy          53          16       0.733       0.688        0.67       0.525\n",
            "        tower_wooden          53          46       0.846       0.239       0.225       0.138\n",
            "Speed: 94.2/1.2/95.4 ms inference/NMS/total per 608x608 image at batch-size 8\n",
            "\n",
            "COCO mAP with pycocotools... saving detections_val2017__results.json...\n",
            "ERROR: pycocotools unable to run: list index out of range\n"
          ]
        }
      ]
    },
    {
      "cell_type": "code",
      "metadata": {
        "colab": {
          "base_uri": "https://localhost:8080/"
        },
        "id": "_e7PYBLHoNEf",
        "outputId": "51eeefad-b78f-4b74-d3a6-1b394af8aba5"
      },
      "source": [
        "!python /content/ScaledYOLOv4/test.py --img 608 --conf 0.2 --iou 0.65 --batch 8 --device 0 --data /content/ScaledYOLOv4/data/coco.yaml --weights /content/drive/MyDrive/8_Nov_CSP_Scratch_608_3/exp0_yolov4-csp-results/weights/last.pt --verbose"
      ],
      "execution_count": 12,
      "outputs": [
        {
          "output_type": "stream",
          "name": "stdout",
          "text": [
            "Namespace(augment=False, batch_size=8, conf_thres=0.2, data='/content/ScaledYOLOv4/data/coco.yaml', device='0', img_size=608, iou_thres=0.65, merge=False, save_json=True, save_txt=False, single_cls=False, task='val', verbose=True, weights=['/content/drive/MyDrive/8_Nov_CSP_Scratch_608_3/exp0_yolov4-csp-results/weights/last.pt'])\n",
            "Using CUDA device0 _CudaDeviceProperties(name='Tesla K80', total_memory=11441MB)\n",
            "\n",
            "Fusing layers... Model Summary: 235 layers, 5.24813e+07 parameters, 5.04494e+07 gradients\n",
            "/usr/local/lib/python3.7/dist-packages/torch/nn/functional.py:718: UserWarning: Named tensors and all their associated APIs are an experimental feature and subject to change. Please do not use them for anything important until they are released as stable. (Triggered internally at  /pytorch/c10/core/TensorImpl.h:1156.)\n",
            "  return torch.max_pool2d(input, kernel_size, stride, padding, dilation, ceil_mode)\n",
            "Scanning labels /content/ScaledYolo_Data/val.cache (53 found, 0 missing, 0 empty, 0 duplicate, for 53 images): 100% 53/53 [00:00<00:00, 10681.76it/s]\n",
            "               Class      Images     Targets           P           R      mAP@.5  mAP@.5:.95: 100% 7/7 [00:05<00:00,  1.21it/s]\n",
            "                 all          53         103        0.83       0.561        0.55       0.408\n",
            "       tower_lattice          53          41       0.912       0.756       0.754       0.561\n",
            "        tower_tucohy          53          16       0.733       0.688        0.67       0.525\n",
            "        tower_wooden          53          46       0.846       0.239       0.225       0.138\n",
            "Speed: 92.7/1.2/93.9 ms inference/NMS/total per 608x608 image at batch-size 8\n",
            "\n",
            "COCO mAP with pycocotools... saving detections_val2017__results.json...\n",
            "ERROR: pycocotools unable to run: list index out of range\n"
          ]
        }
      ]
    },
    {
      "cell_type": "code",
      "metadata": {
        "id": "tVwtJch4L-V2"
      },
      "source": [
        ""
      ],
      "execution_count": null,
      "outputs": []
    }
  ]
}