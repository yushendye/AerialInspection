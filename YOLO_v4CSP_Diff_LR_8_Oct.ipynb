{
  "nbformat": 4,
  "nbformat_minor": 0,
  "metadata": {
    "colab": {
      "name": "YOLO v4CSP.ipynb",
      "provenance": [],
      "collapsed_sections": [],
      "include_colab_link": true
    },
    "kernelspec": {
      "display_name": "Python 3",
      "name": "python3"
    },
    "language_info": {
      "name": "python"
    },
    "accelerator": "GPU"
  },
  "cells": [
    {
      "cell_type": "markdown",
      "metadata": {
        "id": "view-in-github",
        "colab_type": "text"
      },
      "source": [
        "<a href=\"https://colab.research.google.com/github/yushendye/AerialInspection/blob/main/YOLO_v4CSP_Diff_LR_8_Oct.ipynb\" target=\"_parent\"><img src=\"https://colab.research.google.com/assets/colab-badge.svg\" alt=\"Open In Colab\"/></a>"
      ]
    },
    {
      "cell_type": "code",
      "metadata": {
        "id": "htqQXHp5fbO0",
        "colab": {
          "base_uri": "https://localhost:8080/"
        },
        "outputId": "a178252a-d01a-45c4-fb15-84b2dba5e714"
      },
      "source": [
        "from google.colab import drive\n",
        "drive.mount('/content/drive')"
      ],
      "execution_count": 1,
      "outputs": [
        {
          "output_type": "stream",
          "name": "stdout",
          "text": [
            "Mounted at /content/drive\n"
          ]
        }
      ]
    },
    {
      "cell_type": "code",
      "metadata": {
        "colab": {
          "base_uri": "https://localhost:8080/"
        },
        "id": "mfVk34m3yxkU",
        "outputId": "1525ea74-d51e-4a93-bb4a-4aaa73f0d19e"
      },
      "source": [
        "# clone Scaled_YOLOv4\n",
        "!git clone https://github.com/roboflow-ai/ScaledYOLOv4.git  # clone repo\n",
        "%cd /content/ScaledYOLOv4/\n",
        "#checkout the yolov4-large branch\n",
        "!git checkout yolov4-large"
      ],
      "execution_count": 2,
      "outputs": [
        {
          "output_type": "stream",
          "name": "stdout",
          "text": [
            "Cloning into 'ScaledYOLOv4'...\n",
            "remote: Enumerating objects: 128, done.\u001b[K\n",
            "remote: Total 128 (delta 0), reused 0 (delta 0), pack-reused 128\u001b[K\n",
            "Receiving objects: 100% (128/128), 389.37 KiB | 2.16 MiB/s, done.\n",
            "Resolving deltas: 100% (39/39), done.\n",
            "/content/ScaledYOLOv4\n",
            "Branch 'yolov4-large' set up to track remote branch 'yolov4-large' from 'origin'.\n",
            "Switched to a new branch 'yolov4-large'\n"
          ]
        }
      ]
    },
    {
      "cell_type": "code",
      "metadata": {
        "colab": {
          "base_uri": "https://localhost:8080/"
        },
        "id": "UnvwJr6jzM84",
        "outputId": "5d0b1c0e-3a6e-4624-f3ea-7d486a4708d1"
      },
      "source": [
        "import torch\n",
        "print('Using torch %s %s' % (torch.__version__, torch.cuda.get_device_properties(0) if torch.cuda.is_available() else 'CPU'))"
      ],
      "execution_count": 3,
      "outputs": [
        {
          "output_type": "stream",
          "name": "stdout",
          "text": [
            "Using torch 1.9.0+cu111 _CudaDeviceProperties(name='Tesla K80', major=3, minor=7, total_memory=11441MB, multi_processor_count=13)\n"
          ]
        }
      ]
    },
    {
      "cell_type": "code",
      "metadata": {
        "colab": {
          "base_uri": "https://localhost:8080/"
        },
        "id": "P2TNpvXZfBEs",
        "outputId": "03d7bf4f-67eb-4f26-cf12-1a066b6ecc02"
      },
      "source": [
        "#install mish activation funciton for cuda\n",
        "%cd /content/\n",
        "!git clone https://github.com/JunnYu/mish-cuda\n",
        "%cd mish-cuda\n",
        "!python setup.py build install"
      ],
      "execution_count": 4,
      "outputs": [
        {
          "output_type": "stream",
          "name": "stdout",
          "text": [
            "/content\n",
            "Cloning into 'mish-cuda'...\n",
            "remote: Enumerating objects: 195, done.\u001b[K\n",
            "remote: Counting objects: 100% (88/88), done.\u001b[K\n",
            "remote: Compressing objects: 100% (75/75), done.\u001b[K\n",
            "remote: Total 195 (delta 7), reused 79 (delta 3), pack-reused 107\u001b[K\n",
            "Receiving objects: 100% (195/195), 208.77 KiB | 1.83 MiB/s, done.\n",
            "Resolving deltas: 100% (56/56), done.\n",
            "/content/mish-cuda\n",
            "/usr/lib/python3.7/distutils/extension.py:131: UserWarning: Unknown Extension options: 'headers'\n",
            "  warnings.warn(msg)\n",
            "running build\n",
            "running build_py\n",
            "creating build\n",
            "creating build/lib.linux-x86_64-3.7\n",
            "creating build/lib.linux-x86_64-3.7/mish_cuda\n",
            "copying src/mish_cuda/__init__.py -> build/lib.linux-x86_64-3.7/mish_cuda\n",
            "running egg_info\n",
            "creating src/mish_cuda.egg-info\n",
            "writing src/mish_cuda.egg-info/PKG-INFO\n",
            "writing dependency_links to src/mish_cuda.egg-info/dependency_links.txt\n",
            "writing requirements to src/mish_cuda.egg-info/requires.txt\n",
            "writing top-level names to src/mish_cuda.egg-info/top_level.txt\n",
            "writing manifest file 'src/mish_cuda.egg-info/SOURCES.txt'\n",
            "/usr/local/lib/python3.7/dist-packages/torch/utils/cpp_extension.py:370: UserWarning: Attempted to use ninja as the BuildExtension backend but we could not find ninja.. Falling back to using the slow distutils backend.\n",
            "  warnings.warn(msg.format('we could not find ninja.'))\n",
            "adding license file 'LICENSE'\n",
            "writing manifest file 'src/mish_cuda.egg-info/SOURCES.txt'\n",
            "running build_ext\n",
            "building 'mish_cuda._C' extension\n",
            "creating build/temp.linux-x86_64-3.7\n",
            "creating build/temp.linux-x86_64-3.7/csrc\n",
            "creating build/temp.linux-x86_64-3.7/csrc/cpu\n",
            "creating build/temp.linux-x86_64-3.7/csrc/cuda\n",
            "x86_64-linux-gnu-gcc -pthread -Wno-unused-result -Wsign-compare -DNDEBUG -g -fwrapv -O2 -Wall -g -fdebug-prefix-map=/build/python3.7-Y7dWVB/python3.7-3.7.12=. -fstack-protector-strong -Wformat -Werror=format-security -g -fdebug-prefix-map=/build/python3.7-Y7dWVB/python3.7-3.7.12=. -fstack-protector-strong -Wformat -Werror=format-security -Wdate-time -D_FORTIFY_SOURCE=2 -fPIC -I/usr/local/lib/python3.7/dist-packages/torch/include -I/usr/local/lib/python3.7/dist-packages/torch/include/torch/csrc/api/include -I/usr/local/lib/python3.7/dist-packages/torch/include/TH -I/usr/local/lib/python3.7/dist-packages/torch/include/THC -I/usr/local/cuda/include -I/usr/include/python3.7m -c csrc/cpu/mish_cpu.cpp -o build/temp.linux-x86_64-3.7/csrc/cpu/mish_cpu.o -DTORCH_API_INCLUDE_EXTENSION_H -DPYBIND11_COMPILER_TYPE=\"_gcc\" -DPYBIND11_STDLIB=\"_libstdcpp\" -DPYBIND11_BUILD_ABI=\"_cxxabi1011\" -DTORCH_EXTENSION_NAME=_C -D_GLIBCXX_USE_CXX11_ABI=0 -std=c++14\n",
            "In file included from \u001b[01m\u001b[K/usr/local/lib/python3.7/dist-packages/torch/include/ATen/Parallel.h:140:0\u001b[m\u001b[K,\n",
            "                 from \u001b[01m\u001b[K/usr/local/lib/python3.7/dist-packages/torch/include/ATen/CPUApplyUtils.h:3\u001b[m\u001b[K,\n",
            "                 from \u001b[01m\u001b[Kcsrc/cpu/mish_cpu.cpp:3\u001b[m\u001b[K:\n",
            "\u001b[01m\u001b[K/usr/local/lib/python3.7/dist-packages/torch/include/ATen/ParallelOpenMP.h:87:0:\u001b[m\u001b[K \u001b[01;35m\u001b[Kwarning: \u001b[m\u001b[Kignoring #pragma omp parallel [\u001b[01;35m\u001b[K-Wunknown-pragmas\u001b[m\u001b[K]\n",
            " #pragma omp parallel for if ((end - begin) >= grain_size)\n",
            " \n",
            "x86_64-linux-gnu-gcc -pthread -Wno-unused-result -Wsign-compare -DNDEBUG -g -fwrapv -O2 -Wall -g -fdebug-prefix-map=/build/python3.7-Y7dWVB/python3.7-3.7.12=. -fstack-protector-strong -Wformat -Werror=format-security -g -fdebug-prefix-map=/build/python3.7-Y7dWVB/python3.7-3.7.12=. -fstack-protector-strong -Wformat -Werror=format-security -Wdate-time -D_FORTIFY_SOURCE=2 -fPIC -I/usr/local/lib/python3.7/dist-packages/torch/include -I/usr/local/lib/python3.7/dist-packages/torch/include/torch/csrc/api/include -I/usr/local/lib/python3.7/dist-packages/torch/include/TH -I/usr/local/lib/python3.7/dist-packages/torch/include/THC -I/usr/local/cuda/include -I/usr/include/python3.7m -c csrc/cuda/mish_cuda.cpp -o build/temp.linux-x86_64-3.7/csrc/cuda/mish_cuda.o -DTORCH_API_INCLUDE_EXTENSION_H -DPYBIND11_COMPILER_TYPE=\"_gcc\" -DPYBIND11_STDLIB=\"_libstdcpp\" -DPYBIND11_BUILD_ABI=\"_cxxabi1011\" -DTORCH_EXTENSION_NAME=_C -D_GLIBCXX_USE_CXX11_ABI=0 -std=c++14\n",
            "In file included from \u001b[01m\u001b[K/usr/local/lib/python3.7/dist-packages/torch/include/ATen/Parallel.h:140:0\u001b[m\u001b[K,\n",
            "                 from \u001b[01m\u001b[K/usr/local/lib/python3.7/dist-packages/torch/include/torch/csrc/api/include/torch/utils.h:3\u001b[m\u001b[K,\n",
            "                 from \u001b[01m\u001b[K/usr/local/lib/python3.7/dist-packages/torch/include/torch/csrc/api/include/torch/nn/cloneable.h:5\u001b[m\u001b[K,\n",
            "                 from \u001b[01m\u001b[K/usr/local/lib/python3.7/dist-packages/torch/include/torch/csrc/api/include/torch/nn.h:3\u001b[m\u001b[K,\n",
            "                 from \u001b[01m\u001b[K/usr/local/lib/python3.7/dist-packages/torch/include/torch/csrc/api/include/torch/all.h:13\u001b[m\u001b[K,\n",
            "                 from \u001b[01m\u001b[K/usr/local/lib/python3.7/dist-packages/torch/include/torch/extension.h:4\u001b[m\u001b[K,\n",
            "                 from \u001b[01m\u001b[Kcsrc/cuda/mish_cuda.cpp:2\u001b[m\u001b[K:\n",
            "\u001b[01m\u001b[K/usr/local/lib/python3.7/dist-packages/torch/include/ATen/ParallelOpenMP.h:87:0:\u001b[m\u001b[K \u001b[01;35m\u001b[Kwarning: \u001b[m\u001b[Kignoring #pragma omp parallel [\u001b[01;35m\u001b[K-Wunknown-pragmas\u001b[m\u001b[K]\n",
            " #pragma omp parallel for if ((end - begin) >= grain_size)\n",
            " \n",
            "/usr/local/cuda/bin/nvcc -I/usr/local/lib/python3.7/dist-packages/torch/include -I/usr/local/lib/python3.7/dist-packages/torch/include/torch/csrc/api/include -I/usr/local/lib/python3.7/dist-packages/torch/include/TH -I/usr/local/lib/python3.7/dist-packages/torch/include/THC -I/usr/local/cuda/include -I/usr/include/python3.7m -c csrc/cuda/mish_kernel.cu -o build/temp.linux-x86_64-3.7/csrc/cuda/mish_kernel.o -D__CUDA_NO_HALF_OPERATORS__ -D__CUDA_NO_HALF_CONVERSIONS__ -D__CUDA_NO_BFLOAT16_CONVERSIONS__ -D__CUDA_NO_HALF2_OPERATORS__ --expt-relaxed-constexpr --compiler-options '-fPIC' --expt-extended-lambda -DTORCH_API_INCLUDE_EXTENSION_H -DPYBIND11_COMPILER_TYPE=\"_gcc\" -DPYBIND11_STDLIB=\"_libstdcpp\" -DPYBIND11_BUILD_ABI=\"_cxxabi1011\" -DTORCH_EXTENSION_NAME=_C -D_GLIBCXX_USE_CXX11_ABI=0 -gencode=arch=compute_37,code=compute_37 -gencode=arch=compute_37,code=sm_37 -std=c++14\n",
            "nvcc warning : The 'compute_35', 'compute_37', 'compute_50', 'sm_35', 'sm_37' and 'sm_50' architectures are deprecated, and may be removed in a future release (Use -Wno-deprecated-gpu-targets to suppress warning).\n",
            "x86_64-linux-gnu-g++ -pthread -shared -Wl,-O1 -Wl,-Bsymbolic-functions -Wl,-Bsymbolic-functions -Wl,-z,relro -Wl,-Bsymbolic-functions -Wl,-z,relro -g -fdebug-prefix-map=/build/python3.7-Y7dWVB/python3.7-3.7.12=. -fstack-protector-strong -Wformat -Werror=format-security -Wdate-time -D_FORTIFY_SOURCE=2 build/temp.linux-x86_64-3.7/csrc/cpu/mish_cpu.o build/temp.linux-x86_64-3.7/csrc/cuda/mish_cuda.o build/temp.linux-x86_64-3.7/csrc/cuda/mish_kernel.o -L/usr/local/lib/python3.7/dist-packages/torch/lib -L/usr/local/cuda/lib64 -lc10 -ltorch -ltorch_cpu -ltorch_python -lcudart -lc10_cuda -ltorch_cuda_cu -ltorch_cuda_cpp -o build/lib.linux-x86_64-3.7/mish_cuda/_C.cpython-37m-x86_64-linux-gnu.so\n",
            "running install\n",
            "running bdist_egg\n",
            "installing library code to build/bdist.linux-x86_64/egg\n",
            "running install_lib\n",
            "creating build/bdist.linux-x86_64\n",
            "creating build/bdist.linux-x86_64/egg\n",
            "creating build/bdist.linux-x86_64/egg/mish_cuda\n",
            "copying build/lib.linux-x86_64-3.7/mish_cuda/__init__.py -> build/bdist.linux-x86_64/egg/mish_cuda\n",
            "copying build/lib.linux-x86_64-3.7/mish_cuda/_C.cpython-37m-x86_64-linux-gnu.so -> build/bdist.linux-x86_64/egg/mish_cuda\n",
            "byte-compiling build/bdist.linux-x86_64/egg/mish_cuda/__init__.py to __init__.cpython-37.pyc\n",
            "creating stub loader for mish_cuda/_C.cpython-37m-x86_64-linux-gnu.so\n",
            "byte-compiling build/bdist.linux-x86_64/egg/mish_cuda/_C.py to _C.cpython-37.pyc\n",
            "creating build/bdist.linux-x86_64/egg/EGG-INFO\n",
            "copying src/mish_cuda.egg-info/PKG-INFO -> build/bdist.linux-x86_64/egg/EGG-INFO\n",
            "copying src/mish_cuda.egg-info/SOURCES.txt -> build/bdist.linux-x86_64/egg/EGG-INFO\n",
            "copying src/mish_cuda.egg-info/dependency_links.txt -> build/bdist.linux-x86_64/egg/EGG-INFO\n",
            "copying src/mish_cuda.egg-info/not-zip-safe -> build/bdist.linux-x86_64/egg/EGG-INFO\n",
            "copying src/mish_cuda.egg-info/requires.txt -> build/bdist.linux-x86_64/egg/EGG-INFO\n",
            "copying src/mish_cuda.egg-info/top_level.txt -> build/bdist.linux-x86_64/egg/EGG-INFO\n",
            "writing build/bdist.linux-x86_64/egg/EGG-INFO/native_libs.txt\n",
            "creating dist\n",
            "creating 'dist/mish_cuda-0.0.3-py3.7-linux-x86_64.egg' and adding 'build/bdist.linux-x86_64/egg' to it\n",
            "removing 'build/bdist.linux-x86_64/egg' (and everything under it)\n",
            "Processing mish_cuda-0.0.3-py3.7-linux-x86_64.egg\n",
            "creating /usr/local/lib/python3.7/dist-packages/mish_cuda-0.0.3-py3.7-linux-x86_64.egg\n",
            "Extracting mish_cuda-0.0.3-py3.7-linux-x86_64.egg to /usr/local/lib/python3.7/dist-packages\n",
            "Adding mish-cuda 0.0.3 to easy-install.pth file\n",
            "\n",
            "Installed /usr/local/lib/python3.7/dist-packages/mish_cuda-0.0.3-py3.7-linux-x86_64.egg\n",
            "Processing dependencies for mish-cuda==0.0.3\n",
            "Searching for torch==1.9.0+cu111\n",
            "Best match: torch 1.9.0+cu111\n",
            "Adding torch 1.9.0+cu111 to easy-install.pth file\n",
            "Installing convert-caffe2-to-onnx script to /usr/local/bin\n",
            "Installing convert-onnx-to-caffe2 script to /usr/local/bin\n",
            "\n",
            "Using /usr/local/lib/python3.7/dist-packages\n",
            "Searching for typing-extensions==3.7.4.3\n",
            "Best match: typing-extensions 3.7.4.3\n",
            "Adding typing-extensions 3.7.4.3 to easy-install.pth file\n",
            "\n",
            "Using /usr/local/lib/python3.7/dist-packages\n",
            "Finished processing dependencies for mish-cuda==0.0.3\n"
          ]
        }
      ]
    },
    {
      "cell_type": "code",
      "metadata": {
        "colab": {
          "base_uri": "https://localhost:8080/"
        },
        "id": "KtDt5MSkl8iN",
        "outputId": "8b09eb50-7316-48d6-e868-df5d5cc40288"
      },
      "source": [
        "!pip install -U PyYAML"
      ],
      "execution_count": 5,
      "outputs": [
        {
          "output_type": "stream",
          "name": "stdout",
          "text": [
            "Requirement already satisfied: PyYAML in /usr/local/lib/python3.7/dist-packages (3.13)\n",
            "Collecting PyYAML\n",
            "  Downloading PyYAML-5.4.1-cp37-cp37m-manylinux1_x86_64.whl (636 kB)\n",
            "\u001b[K     |████████████████████████████████| 636 kB 4.0 MB/s \n",
            "\u001b[?25hInstalling collected packages: PyYAML\n",
            "  Attempting uninstall: PyYAML\n",
            "    Found existing installation: PyYAML 3.13\n",
            "    Uninstalling PyYAML-3.13:\n",
            "      Successfully uninstalled PyYAML-3.13\n",
            "Successfully installed PyYAML-5.4.1\n"
          ]
        }
      ]
    },
    {
      "cell_type": "code",
      "metadata": {
        "colab": {
          "base_uri": "https://localhost:8080/"
        },
        "id": "946yOiRymL39",
        "outputId": "6ad9cf1b-7c6d-49af-f438-ddf59cb73e55"
      },
      "source": [
        "%cd /content/ScaledYOLOv4/\n",
        "!python train.py --help"
      ],
      "execution_count": null,
      "outputs": [
        {
          "name": "stdout",
          "output_type": "stream",
          "text": [
            "/content/ScaledYOLOv4\n",
            "usage: train.py [-h] [--weights WEIGHTS] [--cfg CFG] [--data DATA] [--hyp HYP]\n",
            "                [--epochs EPOCHS] [--batch-size BATCH_SIZE]\n",
            "                [--img-size IMG_SIZE [IMG_SIZE ...]] [--rect]\n",
            "                [--resume [RESUME]] [--nosave] [--notest] [--noautoanchor]\n",
            "                [--evolve] [--bucket BUCKET] [--cache-images] [--name NAME]\n",
            "                [--device DEVICE] [--multi-scale] [--single-cls] [--adam]\n",
            "                [--sync-bn] [--local_rank LOCAL_RANK] [--logdir LOGDIR]\n",
            "\n",
            "optional arguments:\n",
            "  -h, --help            show this help message and exit\n",
            "  --weights WEIGHTS     initial weights path\n",
            "  --cfg CFG             model.yaml path\n",
            "  --data DATA           data.yaml path\n",
            "  --hyp HYP             hyperparameters path, i.e. data/hyp.scratch.yaml\n",
            "  --epochs EPOCHS\n",
            "  --batch-size BATCH_SIZE\n",
            "                        total batch size for all GPUs\n",
            "  --img-size IMG_SIZE [IMG_SIZE ...]\n",
            "                        train,test sizes\n",
            "  --rect                rectangular training\n",
            "  --resume [RESUME]     resume from given path/last.pt, or most recent run if\n",
            "                        blank\n",
            "  --nosave              only save final checkpoint\n",
            "  --notest              only test final epoch\n",
            "  --noautoanchor        disable autoanchor check\n",
            "  --evolve              evolve hyperparameters\n",
            "  --bucket BUCKET       gsutil bucket\n",
            "  --cache-images        cache images for faster training\n",
            "  --name NAME           renames results.txt to results_name.txt if supplied\n",
            "  --device DEVICE       cuda device, i.e. 0 or 0,1,2,3 or cpu\n",
            "  --multi-scale         vary img-size +/- 50%\n",
            "  --single-cls          train as single-class dataset\n",
            "  --adam                use torch.optim.Adam() optimizer\n",
            "  --sync-bn             use SyncBatchNorm, only available in DDP mode\n",
            "  --local_rank LOCAL_RANK\n",
            "                        DDP parameter, do not modify\n",
            "  --logdir LOGDIR       logging directory\n"
          ]
        }
      ]
    },
    {
      "cell_type": "code",
      "metadata": {
        "id": "VUuowbUzgODH"
      },
      "source": [
        "!cp -r /content/drive/MyDrive/ScaledYolo_Data /content/"
      ],
      "execution_count": 6,
      "outputs": []
    },
    {
      "cell_type": "code",
      "metadata": {
        "id": "iAVrw8bIMzhA"
      },
      "source": [
        "!cp -r /content/ScaledYOLOv4 /content/drive/MyDrive/Scaled_YOLOv4/"
      ],
      "execution_count": null,
      "outputs": []
    },
    {
      "cell_type": "code",
      "metadata": {
        "colab": {
          "base_uri": "https://localhost:8080/"
        },
        "id": "mOz5jjZYf89n",
        "outputId": "0a23ed9f-d042-4d27-eb85-511c12d6a49b"
      },
      "source": [
        "%cd /content/ScaledYOLOv4/\n",
        "!python train.py --img 415 --batch 4 --epochs 1600 --data /content/ScaledYOLOv4/data/coco.yaml --cfg /content/ScaledYOLOv4/models/yolov4-csp.yaml --weights '/content/drive/MyDrive/8_Oct_CSP_4_UpdLR4/exp0_yolov4-csp-results/weights/last.pt' --name yolov4-csp-results --logdir '/content/drive/MyDrive/8_Oct_CSP_UpdLR_5/' --hyp /content/ScaledYOLOv4/data/hyp.scratch.yaml"
      ],
      "execution_count": 8,
      "outputs": [
        {
          "output_type": "stream",
          "name": "stdout",
          "text": [
            "/content/ScaledYOLOv4\n",
            "Using CUDA device0 _CudaDeviceProperties(name='Tesla K80', total_memory=11441MB)\n",
            "\n",
            "Namespace(adam=False, batch_size=4, bucket='', cache_images=False, cfg='/content/ScaledYOLOv4/models/yolov4-csp.yaml', data='/content/ScaledYOLOv4/data/coco.yaml', device='', epochs=1600, evolve=False, global_rank=-1, hyp='/content/ScaledYOLOv4/data/hyp.scratch.yaml', img_size=[415, 415], local_rank=-1, logdir='/content/drive/MyDrive/8_Oct_CSP_UpdLR_5/', multi_scale=False, name='yolov4-csp-results', noautoanchor=False, nosave=False, notest=False, rect=False, resume=False, single_cls=False, sync_bn=False, total_batch_size=4, weights='/content/drive/MyDrive/8_Oct_CSP_4_UpdLR4/exp0_yolov4-csp-results/weights/last.pt', world_size=1)\n",
            "Start Tensorboard with \"tensorboard --logdir /content/drive/MyDrive/8_Oct_CSP_UpdLR_5/\", view at http://localhost:6006/\n",
            "Hyperparameters {'lr0': 0.001, 'momentum': 0.937, 'weight_decay': 0.0005, 'giou': 0.05, 'cls': 0.5, 'cls_pw': 1.0, 'obj': 1.0, 'obj_pw': 1.0, 'iou_t': 0.2, 'anchor_t': 4.0, 'fl_gamma': 0.0, 'hsv_h': 0.015, 'hsv_s': 0.7, 'hsv_v': 0.4, 'degrees': 0.0, 'translate': 0.5, 'scale': 0.5, 'shear': 0.0, 'perspective': 0.0, 'flipud': 0.0, 'fliplr': 0.5, 'mixup': 0.0}\n",
            "\n",
            "                 from  n    params  module                                  arguments                     \n",
            "  0                -1  1       928  models.common.Conv                      [3, 32, 3, 1]                 \n",
            "  1                -1  1     18560  models.common.Conv                      [32, 64, 3, 2]                \n",
            "  2                -1  1     20672  models.common.Bottleneck                [64, 64]                      \n",
            "  3                -1  1     73984  models.common.Conv                      [64, 128, 3, 2]               \n",
            "  4                -1  1    119936  models.common.BottleneckCSP             [128, 128, 2]                 \n",
            "  5                -1  1    295424  models.common.Conv                      [128, 256, 3, 2]              \n",
            "  6                -1  1   1463552  models.common.BottleneckCSP             [256, 256, 8]                 \n",
            "  7                -1  1   1180672  models.common.Conv                      [256, 512, 3, 2]              \n",
            "  8                -1  1   5843456  models.common.BottleneckCSP             [512, 512, 8]                 \n",
            "  9                -1  1   4720640  models.common.Conv                      [512, 1024, 3, 2]             \n",
            " 10                -1  1  12858368  models.common.BottleneckCSP             [1024, 1024, 4]               \n",
            " 11                -1  1   7610368  models.common.SPPCSP                    [1024, 512, 1]                \n",
            " 12                -1  1    131584  models.common.Conv                      [512, 256, 1, 1]              \n",
            " 13                -1  1         0  torch.nn.modules.upsampling.Upsample    [None, 2, 'nearest']          \n",
            " 14                 8  1    131584  models.common.Conv                      [512, 256, 1, 1]              \n",
            " 15          [-1, -2]  1         0  models.common.Concat                    [1]                           \n",
            " 16                -1  1   1642496  models.common.BottleneckCSP2            [512, 256, 2]                 \n",
            " 17                -1  1     33024  models.common.Conv                      [256, 128, 1, 1]              \n",
            " 18                -1  1         0  torch.nn.modules.upsampling.Upsample    [None, 2, 'nearest']          \n",
            " 19                 6  1     33024  models.common.Conv                      [256, 128, 1, 1]              \n",
            " 20          [-1, -2]  1         0  models.common.Concat                    [1]                           \n",
            " 21                -1  1    411648  models.common.BottleneckCSP2            [256, 128, 2]                 \n",
            " 22                -1  1    295424  models.common.Conv                      [128, 256, 3, 1]              \n",
            " 23                -2  1    295424  models.common.Conv                      [128, 256, 3, 2]              \n",
            " 24          [-1, 16]  1         0  models.common.Concat                    [1]                           \n",
            " 25                -1  1   1642496  models.common.BottleneckCSP2            [512, 256, 2]                 \n",
            " 26                -1  1   1180672  models.common.Conv                      [256, 512, 3, 1]              \n",
            " 27                -2  1   1180672  models.common.Conv                      [256, 512, 3, 2]              \n",
            " 28          [-1, 11]  1         0  models.common.Concat                    [1]                           \n",
            " 29                -1  1   6561792  models.common.BottleneckCSP2            [1024, 512, 2]                \n",
            " 30                -1  1   4720640  models.common.Conv                      [512, 1024, 3, 1]             \n",
            " 31      [22, 26, 30]  1     43080  models.yolo.Detect                      [3, [[12, 16, 19, 36, 40, 28], [36, 75, 76, 55, 72, 146], [142, 110, 192, 243, 459, 401]], [256, 512, 1024]]\n",
            "/usr/local/lib/python3.7/dist-packages/torch/nn/functional.py:718: UserWarning: Named tensors and all their associated APIs are an experimental feature and subject to change. Please do not use them for anything important until they are released as stable. (Triggered internally at  /pytorch/c10/core/TensorImpl.h:1156.)\n",
            "  return torch.max_pool2d(input, kernel_size, stride, padding, dilation, ceil_mode)\n",
            "Model Summary: 334 layers, 5.25101e+07 parameters, 5.25101e+07 gradients\n",
            "\n",
            "Transferred 658/660 items from /content/drive/MyDrive/8_Oct_CSP_4_UpdLR4/exp0_yolov4-csp-results/weights/last.pt\n",
            "Optimizer groups: 111 .bias, 115 conv.weight, 108 other\n",
            "/content/drive/MyDrive/8_Oct_CSP_4_UpdLR4/exp0_yolov4-csp-results/weights/last.pt has been trained for 2129 epochs. Fine-tuning for 1600 additional epochs.\n",
            "WARNING: --img-size 415 must be multiple of max stride 32, updating to 416\n",
            "WARNING: --img-size 415 must be multiple of max stride 32, updating to 416\n",
            "Scanning labels /content/ScaledYolo_Data/train.cache (394 found, 0 missing, 0 empty, 0 duplicate, for 394 images): 100% 394/394 [00:00<00:00, 12683.09it/s]\n",
            "Scanning labels /content/ScaledYolo_Data/val.cache (53 found, 0 missing, 0 empty, 0 duplicate, for 53 images): 100% 53/53 [00:00<00:00, 12724.56it/s]\n",
            "\n",
            "Analyzing anchors... anchors/target = 3.31, Best Possible Recall (BPR) = 0.9487. Attempting to generate improved anchors, please wait...\n",
            "WARNING: Extremely small objects found. 5 of 663 labels are < 3 pixels in width or height.\n",
            "Running kmeans for 9 anchors on 663 points...\n",
            "thr=0.25: 0.9578 best possible recall, 5.11 anchors past thr\n",
            "n=9, img_size=416, metric_all=0.333/0.687-mean/best, past_thr=0.488-mean: 19,70,  27,179,  105,131,  47,377,  77,268,  116,392,  191,248,  213,393,  338,322\n",
            "Evolving anchors with Genetic Algorithm: fitness = 0.7250: 100% 1000/1000 [00:00<00:00, 2049.23it/s]\n",
            "thr=0.25: 0.9940 best possible recall, 5.15 anchors past thr\n",
            "n=9, img_size=416, metric_all=0.334/0.726-mean/best, past_thr=0.487-mean: 8,54,  21,137,  26,348,  95,124,  63,228,  70,388,  114,364,  234,263,  199,385\n",
            "New anchors saved to model. Update model *.yaml to use these anchors in the future.\n",
            "\n",
            "Image sizes 416 train, 416 test\n",
            "Using 2 dataloader workers\n",
            "Starting training for 3729 epochs...\n",
            "\n",
            "     Epoch   gpu_mem      GIoU       obj       cls     total   targets  img_size\n",
            " 2130/3728     4.03G   0.05567   0.02587 0.0005901   0.08213         2       416: 100% 99/99 [01:20<00:00,  1.23it/s]\n",
            "               Class      Images     Targets           P           R      mAP@.5  mAP@.5:.95:   0% 0/14 [00:00<?, ?it/s][W pthreadpool-cpp.cc:90] Warning: Leaking Caffe2 thread-pool after fork. (function pthreadpool)\n",
            "[W pthreadpool-cpp.cc:90] Warning: Leaking Caffe2 thread-pool after fork. (function pthreadpool)\n",
            "               Class      Images     Targets           P           R      mAP@.5  mAP@.5:.95: 100% 14/14 [00:04<00:00,  2.84it/s]\n",
            "                 all          53         103       0.108       0.479       0.142      0.0471\n",
            "[W pthreadpool-cpp.cc:90] Warning: Leaking Caffe2 thread-pool after fork. (function pthreadpool)\n",
            "[W pthreadpool-cpp.cc:90] Warning: Leaking Caffe2 thread-pool after fork. (function pthreadpool)\n",
            "\n",
            "     Epoch   gpu_mem      GIoU       obj       cls     total   targets  img_size\n",
            " 2131/3728     4.08G   0.04374   0.02361 0.0005343   0.06788         4       416: 100% 99/99 [01:07<00:00,  1.46it/s]\n",
            "               Class      Images     Targets           P           R      mAP@.5  mAP@.5:.95:   0% 0/14 [00:00<?, ?it/s][W pthreadpool-cpp.cc:90] Warning: Leaking Caffe2 thread-pool after fork. (function pthreadpool)\n",
            "[W pthreadpool-cpp.cc:90] Warning: Leaking Caffe2 thread-pool after fork. (function pthreadpool)\n",
            "               Class      Images     Targets           P           R      mAP@.5  mAP@.5:.95: 100% 14/14 [00:03<00:00,  4.18it/s]\n",
            "                 all          53         103        0.11       0.479       0.142       0.048\n",
            "[W pthreadpool-cpp.cc:90] Warning: Leaking Caffe2 thread-pool after fork. (function pthreadpool)\n",
            "[W pthreadpool-cpp.cc:90] Warning: Leaking Caffe2 thread-pool after fork. (function pthreadpool)\n",
            "\n",
            "     Epoch   gpu_mem      GIoU       obj       cls     total   targets  img_size\n",
            " 2132/3728     4.08G   0.04054    0.0196 0.0007707   0.06091         7       416: 100% 99/99 [01:07<00:00,  1.46it/s]\n",
            "               Class      Images     Targets           P           R      mAP@.5  mAP@.5:.95:   0% 0/14 [00:00<?, ?it/s][W pthreadpool-cpp.cc:90] Warning: Leaking Caffe2 thread-pool after fork. (function pthreadpool)\n",
            "[W pthreadpool-cpp.cc:90] Warning: Leaking Caffe2 thread-pool after fork. (function pthreadpool)\n",
            "               Class      Images     Targets           P           R      mAP@.5  mAP@.5:.95: 100% 14/14 [00:03<00:00,  4.15it/s]\n",
            "                 all          53         103       0.111       0.479       0.145      0.0492\n",
            "[W pthreadpool-cpp.cc:90] Warning: Leaking Caffe2 thread-pool after fork. (function pthreadpool)\n",
            "[W pthreadpool-cpp.cc:90] Warning: Leaking Caffe2 thread-pool after fork. (function pthreadpool)\n",
            "\n",
            "     Epoch   gpu_mem      GIoU       obj       cls     total   targets  img_size\n",
            " 2133/3728     4.08G   0.03665    0.0194 0.0006041   0.05665         6       416: 100% 99/99 [01:08<00:00,  1.45it/s]\n",
            "               Class      Images     Targets           P           R      mAP@.5  mAP@.5:.95:   0% 0/14 [00:00<?, ?it/s][W pthreadpool-cpp.cc:90] Warning: Leaking Caffe2 thread-pool after fork. (function pthreadpool)\n",
            "[W pthreadpool-cpp.cc:90] Warning: Leaking Caffe2 thread-pool after fork. (function pthreadpool)\n",
            "               Class      Images     Targets           P           R      mAP@.5  mAP@.5:.95: 100% 14/14 [00:03<00:00,  4.17it/s]\n",
            "                 all          53         103       0.107       0.464       0.139      0.0451\n",
            "[W pthreadpool-cpp.cc:90] Warning: Leaking Caffe2 thread-pool after fork. (function pthreadpool)\n",
            "[W pthreadpool-cpp.cc:90] Warning: Leaking Caffe2 thread-pool after fork. (function pthreadpool)\n",
            "\n",
            "     Epoch   gpu_mem      GIoU       obj       cls     total   targets  img_size\n",
            " 2134/3728     4.08G   0.03246   0.01887   0.00104   0.05237         7       416: 100% 99/99 [01:08<00:00,  1.45it/s]\n",
            "               Class      Images     Targets           P           R      mAP@.5  mAP@.5:.95:   0% 0/14 [00:00<?, ?it/s][W pthreadpool-cpp.cc:90] Warning: Leaking Caffe2 thread-pool after fork. (function pthreadpool)\n",
            "[W pthreadpool-cpp.cc:90] Warning: Leaking Caffe2 thread-pool after fork. (function pthreadpool)\n",
            "               Class      Images     Targets           P           R      mAP@.5  mAP@.5:.95: 100% 14/14 [00:03<00:00,  4.15it/s]\n",
            "                 all          53         103       0.101       0.441       0.138       0.045\n",
            "[W pthreadpool-cpp.cc:90] Warning: Leaking Caffe2 thread-pool after fork. (function pthreadpool)\n",
            "[W pthreadpool-cpp.cc:90] Warning: Leaking Caffe2 thread-pool after fork. (function pthreadpool)\n",
            "\n",
            "     Epoch   gpu_mem      GIoU       obj       cls     total   targets  img_size\n",
            " 2135/3728     4.08G   0.02917    0.0178 0.0007338   0.04771         5       416: 100% 99/99 [01:08<00:00,  1.45it/s]\n",
            "               Class      Images     Targets           P           R      mAP@.5  mAP@.5:.95:   0% 0/14 [00:00<?, ?it/s][W pthreadpool-cpp.cc:90] Warning: Leaking Caffe2 thread-pool after fork. (function pthreadpool)\n",
            "[W pthreadpool-cpp.cc:90] Warning: Leaking Caffe2 thread-pool after fork. (function pthreadpool)\n",
            "               Class      Images     Targets           P           R      mAP@.5  mAP@.5:.95: 100% 14/14 [00:03<00:00,  4.21it/s]\n",
            "                 all          53         103      0.0963       0.425        0.13      0.0394\n",
            "[W pthreadpool-cpp.cc:90] Warning: Leaking Caffe2 thread-pool after fork. (function pthreadpool)\n",
            "[W pthreadpool-cpp.cc:90] Warning: Leaking Caffe2 thread-pool after fork. (function pthreadpool)\n",
            "\n",
            "     Epoch   gpu_mem      GIoU       obj       cls     total   targets  img_size\n",
            " 2136/3728     4.08G   0.02752   0.01833 0.0008628   0.04671         2       416: 100% 99/99 [01:08<00:00,  1.45it/s]\n",
            "               Class      Images     Targets           P           R      mAP@.5  mAP@.5:.95:   0% 0/14 [00:00<?, ?it/s][W pthreadpool-cpp.cc:90] Warning: Leaking Caffe2 thread-pool after fork. (function pthreadpool)\n",
            "[W pthreadpool-cpp.cc:90] Warning: Leaking Caffe2 thread-pool after fork. (function pthreadpool)\n",
            "               Class      Images     Targets           P           R      mAP@.5  mAP@.5:.95: 100% 14/14 [00:03<00:00,  4.18it/s]\n",
            "                 all          53         103      0.0993       0.432       0.129      0.0338\n",
            "[W pthreadpool-cpp.cc:90] Warning: Leaking Caffe2 thread-pool after fork. (function pthreadpool)\n",
            "[W pthreadpool-cpp.cc:90] Warning: Leaking Caffe2 thread-pool after fork. (function pthreadpool)\n",
            "\n",
            "     Epoch   gpu_mem      GIoU       obj       cls     total   targets  img_size\n",
            " 2137/3728     4.08G   0.02349   0.01764 0.0005193   0.04165         3       416: 100% 99/99 [01:07<00:00,  1.46it/s]\n",
            "               Class      Images     Targets           P           R      mAP@.5  mAP@.5:.95:   0% 0/14 [00:00<?, ?it/s][W pthreadpool-cpp.cc:90] Warning: Leaking Caffe2 thread-pool after fork. (function pthreadpool)\n",
            "[W pthreadpool-cpp.cc:90] Warning: Leaking Caffe2 thread-pool after fork. (function pthreadpool)\n",
            "               Class      Images     Targets           P           R      mAP@.5  mAP@.5:.95: 100% 14/14 [00:03<00:00,  4.18it/s]\n",
            "                 all          53         103      0.0992       0.432       0.133      0.0361\n",
            "[W pthreadpool-cpp.cc:90] Warning: Leaking Caffe2 thread-pool after fork. (function pthreadpool)\n",
            "[W pthreadpool-cpp.cc:90] Warning: Leaking Caffe2 thread-pool after fork. (function pthreadpool)\n",
            "\n",
            "     Epoch   gpu_mem      GIoU       obj       cls     total   targets  img_size\n",
            " 2138/3728     4.08G   0.02226   0.01693 0.0008629   0.04005         2       416: 100% 99/99 [01:07<00:00,  1.46it/s]\n",
            "               Class      Images     Targets           P           R      mAP@.5  mAP@.5:.95:   0% 0/14 [00:00<?, ?it/s][W pthreadpool-cpp.cc:90] Warning: Leaking Caffe2 thread-pool after fork. (function pthreadpool)\n",
            "[W pthreadpool-cpp.cc:90] Warning: Leaking Caffe2 thread-pool after fork. (function pthreadpool)\n",
            "               Class      Images     Targets           P           R      mAP@.5  mAP@.5:.95: 100% 14/14 [00:03<00:00,  4.15it/s]\n",
            "                 all          53         103       0.101       0.432       0.136      0.0369\n",
            "[W pthreadpool-cpp.cc:90] Warning: Leaking Caffe2 thread-pool after fork. (function pthreadpool)\n",
            "[W pthreadpool-cpp.cc:90] Warning: Leaking Caffe2 thread-pool after fork. (function pthreadpool)\n",
            "\n",
            "     Epoch   gpu_mem      GIoU       obj       cls     total   targets  img_size\n",
            " 2139/3728     4.08G    0.0204   0.01721 0.0006649   0.03828         3       416: 100% 99/99 [01:07<00:00,  1.46it/s]\n",
            "               Class      Images     Targets           P           R      mAP@.5  mAP@.5:.95:   0% 0/14 [00:00<?, ?it/s][W pthreadpool-cpp.cc:90] Warning: Leaking Caffe2 thread-pool after fork. (function pthreadpool)\n",
            "[W pthreadpool-cpp.cc:90] Warning: Leaking Caffe2 thread-pool after fork. (function pthreadpool)\n",
            "               Class      Images     Targets           P           R      mAP@.5  mAP@.5:.95: 100% 14/14 [00:03<00:00,  4.21it/s]\n",
            "                 all          53         103        0.11       0.455        0.16      0.0459\n",
            "[W pthreadpool-cpp.cc:90] Warning: Leaking Caffe2 thread-pool after fork. (function pthreadpool)\n",
            "[W pthreadpool-cpp.cc:90] Warning: Leaking Caffe2 thread-pool after fork. (function pthreadpool)\n",
            "\n",
            "     Epoch   gpu_mem      GIoU       obj       cls     total   targets  img_size\n",
            " 2140/3728     4.08G   0.01947   0.01659 0.0004742   0.03653         5       416: 100% 99/99 [01:08<00:00,  1.45it/s]\n",
            "               Class      Images     Targets           P           R      mAP@.5  mAP@.5:.95:   0% 0/14 [00:00<?, ?it/s][W pthreadpool-cpp.cc:90] Warning: Leaking Caffe2 thread-pool after fork. (function pthreadpool)\n",
            "[W pthreadpool-cpp.cc:90] Warning: Leaking Caffe2 thread-pool after fork. (function pthreadpool)\n",
            "               Class      Images     Targets           P           R      mAP@.5  mAP@.5:.95: 100% 14/14 [00:03<00:00,  4.17it/s]\n",
            "                 all          53         103       0.117        0.47       0.182      0.0531\n",
            "[W pthreadpool-cpp.cc:90] Warning: Leaking Caffe2 thread-pool after fork. (function pthreadpool)\n",
            "[W pthreadpool-cpp.cc:90] Warning: Leaking Caffe2 thread-pool after fork. (function pthreadpool)\n",
            "\n",
            "     Epoch   gpu_mem      GIoU       obj       cls     total   targets  img_size\n",
            " 2141/3728     4.08G   0.01892   0.01671 0.0005976   0.03623         5       416: 100% 99/99 [01:08<00:00,  1.45it/s]\n",
            "               Class      Images     Targets           P           R      mAP@.5  mAP@.5:.95:   0% 0/14 [00:00<?, ?it/s][W pthreadpool-cpp.cc:90] Warning: Leaking Caffe2 thread-pool after fork. (function pthreadpool)\n",
            "[W pthreadpool-cpp.cc:90] Warning: Leaking Caffe2 thread-pool after fork. (function pthreadpool)\n",
            "               Class      Images     Targets           P           R      mAP@.5  mAP@.5:.95: 100% 14/14 [00:03<00:00,  4.17it/s]\n",
            "                 all          53         103       0.124       0.486       0.188      0.0584\n",
            "[W pthreadpool-cpp.cc:90] Warning: Leaking Caffe2 thread-pool after fork. (function pthreadpool)\n",
            "[W pthreadpool-cpp.cc:90] Warning: Leaking Caffe2 thread-pool after fork. (function pthreadpool)\n",
            "\n",
            "     Epoch   gpu_mem      GIoU       obj       cls     total   targets  img_size\n",
            " 2142/3728     4.09G   0.01723   0.01593 0.0005006   0.03366         3       416: 100% 99/99 [01:07<00:00,  1.46it/s]\n",
            "               Class      Images     Targets           P           R      mAP@.5  mAP@.5:.95:   0% 0/14 [00:00<?, ?it/s][W pthreadpool-cpp.cc:90] Warning: Leaking Caffe2 thread-pool after fork. (function pthreadpool)\n",
            "[W pthreadpool-cpp.cc:90] Warning: Leaking Caffe2 thread-pool after fork. (function pthreadpool)\n",
            "               Class      Images     Targets           P           R      mAP@.5  mAP@.5:.95: 100% 14/14 [00:03<00:00,  4.17it/s]\n",
            "                 all          53         103        0.13       0.501       0.193      0.0597\n",
            "[W pthreadpool-cpp.cc:90] Warning: Leaking Caffe2 thread-pool after fork. (function pthreadpool)\n",
            "[W pthreadpool-cpp.cc:90] Warning: Leaking Caffe2 thread-pool after fork. (function pthreadpool)\n",
            "\n",
            "     Epoch   gpu_mem      GIoU       obj       cls     total   targets  img_size\n",
            " 2143/3728     4.09G   0.01726   0.01807 0.0007562   0.03609         7       416: 100% 99/99 [01:07<00:00,  1.46it/s]\n",
            "               Class      Images     Targets           P           R      mAP@.5  mAP@.5:.95:   0% 0/14 [00:00<?, ?it/s][W pthreadpool-cpp.cc:90] Warning: Leaking Caffe2 thread-pool after fork. (function pthreadpool)\n",
            "[W pthreadpool-cpp.cc:90] Warning: Leaking Caffe2 thread-pool after fork. (function pthreadpool)\n",
            "               Class      Images     Targets           P           R      mAP@.5  mAP@.5:.95: 100% 14/14 [00:03<00:00,  4.19it/s]\n",
            "                 all          53         103       0.136       0.517        0.19      0.0525\n",
            "[W pthreadpool-cpp.cc:90] Warning: Leaking Caffe2 thread-pool after fork. (function pthreadpool)\n",
            "[W pthreadpool-cpp.cc:90] Warning: Leaking Caffe2 thread-pool after fork. (function pthreadpool)\n",
            "\n",
            "     Epoch   gpu_mem      GIoU       obj       cls     total   targets  img_size\n",
            " 2144/3728     4.09G   0.01646   0.01717 0.0009516   0.03459         5       416: 100% 99/99 [01:07<00:00,  1.46it/s]\n",
            "               Class      Images     Targets           P           R      mAP@.5  mAP@.5:.95:   0% 0/14 [00:00<?, ?it/s][W pthreadpool-cpp.cc:90] Warning: Leaking Caffe2 thread-pool after fork. (function pthreadpool)\n",
            "[W pthreadpool-cpp.cc:90] Warning: Leaking Caffe2 thread-pool after fork. (function pthreadpool)\n",
            "               Class      Images     Targets           P           R      mAP@.5  mAP@.5:.95: 100% 14/14 [00:03<00:00,  4.18it/s]\n",
            "                 all          53         103       0.141       0.525       0.191      0.0528\n",
            "[W pthreadpool-cpp.cc:90] Warning: Leaking Caffe2 thread-pool after fork. (function pthreadpool)\n",
            "[W pthreadpool-cpp.cc:90] Warning: Leaking Caffe2 thread-pool after fork. (function pthreadpool)\n",
            "\n",
            "     Epoch   gpu_mem      GIoU       obj       cls     total   targets  img_size\n",
            " 2145/3728     4.09G   0.01538   0.01688 0.0005535   0.03281         1       416: 100% 99/99 [01:07<00:00,  1.46it/s]\n",
            "               Class      Images     Targets           P           R      mAP@.5  mAP@.5:.95:   0% 0/14 [00:00<?, ?it/s][W pthreadpool-cpp.cc:90] Warning: Leaking Caffe2 thread-pool after fork. (function pthreadpool)\n",
            "[W pthreadpool-cpp.cc:90] Warning: Leaking Caffe2 thread-pool after fork. (function pthreadpool)\n",
            "               Class      Images     Targets           P           R      mAP@.5  mAP@.5:.95: 100% 14/14 [00:03<00:00,  4.16it/s]\n",
            "                 all          53         103       0.142       0.525       0.189      0.0544\n",
            "[W pthreadpool-cpp.cc:90] Warning: Leaking Caffe2 thread-pool after fork. (function pthreadpool)\n",
            "[W pthreadpool-cpp.cc:90] Warning: Leaking Caffe2 thread-pool after fork. (function pthreadpool)\n",
            "\n",
            "     Epoch   gpu_mem      GIoU       obj       cls     total   targets  img_size\n",
            " 2146/3728     4.09G    0.0143   0.01563 0.0006746    0.0306         5       416: 100% 99/99 [01:07<00:00,  1.46it/s]\n",
            "               Class      Images     Targets           P           R      mAP@.5  mAP@.5:.95:   0% 0/14 [00:00<?, ?it/s][W pthreadpool-cpp.cc:90] Warning: Leaking Caffe2 thread-pool after fork. (function pthreadpool)\n",
            "[W pthreadpool-cpp.cc:90] Warning: Leaking Caffe2 thread-pool after fork. (function pthreadpool)\n",
            "               Class      Images     Targets           P           R      mAP@.5  mAP@.5:.95: 100% 14/14 [00:03<00:00,  4.18it/s]\n",
            "                 all          53         103       0.143       0.525        0.19      0.0558\n",
            "[W pthreadpool-cpp.cc:90] Warning: Leaking Caffe2 thread-pool after fork. (function pthreadpool)\n",
            "[W pthreadpool-cpp.cc:90] Warning: Leaking Caffe2 thread-pool after fork. (function pthreadpool)\n",
            "\n",
            "     Epoch   gpu_mem      GIoU       obj       cls     total   targets  img_size\n",
            " 2147/3728     4.09G   0.01412   0.01562 0.0004989   0.03023         4       416: 100% 99/99 [01:07<00:00,  1.46it/s]\n",
            "               Class      Images     Targets           P           R      mAP@.5  mAP@.5:.95:   0% 0/14 [00:00<?, ?it/s][W pthreadpool-cpp.cc:90] Warning: Leaking Caffe2 thread-pool after fork. (function pthreadpool)\n",
            "[W pthreadpool-cpp.cc:90] Warning: Leaking Caffe2 thread-pool after fork. (function pthreadpool)\n",
            "               Class      Images     Targets           P           R      mAP@.5  mAP@.5:.95: 100% 14/14 [00:03<00:00,  4.16it/s]\n",
            "                 all          53         103       0.148       0.532       0.195      0.0578\n",
            "[W pthreadpool-cpp.cc:90] Warning: Leaking Caffe2 thread-pool after fork. (function pthreadpool)\n",
            "[W pthreadpool-cpp.cc:90] Warning: Leaking Caffe2 thread-pool after fork. (function pthreadpool)\n",
            "\n",
            "     Epoch   gpu_mem      GIoU       obj       cls     total   targets  img_size\n",
            " 2148/3728     4.09G   0.01389     0.017 0.0007171    0.0316         4       416: 100% 99/99 [01:08<00:00,  1.45it/s]\n",
            "               Class      Images     Targets           P           R      mAP@.5  mAP@.5:.95:   0% 0/14 [00:00<?, ?it/s][W pthreadpool-cpp.cc:90] Warning: Leaking Caffe2 thread-pool after fork. (function pthreadpool)\n",
            "[W pthreadpool-cpp.cc:90] Warning: Leaking Caffe2 thread-pool after fork. (function pthreadpool)\n",
            "               Class      Images     Targets           P           R      mAP@.5  mAP@.5:.95: 100% 14/14 [00:03<00:00,  4.18it/s]\n",
            "                 all          53         103       0.156        0.56       0.223      0.0603\n",
            "[W pthreadpool-cpp.cc:90] Warning: Leaking Caffe2 thread-pool after fork. (function pthreadpool)\n",
            "[W pthreadpool-cpp.cc:90] Warning: Leaking Caffe2 thread-pool after fork. (function pthreadpool)\n",
            "\n",
            "     Epoch   gpu_mem      GIoU       obj       cls     total   targets  img_size\n",
            " 2149/3728     4.09G   0.01414   0.01689 0.0006414   0.03168         3       416: 100% 99/99 [01:08<00:00,  1.45it/s]\n",
            "               Class      Images     Targets           P           R      mAP@.5  mAP@.5:.95:   0% 0/14 [00:00<?, ?it/s][W pthreadpool-cpp.cc:90] Warning: Leaking Caffe2 thread-pool after fork. (function pthreadpool)\n",
            "[W pthreadpool-cpp.cc:90] Warning: Leaking Caffe2 thread-pool after fork. (function pthreadpool)\n",
            "               Class      Images     Targets           P           R      mAP@.5  mAP@.5:.95: 100% 14/14 [00:03<00:00,  4.15it/s]\n",
            "                 all          53         103       0.159       0.567       0.227      0.0573\n",
            "[W pthreadpool-cpp.cc:90] Warning: Leaking Caffe2 thread-pool after fork. (function pthreadpool)\n",
            "[W pthreadpool-cpp.cc:90] Warning: Leaking Caffe2 thread-pool after fork. (function pthreadpool)\n",
            "\n",
            "     Epoch   gpu_mem      GIoU       obj       cls     total   targets  img_size\n",
            " 2150/3728     4.09G   0.01377   0.01652 0.0005436   0.03084         4       416: 100% 99/99 [01:07<00:00,  1.46it/s]\n",
            "               Class      Images     Targets           P           R      mAP@.5  mAP@.5:.95:   0% 0/14 [00:00<?, ?it/s][W pthreadpool-cpp.cc:90] Warning: Leaking Caffe2 thread-pool after fork. (function pthreadpool)\n",
            "[W pthreadpool-cpp.cc:90] Warning: Leaking Caffe2 thread-pool after fork. (function pthreadpool)\n",
            "               Class      Images     Targets           P           R      mAP@.5  mAP@.5:.95: 100% 14/14 [00:03<00:00,  4.16it/s]\n",
            "                 all          53         103       0.162       0.575       0.259      0.0606\n",
            "[W pthreadpool-cpp.cc:90] Warning: Leaking Caffe2 thread-pool after fork. (function pthreadpool)\n",
            "[W pthreadpool-cpp.cc:90] Warning: Leaking Caffe2 thread-pool after fork. (function pthreadpool)\n",
            "\n",
            "     Epoch   gpu_mem      GIoU       obj       cls     total   targets  img_size\n",
            " 2151/3728     4.09G   0.01269   0.01551 0.0007064    0.0289         5       416: 100% 99/99 [01:08<00:00,  1.45it/s]\n",
            "               Class      Images     Targets           P           R      mAP@.5  mAP@.5:.95:   0% 0/14 [00:00<?, ?it/s][W pthreadpool-cpp.cc:90] Warning: Leaking Caffe2 thread-pool after fork. (function pthreadpool)\n",
            "[W pthreadpool-cpp.cc:90] Warning: Leaking Caffe2 thread-pool after fork. (function pthreadpool)\n",
            "               Class      Images     Targets           P           R      mAP@.5  mAP@.5:.95: 100% 14/14 [00:03<00:00,  4.18it/s]\n",
            "                 all          53         103       0.163       0.583        0.27      0.0625\n",
            "[W pthreadpool-cpp.cc:90] Warning: Leaking Caffe2 thread-pool after fork. (function pthreadpool)\n",
            "[W pthreadpool-cpp.cc:90] Warning: Leaking Caffe2 thread-pool after fork. (function pthreadpool)\n",
            "\n",
            "     Epoch   gpu_mem      GIoU       obj       cls     total   targets  img_size\n",
            " 2152/3728     4.09G   0.01307   0.01607 0.0003588   0.02951         4       416: 100% 99/99 [01:08<00:00,  1.45it/s]\n",
            "               Class      Images     Targets           P           R      mAP@.5  mAP@.5:.95:   0% 0/14 [00:00<?, ?it/s][W pthreadpool-cpp.cc:90] Warning: Leaking Caffe2 thread-pool after fork. (function pthreadpool)\n",
            "[W pthreadpool-cpp.cc:90] Warning: Leaking Caffe2 thread-pool after fork. (function pthreadpool)\n",
            "               Class      Images     Targets           P           R      mAP@.5  mAP@.5:.95: 100% 14/14 [00:03<00:00,  4.17it/s]\n",
            "                 all          53         103       0.168       0.612       0.277      0.0645\n",
            "[W pthreadpool-cpp.cc:90] Warning: Leaking Caffe2 thread-pool after fork. (function pthreadpool)\n",
            "[W pthreadpool-cpp.cc:90] Warning: Leaking Caffe2 thread-pool after fork. (function pthreadpool)\n",
            "\n",
            "     Epoch   gpu_mem      GIoU       obj       cls     total   targets  img_size\n",
            " 2153/3728     4.09G   0.01329   0.01582 0.0007337   0.02985         4       416: 100% 99/99 [01:08<00:00,  1.45it/s]\n",
            "               Class      Images     Targets           P           R      mAP@.5  mAP@.5:.95:   0% 0/14 [00:00<?, ?it/s][W pthreadpool-cpp.cc:90] Warning: Leaking Caffe2 thread-pool after fork. (function pthreadpool)\n",
            "[W pthreadpool-cpp.cc:90] Warning: Leaking Caffe2 thread-pool after fork. (function pthreadpool)\n",
            "               Class      Images     Targets           P           R      mAP@.5  mAP@.5:.95: 100% 14/14 [00:03<00:00,  4.15it/s]\n",
            "                 all          53         103       0.168       0.612         0.3      0.0663\n",
            "[W pthreadpool-cpp.cc:90] Warning: Leaking Caffe2 thread-pool after fork. (function pthreadpool)\n",
            "[W pthreadpool-cpp.cc:90] Warning: Leaking Caffe2 thread-pool after fork. (function pthreadpool)\n",
            "\n",
            "     Epoch   gpu_mem      GIoU       obj       cls     total   targets  img_size\n",
            " 2154/3728     4.09G   0.01276   0.01468 0.0005653     0.028         4       416: 100% 99/99 [01:08<00:00,  1.45it/s]\n",
            "               Class      Images     Targets           P           R      mAP@.5  mAP@.5:.95:   0% 0/14 [00:00<?, ?it/s][W pthreadpool-cpp.cc:90] Warning: Leaking Caffe2 thread-pool after fork. (function pthreadpool)\n",
            "[W pthreadpool-cpp.cc:90] Warning: Leaking Caffe2 thread-pool after fork. (function pthreadpool)\n",
            "               Class      Images     Targets           P           R      mAP@.5  mAP@.5:.95: 100% 14/14 [00:03<00:00,  4.17it/s]\n",
            "                 all          53         103       0.166       0.612       0.309       0.068\n",
            "[W pthreadpool-cpp.cc:90] Warning: Leaking Caffe2 thread-pool after fork. (function pthreadpool)\n",
            "[W pthreadpool-cpp.cc:90] Warning: Leaking Caffe2 thread-pool after fork. (function pthreadpool)\n",
            "\n",
            "     Epoch   gpu_mem      GIoU       obj       cls     total   targets  img_size\n",
            " 2155/3728     4.09G   0.01329   0.01588 0.0004899   0.02967         4       416: 100% 99/99 [01:08<00:00,  1.45it/s]\n",
            "               Class      Images     Targets           P           R      mAP@.5  mAP@.5:.95:   0% 0/14 [00:00<?, ?it/s][W pthreadpool-cpp.cc:90] Warning: Leaking Caffe2 thread-pool after fork. (function pthreadpool)\n",
            "[W pthreadpool-cpp.cc:90] Warning: Leaking Caffe2 thread-pool after fork. (function pthreadpool)\n",
            "               Class      Images     Targets           P           R      mAP@.5  mAP@.5:.95: 100% 14/14 [00:03<00:00,  4.19it/s]\n",
            "                 all          53         103       0.165       0.612        0.31      0.0693\n",
            "[W pthreadpool-cpp.cc:90] Warning: Leaking Caffe2 thread-pool after fork. (function pthreadpool)\n",
            "[W pthreadpool-cpp.cc:90] Warning: Leaking Caffe2 thread-pool after fork. (function pthreadpool)\n",
            "\n",
            "     Epoch   gpu_mem      GIoU       obj       cls     total   targets  img_size\n",
            " 2156/3728     4.09G   0.01297   0.01584  0.000405   0.02921         9       416: 100% 99/99 [01:07<00:00,  1.46it/s]\n",
            "               Class      Images     Targets           P           R      mAP@.5  mAP@.5:.95:   0% 0/14 [00:00<?, ?it/s][W pthreadpool-cpp.cc:90] Warning: Leaking Caffe2 thread-pool after fork. (function pthreadpool)\n",
            "[W pthreadpool-cpp.cc:90] Warning: Leaking Caffe2 thread-pool after fork. (function pthreadpool)\n",
            "               Class      Images     Targets           P           R      mAP@.5  mAP@.5:.95: 100% 14/14 [00:03<00:00,  4.14it/s]\n",
            "                 all          53         103       0.165       0.612       0.308      0.0684\n",
            "[W pthreadpool-cpp.cc:90] Warning: Leaking Caffe2 thread-pool after fork. (function pthreadpool)\n",
            "[W pthreadpool-cpp.cc:90] Warning: Leaking Caffe2 thread-pool after fork. (function pthreadpool)\n",
            "\n",
            "     Epoch   gpu_mem      GIoU       obj       cls     total   targets  img_size\n",
            " 2157/3728     4.09G   0.01274   0.01576  0.000696    0.0292         3       416: 100% 99/99 [01:07<00:00,  1.46it/s]\n",
            "               Class      Images     Targets           P           R      mAP@.5  mAP@.5:.95:   0% 0/14 [00:00<?, ?it/s][W pthreadpool-cpp.cc:90] Warning: Leaking Caffe2 thread-pool after fork. (function pthreadpool)\n",
            "[W pthreadpool-cpp.cc:90] Warning: Leaking Caffe2 thread-pool after fork. (function pthreadpool)\n",
            "               Class      Images     Targets           P           R      mAP@.5  mAP@.5:.95: 100% 14/14 [00:03<00:00,  4.17it/s]\n",
            "                 all          53         103       0.166       0.612       0.312      0.0681\n",
            "[W pthreadpool-cpp.cc:90] Warning: Leaking Caffe2 thread-pool after fork. (function pthreadpool)\n",
            "[W pthreadpool-cpp.cc:90] Warning: Leaking Caffe2 thread-pool after fork. (function pthreadpool)\n",
            "\n",
            "     Epoch   gpu_mem      GIoU       obj       cls     total   targets  img_size\n",
            " 2158/3728     4.09G   0.01256   0.01515  0.001014   0.02872         6       416: 100% 99/99 [01:07<00:00,  1.46it/s]\n",
            "               Class      Images     Targets           P           R      mAP@.5  mAP@.5:.95:   0% 0/14 [00:00<?, ?it/s][W pthreadpool-cpp.cc:90] Warning: Leaking Caffe2 thread-pool after fork. (function pthreadpool)\n",
            "[W pthreadpool-cpp.cc:90] Warning: Leaking Caffe2 thread-pool after fork. (function pthreadpool)\n",
            "               Class      Images     Targets           P           R      mAP@.5  mAP@.5:.95: 100% 14/14 [00:03<00:00,  4.14it/s]\n",
            "                 all          53         103       0.166       0.612       0.324      0.0699\n",
            "[W pthreadpool-cpp.cc:90] Warning: Leaking Caffe2 thread-pool after fork. (function pthreadpool)\n",
            "[W pthreadpool-cpp.cc:90] Warning: Leaking Caffe2 thread-pool after fork. (function pthreadpool)\n",
            "\n",
            "     Epoch   gpu_mem      GIoU       obj       cls     total   targets  img_size\n",
            " 2159/3728     4.09G   0.01281   0.01587 0.0005994   0.02927         2       416: 100% 99/99 [01:07<00:00,  1.46it/s]\n",
            "               Class      Images     Targets           P           R      mAP@.5  mAP@.5:.95:   0% 0/14 [00:00<?, ?it/s][W pthreadpool-cpp.cc:90] Warning: Leaking Caffe2 thread-pool after fork. (function pthreadpool)\n",
            "[W pthreadpool-cpp.cc:90] Warning: Leaking Caffe2 thread-pool after fork. (function pthreadpool)\n",
            "               Class      Images     Targets           P           R      mAP@.5  mAP@.5:.95: 100% 14/14 [00:03<00:00,  4.15it/s]\n",
            "                 all          53         103        0.17       0.632       0.334      0.0704\n",
            "[W pthreadpool-cpp.cc:90] Warning: Leaking Caffe2 thread-pool after fork. (function pthreadpool)\n",
            "[W pthreadpool-cpp.cc:90] Warning: Leaking Caffe2 thread-pool after fork. (function pthreadpool)\n",
            "\n",
            "     Epoch   gpu_mem      GIoU       obj       cls     total   targets  img_size\n",
            " 2160/3728     4.09G   0.01265   0.01607 0.0003937   0.02911         5       416: 100% 99/99 [01:08<00:00,  1.45it/s]\n",
            "               Class      Images     Targets           P           R      mAP@.5  mAP@.5:.95:   0% 0/14 [00:00<?, ?it/s][W pthreadpool-cpp.cc:90] Warning: Leaking Caffe2 thread-pool after fork. (function pthreadpool)\n",
            "[W pthreadpool-cpp.cc:90] Warning: Leaking Caffe2 thread-pool after fork. (function pthreadpool)\n",
            "               Class      Images     Targets           P           R      mAP@.5  mAP@.5:.95: 100% 14/14 [00:03<00:00,  4.16it/s]\n",
            "                 all          53         103       0.171       0.632       0.333      0.0691\n",
            "[W pthreadpool-cpp.cc:90] Warning: Leaking Caffe2 thread-pool after fork. (function pthreadpool)\n",
            "\n",
            "     Epoch   gpu_mem      GIoU       obj       cls     total   targets  img_size\n",
            "  0% 0/99 [00:00<?, ?it/s][W pthreadpool-cpp.cc:90] Warning: Leaking Caffe2 thread-pool after fork. (function pthreadpool)\n",
            " 2161/3728     4.09G   0.01303   0.01536 0.0005711   0.02896         5       416: 100% 99/99 [01:08<00:00,  1.45it/s]\n",
            "               Class      Images     Targets           P           R      mAP@.5  mAP@.5:.95:   0% 0/14 [00:00<?, ?it/s][W pthreadpool-cpp.cc:90] Warning: Leaking Caffe2 thread-pool after fork. (function pthreadpool)\n",
            "[W pthreadpool-cpp.cc:90] Warning: Leaking Caffe2 thread-pool after fork. (function pthreadpool)\n",
            "               Class      Images     Targets           P           R      mAP@.5  mAP@.5:.95: 100% 14/14 [00:03<00:00,  4.14it/s]\n",
            "                 all          53         103       0.173       0.632       0.336      0.0699\n",
            "[W pthreadpool-cpp.cc:90] Warning: Leaking Caffe2 thread-pool after fork. (function pthreadpool)\n",
            "[W pthreadpool-cpp.cc:90] Warning: Leaking Caffe2 thread-pool after fork. (function pthreadpool)\n",
            "\n",
            "     Epoch   gpu_mem      GIoU       obj       cls     total   targets  img_size\n",
            " 2162/3728     4.09G   0.01345   0.01606 0.0004183   0.02993         2       416: 100% 99/99 [01:08<00:00,  1.45it/s]\n",
            "               Class      Images     Targets           P           R      mAP@.5  mAP@.5:.95:   0% 0/14 [00:00<?, ?it/s][W pthreadpool-cpp.cc:90] Warning: Leaking Caffe2 thread-pool after fork. (function pthreadpool)\n",
            "[W pthreadpool-cpp.cc:90] Warning: Leaking Caffe2 thread-pool after fork. (function pthreadpool)\n",
            "               Class      Images     Targets           P           R      mAP@.5  mAP@.5:.95: 100% 14/14 [00:03<00:00,  4.12it/s]\n",
            "                 all          53         103       0.175       0.632       0.334      0.0735\n",
            "[W pthreadpool-cpp.cc:90] Warning: Leaking Caffe2 thread-pool after fork. (function pthreadpool)\n",
            "[W pthreadpool-cpp.cc:90] Warning: Leaking Caffe2 thread-pool after fork. (function pthreadpool)\n",
            "\n",
            "     Epoch   gpu_mem      GIoU       obj       cls     total   targets  img_size\n",
            " 2163/3728     4.09G   0.01266   0.01558 0.0005523   0.02879        11       416:  93% 92/99 [01:03<00:04,  1.47it/s]Exception ignored in: <generator object tqdm.__iter__ at 0x7f9ff83e44d0>\n",
            "Traceback (most recent call last):\n",
            "  File \"/usr/local/lib/python3.7/dist-packages/tqdm/std.py\", line 1195, in __iter__\n",
            "    self.close()\n",
            "  File \"/usr/local/lib/python3.7/dist-packages/tqdm/std.py\", line 1301, in close\n",
            "    self.display(pos=0)\n",
            "  File \"/usr/local/lib/python3.7/dist-packages/tqdm/std.py\", line 1494, in display\n",
            "    self.sp(self.__str__() if msg is None else msg)\n",
            "  File \"/usr/local/lib/python3.7/dist-packages/tqdm/std.py\", line 349, in print_status\n",
            "    len_s = disp_len(s)\n",
            "  File \"/usr/local/lib/python3.7/dist-packages/tqdm/utils.py\", line 338, in disp_len\n",
            "    return _text_width(RE_ANSI.sub('', data))\n",
            "  File \"/usr/local/lib/python3.7/dist-packages/tqdm/utils.py\", line 330, in _text_width\n",
            "    return sum(2 if east_asian_width(ch) in 'FW' else 1 for ch in _unicode(s))\n",
            "  File \"/usr/local/lib/python3.7/dist-packages/tqdm/utils.py\", line 330, in <genexpr>\n",
            "    return sum(2 if east_asian_width(ch) in 'FW' else 1 for ch in _unicode(s))\n",
            "KeyboardInterrupt: \n",
            "Traceback (most recent call last):\n",
            "  File \"train.py\", line 443, in <module>\n",
            "    train(hyp, opt, device, tb_writer)\n",
            "  File \"train.py\", line 256, in train\n",
            "    pred = model(imgs)\n",
            "  File \"/usr/local/lib/python3.7/dist-packages/torch/nn/modules/module.py\", line 1051, in _call_impl\n",
            "    return forward_call(*input, **kwargs)\n",
            "  File \"/content/ScaledYOLOv4/models/yolo.py\", line 109, in forward\n",
            "    return self.forward_once(x, profile)  # single-scale inference, train\n",
            "  File \"/content/ScaledYOLOv4/models/yolo.py\", line 129, in forward_once\n",
            "    x = m(x)  # run\n",
            "  File \"/usr/local/lib/python3.7/dist-packages/torch/nn/modules/module.py\", line 1051, in _call_impl\n",
            "    return forward_call(*input, **kwargs)\n",
            "  File \"/content/ScaledYOLOv4/models/common.py\", line 64, in forward\n",
            "    y1 = self.cv3(self.m(self.cv1(x)))\n",
            "  File \"/usr/local/lib/python3.7/dist-packages/torch/nn/modules/module.py\", line 1051, in _call_impl\n",
            "    return forward_call(*input, **kwargs)\n",
            "  File \"/usr/local/lib/python3.7/dist-packages/torch/nn/modules/container.py\", line 139, in forward\n",
            "    input = module(input)\n",
            "  File \"/usr/local/lib/python3.7/dist-packages/torch/nn/modules/module.py\", line 1051, in _call_impl\n",
            "    return forward_call(*input, **kwargs)\n",
            "  File \"/content/ScaledYOLOv4/models/common.py\", line 47, in forward\n",
            "    return x + self.cv2(self.cv1(x)) if self.add else self.cv2(self.cv1(x))\n",
            "  File \"/usr/local/lib/python3.7/dist-packages/torch/nn/modules/module.py\", line 1051, in _call_impl\n",
            "    return forward_call(*input, **kwargs)\n",
            "  File \"/content/ScaledYOLOv4/models/common.py\", line 31, in forward\n",
            "    return self.act(self.bn(self.conv(x)))\n",
            "  File \"/usr/local/lib/python3.7/dist-packages/torch/nn/modules/module.py\", line 1051, in _call_impl\n",
            "    return forward_call(*input, **kwargs)\n",
            "  File \"/usr/local/lib/python3.7/dist-packages/torch/nn/modules/conv.py\", line 443, in forward\n",
            "    return self._conv_forward(input, self.weight, self.bias)\n",
            "  File \"/usr/local/lib/python3.7/dist-packages/torch/nn/modules/conv.py\", line 440, in _conv_forward\n",
            "    self.padding, self.dilation, self.groups)\n",
            "KeyboardInterrupt\n"
          ]
        }
      ]
    },
    {
      "cell_type": "code",
      "metadata": {
        "colab": {
          "base_uri": "https://localhost:8080/"
        },
        "id": "XZ0NlY1lkLLQ",
        "outputId": "17670728-1856-4418-ab75-832b15be7a5d"
      },
      "source": [
        "# when we ran this, we saw .007 second inference time. That is 140 FPS on a TESLA P100!\n",
        "# use the best weights!\n",
        "%cd /content/ScaledYOLOv4/\n",
        "!python detect.py --weights /content/drive/MyDrive/8_Oct_CSP_UpdLR_5/exp0_yolov4-csp-results/weights/last.pt --img 416 --conf 0.4 --source /content/ScaledYolo_Data/val"
      ],
      "execution_count": 9,
      "outputs": [
        {
          "output_type": "stream",
          "name": "stdout",
          "text": [
            "/content/ScaledYOLOv4\n",
            "Namespace(agnostic_nms=False, augment=False, classes=None, conf_thres=0.4, device='', img_size=416, iou_thres=0.5, output='inference/output', save_txt=False, source='/content/ScaledYolo_Data/val', update=False, view_img=False, weights=['/content/drive/MyDrive/8_Oct_CSP_UpdLR_5/exp0_yolov4-csp-results/weights/last.pt'])\n",
            "Using CUDA device0 _CudaDeviceProperties(name='Tesla K80', total_memory=11441MB)\n",
            "\n",
            "Fusing layers... Model Summary: 235 layers, 5.24813e+07 parameters, 5.04494e+07 gradients\n",
            "/usr/local/lib/python3.7/dist-packages/torch/nn/functional.py:718: UserWarning: Named tensors and all their associated APIs are an experimental feature and subject to change. Please do not use them for anything important until they are released as stable. (Triggered internally at  /pytorch/c10/core/TensorImpl.h:1156.)\n",
            "  return torch.max_pool2d(input, kernel_size, stride, padding, dilation, ceil_mode)\n",
            "image 1/53 /content/ScaledYolo_Data/val/04_3420.jpg: 416x416 2 tower_lattices, Done. (0.100s)\n",
            "image 2/53 /content/ScaledYolo_Data/val/08_1830.jpg: 416x416 3 tower_tucohys, 1 tower_woodens, Done. (0.090s)\n",
            "image 3/53 /content/ScaledYolo_Data/val/08_1890.jpg: 416x416 2 tower_tucohys, Done. (0.088s)\n",
            "image 4/53 /content/ScaledYolo_Data/val/09_2550.jpg: 416x416 1 tower_woodens, Done. (0.082s)\n",
            "image 5/53 /content/ScaledYolo_Data/val/09_9180.jpg: 416x416 Done. (0.075s)\n",
            "image 6/53 /content/ScaledYolo_Data/val/1000_00527.jpg: 416x416 2 tower_lattices, Done. (0.073s)\n",
            "image 7/53 /content/ScaledYolo_Data/val/104_2190.jpg: 416x416 3 tower_lattices, Done. (0.070s)\n",
            "image 8/53 /content/ScaledYolo_Data/val/105_4350.jpg: 416x416 3 tower_lattices, Done. (0.068s)\n",
            "image 9/53 /content/ScaledYolo_Data/val/106_30.jpg: 416x416 3 tower_woodens, Done. (0.068s)\n",
            "image 10/53 /content/ScaledYolo_Data/val/107_2505.jpg: 416x416 8 tower_lattices, Done. (0.067s)\n",
            "image 11/53 /content/ScaledYolo_Data/val/110_0.jpg: 416x416 3 tower_lattices, 3 tower_tucohys, Done. (0.067s)\n",
            "image 12/53 /content/ScaledYolo_Data/val/111_3585.jpg: 416x416 5 tower_tucohys, Done. (0.068s)\n",
            "image 13/53 /content/ScaledYolo_Data/val/112_165.jpg: 416x416 1 tower_woodens, Done. (0.067s)\n",
            "image 14/53 /content/ScaledYolo_Data/val/114_210.jpg: 416x416 6 tower_woodens, Done. (0.067s)\n",
            "image 15/53 /content/ScaledYolo_Data/val/13_5580.jpg: 416x416 Done. (0.066s)\n",
            "image 16/53 /content/ScaledYolo_Data/val/14_01171.jpg: 416x416 5 tower_woodens, Done. (0.067s)\n",
            "image 17/53 /content/ScaledYolo_Data/val/16_3720.jpg: 416x416 2 tower_lattices, Done. (0.067s)\n",
            "image 18/53 /content/ScaledYolo_Data/val/19_00137.jpg: 416x416 9 tower_lattices, 3 tower_woodens, Done. (0.067s)\n",
            "image 19/53 /content/ScaledYolo_Data/val/20_3120.jpg: 416x416 Done. (0.067s)\n",
            "image 20/53 /content/ScaledYolo_Data/val/20_360.jpg: 416x416 2 tower_lattices, 1 tower_woodens, Done. (0.067s)\n",
            "image 21/53 /content/ScaledYolo_Data/val/20_7215.jpg: 416x416 Done. (0.067s)\n",
            "image 22/53 /content/ScaledYolo_Data/val/22_00434.jpg: 416x416 2 tower_tucohys, Done. (0.067s)\n",
            "image 23/53 /content/ScaledYolo_Data/val/22_02021.jpg: 416x416 Done. (0.065s)\n",
            "image 24/53 /content/ScaledYolo_Data/val/23_01656.jpg: 416x416 3 tower_lattices, Done. (0.067s)\n",
            "image 25/53 /content/ScaledYolo_Data/val/25_00029.jpg: 416x416 3 tower_lattices, 5 tower_tucohys, Done. (0.067s)\n",
            "image 26/53 /content/ScaledYolo_Data/val/26_2850.jpg: 416x416 3 tower_woodens, Done. (0.067s)\n",
            "image 27/53 /content/ScaledYolo_Data/val/27_00375.jpg: 416x416 2 tower_tucohys, Done. (0.067s)\n",
            "image 28/53 /content/ScaledYolo_Data/val/28_00090.jpg: 416x416 4 tower_tucohys, Done. (0.068s)\n",
            "image 29/53 /content/ScaledYolo_Data/val/34_1005.jpg: 416x416 3 tower_lattices, 3 tower_tucohys, Done. (0.067s)\n",
            "image 30/53 /content/ScaledYolo_Data/val/41_00961.jpg: 416x416 2 tower_woodens, Done. (0.067s)\n",
            "image 31/53 /content/ScaledYolo_Data/val/43_00591.jpg: 416x416 Done. (0.067s)\n",
            "image 32/53 /content/ScaledYolo_Data/val/46_00596.jpg: 416x416 2 tower_woodens, Done. (0.067s)\n",
            "image 33/53 /content/ScaledYolo_Data/val/47_00601.jpg: 416x416 2 tower_woodens, Done. (0.067s)\n",
            "image 34/53 /content/ScaledYolo_Data/val/48_02416.jpg: 416x416 2 tower_woodens, Done. (0.067s)\n",
            "image 35/53 /content/ScaledYolo_Data/val/52_00721.jpg: 416x416 Done. (0.066s)\n",
            "image 36/53 /content/ScaledYolo_Data/val/57_01046.jpg: 416x416 3 tower_woodens, Done. (0.068s)\n",
            "image 37/53 /content/ScaledYolo_Data/val/58_00956.jpg: 416x416 5 tower_lattices, 5 tower_woodens, Done. (0.067s)\n",
            "image 38/53 /content/ScaledYolo_Data/val/63_01871.jpg: 416x416 3 tower_lattices, Done. (0.067s)\n",
            "image 39/53 /content/ScaledYolo_Data/val/64_00036.jpg: 416x416 5 tower_lattices, 1 tower_tucohys, Done. (0.068s)\n",
            "image 40/53 /content/ScaledYolo_Data/val/66_00191.jpg: 416x416 8 tower_lattices, Done. (0.068s)\n",
            "image 41/53 /content/ScaledYolo_Data/val/67_00356.jpg: 416x416 2 tower_lattices, 3 tower_woodens, Done. (0.069s)\n",
            "image 42/53 /content/ScaledYolo_Data/val/67_02716.jpg: 416x416 6 tower_lattices, 1 tower_tucohys, Done. (0.068s)\n",
            "image 43/53 /content/ScaledYolo_Data/val/70_00343.jpg: 416x416 1 tower_woodens, Done. (0.068s)\n",
            "image 44/53 /content/ScaledYolo_Data/val/70_00655.jpg: 416x416 3 tower_woodens, Done. (0.067s)\n",
            "image 45/53 /content/ScaledYolo_Data/val/70_01510.jpg: 416x416 3 tower_woodens, Done. (0.068s)\n",
            "image 46/53 /content/ScaledYolo_Data/val/71_3880.jpg: 416x416 2 tower_lattices, 2 tower_tucohys, Done. (0.068s)\n",
            "image 47/53 /content/ScaledYolo_Data/val/71_4520.jpg: 416x416 2 tower_lattices, Done. (0.068s)\n",
            "image 48/53 /content/ScaledYolo_Data/val/71_9160.jpg: 416x416 1 tower_tucohys, Done. (0.068s)\n",
            "image 49/53 /content/ScaledYolo_Data/val/74_00453.jpg: 416x416 2 tower_lattices, Done. (0.069s)\n",
            "image 50/53 /content/ScaledYolo_Data/val/76_1230.jpg: 416x416 2 tower_lattices, Done. (0.067s)\n",
            "image 51/53 /content/ScaledYolo_Data/val/78_465.jpg: 416x416 2 tower_lattices, Done. (0.068s)\n",
            "image 52/53 /content/ScaledYolo_Data/val/80_1660.jpg: 416x416 3 tower_lattices, Done. (0.067s)\n",
            "image 53/53 /content/ScaledYolo_Data/val/90_5550.jpg: 416x416 3 tower_tucohys, Done. (0.067s)\n",
            "Results saved to inference/output\n",
            "Done. (5.130s)\n"
          ]
        }
      ]
    },
    {
      "cell_type": "code",
      "metadata": {
        "colab": {
          "base_uri": "https://localhost:8080/",
          "height": 41
        },
        "id": "5wSoO2lhq74R",
        "outputId": "7dcedec1-1024-4449-f7fb-71c78bbebd54"
      },
      "source": [
        "from IPython.display import Image, display\n",
        "display(Image('/content/drive/MyDrive/6_Oct_CSP_4/exp0_yolov4-csp-results/results.png'))  # view results.png"
      ],
      "execution_count": null,
      "outputs": [
        {
          "output_type": "display_data",
          "data": {
            "image/png": "/content/drive/MyDrive/6_Oct_CSP_4/exp0_yolov4-csp-results/results.png",
            "text/plain": [
              "<IPython.core.display.Image object>"
            ]
          },
          "metadata": {}
        }
      ]
    },
    {
      "cell_type": "code",
      "metadata": {
        "colab": {
          "base_uri": "https://localhost:8080/"
        },
        "id": "FFMSNA11gTzG",
        "outputId": "1a74782b-1f5f-4e89-b520-d0bd4a52e8b9"
      },
      "source": [
        "!python /content/ScaledYOLOv4/test.py --help"
      ],
      "execution_count": null,
      "outputs": [
        {
          "name": "stdout",
          "output_type": "stream",
          "text": [
            "usage: test.py [-h] [--weights WEIGHTS [WEIGHTS ...]] [--data DATA]\n",
            "               [--batch-size BATCH_SIZE] [--img-size IMG_SIZE]\n",
            "               [--conf-thres CONF_THRES] [--iou-thres IOU_THRES] [--save-json]\n",
            "               [--task TASK] [--device DEVICE] [--single-cls] [--augment]\n",
            "               [--merge] [--verbose] [--save-txt]\n",
            "\n",
            "optional arguments:\n",
            "  -h, --help            show this help message and exit\n",
            "  --weights WEIGHTS [WEIGHTS ...]\n",
            "                        model.pt path(s)\n",
            "  --data DATA           *.data path\n",
            "  --batch-size BATCH_SIZE\n",
            "                        size of each image batch\n",
            "  --img-size IMG_SIZE   inference size (pixels)\n",
            "  --conf-thres CONF_THRES\n",
            "                        object confidence threshold\n",
            "  --iou-thres IOU_THRES\n",
            "                        IOU threshold for NMS\n",
            "  --save-json           save a cocoapi-compatible JSON results file\n",
            "  --task TASK           'val', 'test', 'study'\n",
            "  --device DEVICE       cuda device, i.e. 0 or 0,1,2,3 or cpu\n",
            "  --single-cls          treat as single-class dataset\n",
            "  --augment             augmented inference\n",
            "  --merge               use Merge NMS\n",
            "  --verbose             report mAP by class\n",
            "  --save-txt            save results to *.txt\n"
          ]
        }
      ]
    },
    {
      "cell_type": "code",
      "metadata": {
        "colab": {
          "base_uri": "https://localhost:8080/"
        },
        "id": "O-3dusvne5w5",
        "outputId": "58081c82-a654-443f-81e2-e9221ffd971f"
      },
      "source": [
        "!python /content/ScaledYOLOv4/test.py --img 415 --conf 0.001 --iou 0.65 --batch 8 --device 0 --data /content/ScaledYOLOv4/data/coco.yaml --weights /content/drive/MyDrive/8_Oct_CSP_UpdLR_5/exp0_yolov4-csp-results/weights/last.pt --verbose"
      ],
      "execution_count": 11,
      "outputs": [
        {
          "output_type": "stream",
          "name": "stdout",
          "text": [
            "Namespace(augment=False, batch_size=8, conf_thres=0.001, data='/content/ScaledYOLOv4/data/coco.yaml', device='0', img_size=415, iou_thres=0.65, merge=False, save_json=True, save_txt=False, single_cls=False, task='val', verbose=True, weights=['/content/drive/MyDrive/8_Oct_CSP_UpdLR_5/exp0_yolov4-csp-results/weights/last.pt'])\n",
            "Using CUDA device0 _CudaDeviceProperties(name='Tesla K80', total_memory=11441MB)\n",
            "\n",
            "Fusing layers... Model Summary: 235 layers, 5.24813e+07 parameters, 5.04494e+07 gradients\n",
            "WARNING: --img-size 415 must be multiple of max stride 32, updating to 416\n",
            "/usr/local/lib/python3.7/dist-packages/torch/nn/functional.py:718: UserWarning: Named tensors and all their associated APIs are an experimental feature and subject to change. Please do not use them for anything important until they are released as stable. (Triggered internally at  /pytorch/c10/core/TensorImpl.h:1156.)\n",
            "  return torch.max_pool2d(input, kernel_size, stride, padding, dilation, ceil_mode)\n",
            "Scanning labels /content/ScaledYolo_Data/train.cache (394 found, 0 missing, 0 empty, 0 duplicate, for 394 images): 100% 394/394 [00:00<00:00, 12039.60it/s]\n",
            "               Class      Images     Targets           P           R      mAP@.5  mAP@.5:.95: 100% 50/50 [00:20<00:00,  2.46it/s]\n",
            "                 all         394         663       0.265       0.877        0.39       0.116\n",
            "       tower_lattice         394         275       0.282       0.978        0.43       0.124\n",
            "        tower_tucohy         394         170       0.256       0.841        0.43       0.107\n",
            "        tower_wooden         394         218       0.258       0.812        0.31       0.116\n",
            "Speed: 44.7/1.8/46.5 ms inference/NMS/total per 416x416 image at batch-size 8\n",
            "\n",
            "COCO mAP with pycocotools... saving detections_val2017__results.json...\n",
            "ERROR: pycocotools unable to run: invalid literal for int() with base 10: '19_00993_'\n"
          ]
        }
      ]
    },
    {
      "cell_type": "code",
      "metadata": {
        "colab": {
          "base_uri": "https://localhost:8080/"
        },
        "id": "JxnDLa5Rg5L3",
        "outputId": "45eb94ea-ec25-44b0-d7dc-cd2bb2b2f9a9"
      },
      "source": [
        "#test data\n",
        "!python /content/ScaledYOLOv4/test.py --img 415 --conf 0.001 --iou 0.65 --batch 8 --device 0 --data /content/ScaledYOLOv4/data/coco.yaml --weights /content/drive/MyDrive/8_Oct_CSP_UpdLR_5/exp0_yolov4-csp-results/weights/last.pt --verbose"
      ],
      "execution_count": 12,
      "outputs": [
        {
          "output_type": "stream",
          "name": "stdout",
          "text": [
            "Namespace(augment=False, batch_size=8, conf_thres=0.001, data='/content/ScaledYOLOv4/data/coco.yaml', device='0', img_size=415, iou_thres=0.65, merge=False, save_json=True, save_txt=False, single_cls=False, task='val', verbose=True, weights=['/content/drive/MyDrive/8_Oct_CSP_UpdLR_5/exp0_yolov4-csp-results/weights/last.pt'])\n",
            "Using CUDA device0 _CudaDeviceProperties(name='Tesla K80', total_memory=11441MB)\n",
            "\n",
            "Fusing layers... Model Summary: 235 layers, 5.24813e+07 parameters, 5.04494e+07 gradients\n",
            "WARNING: --img-size 415 must be multiple of max stride 32, updating to 416\n",
            "/usr/local/lib/python3.7/dist-packages/torch/nn/functional.py:718: UserWarning: Named tensors and all their associated APIs are an experimental feature and subject to change. Please do not use them for anything important until they are released as stable. (Triggered internally at  /pytorch/c10/core/TensorImpl.h:1156.)\n",
            "  return torch.max_pool2d(input, kernel_size, stride, padding, dilation, ceil_mode)\n",
            "Scanning images: 100% 123/123 [00:00<00:00, 473.75it/s]\n",
            "Scanning labels /content/ScaledYolo_Data/test.cache (123 found, 0 missing, 0 empty, 0 duplicate, for 123 images): 100% 123/123 [00:00<00:00, 12207.75it/s]\n",
            "               Class      Images     Targets           P           R      mAP@.5  mAP@.5:.95: 100% 16/16 [00:06<00:00,  2.35it/s]\n",
            "                 all         123         202       0.206       0.634       0.278      0.0641\n",
            "       tower_lattice         123          88       0.231       0.807        0.37      0.0771\n",
            "        tower_tucohy         123          45        0.22       0.778       0.327      0.0787\n",
            "        tower_wooden         123          69       0.166       0.319       0.137      0.0364\n",
            "Speed: 45.8/1.6/47.4 ms inference/NMS/total per 416x416 image at batch-size 8\n",
            "\n",
            "COCO mAP with pycocotools... saving detections_val2017__results.json...\n",
            "ERROR: pycocotools unable to run: list index out of range\n"
          ]
        }
      ]
    },
    {
      "cell_type": "code",
      "metadata": {
        "colab": {
          "base_uri": "https://localhost:8080/"
        },
        "id": "_e7PYBLHoNEf",
        "outputId": "9a65b2d4-fc2d-4d4a-c868-15dd25e75bbb"
      },
      "source": [
        "#val data\n",
        "!python /content/ScaledYOLOv4/test.py --img 415 --conf 0.001 --iou 0.65 --batch 8 --device 0 --data /content/ScaledYOLOv4/data/coco.yaml --weights /content/drive/MyDrive/8_Oct_CSP_UpdLR_5/exp0_yolov4-csp-results/weights/last.pt --verbose"
      ],
      "execution_count": 13,
      "outputs": [
        {
          "output_type": "stream",
          "name": "stdout",
          "text": [
            "Namespace(augment=False, batch_size=8, conf_thres=0.001, data='/content/ScaledYOLOv4/data/coco.yaml', device='0', img_size=415, iou_thres=0.65, merge=False, save_json=True, save_txt=False, single_cls=False, task='val', verbose=True, weights=['/content/drive/MyDrive/8_Oct_CSP_UpdLR_5/exp0_yolov4-csp-results/weights/last.pt'])\n",
            "Using CUDA device0 _CudaDeviceProperties(name='Tesla K80', total_memory=11441MB)\n",
            "\n",
            "Fusing layers... Model Summary: 235 layers, 5.24813e+07 parameters, 5.04494e+07 gradients\n",
            "WARNING: --img-size 415 must be multiple of max stride 32, updating to 416\n",
            "/usr/local/lib/python3.7/dist-packages/torch/nn/functional.py:718: UserWarning: Named tensors and all their associated APIs are an experimental feature and subject to change. Please do not use them for anything important until they are released as stable. (Triggered internally at  /pytorch/c10/core/TensorImpl.h:1156.)\n",
            "  return torch.max_pool2d(input, kernel_size, stride, padding, dilation, ceil_mode)\n",
            "Scanning labels /content/ScaledYolo_Data/val.cache (53 found, 0 missing, 0 empty, 0 duplicate, for 53 images): 100% 53/53 [00:00<00:00, 11405.17it/s]\n",
            "               Class      Images     Targets           P           R      mAP@.5  mAP@.5:.95: 100% 7/7 [00:03<00:00,  2.11it/s]\n",
            "                 all          53         103       0.181       0.632       0.317      0.0708\n",
            "       tower_lattice          53          41       0.202       0.732       0.351       0.102\n",
            "        tower_tucohy          53          16       0.162        0.75       0.465      0.0776\n",
            "        tower_wooden          53          46       0.178       0.413       0.135      0.0327\n",
            "Speed: 45.5/1.5/47.0 ms inference/NMS/total per 416x416 image at batch-size 8\n",
            "\n",
            "COCO mAP with pycocotools... saving detections_val2017__results.json...\n",
            "ERROR: pycocotools unable to run: list index out of range\n"
          ]
        }
      ]
    },
    {
      "cell_type": "code",
      "metadata": {
        "id": "tVwtJch4L-V2"
      },
      "source": [
        ""
      ],
      "execution_count": null,
      "outputs": []
    }
  ]
}