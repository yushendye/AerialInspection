{
  "nbformat": 4,
  "nbformat_minor": 0,
  "metadata": {
    "colab": {
      "name": "YOLO v4CSP.ipynb",
      "provenance": [],
      "collapsed_sections": [],
      "include_colab_link": true
    },
    "kernelspec": {
      "display_name": "Python 3",
      "name": "python3"
    },
    "language_info": {
      "name": "python"
    },
    "accelerator": "GPU"
  },
  "cells": [
    {
      "cell_type": "markdown",
      "metadata": {
        "id": "view-in-github",
        "colab_type": "text"
      },
      "source": [
        "<a href=\"https://colab.research.google.com/github/yushendye/AerialInspection/blob/main/YOLO_v4CSP_5_Oct.ipynb\" target=\"_parent\"><img src=\"https://colab.research.google.com/assets/colab-badge.svg\" alt=\"Open In Colab\"/></a>"
      ]
    },
    {
      "cell_type": "code",
      "metadata": {
        "colab": {
          "base_uri": "https://localhost:8080/"
        },
        "id": "htqQXHp5fbO0",
        "outputId": "ebe96052-2ab3-4091-af04-36228f12e688"
      },
      "source": [
        "from google.colab import drive\n",
        "drive.mount('/content/drive')"
      ],
      "execution_count": 1,
      "outputs": [
        {
          "output_type": "stream",
          "name": "stdout",
          "text": [
            "Mounted at /content/drive\n"
          ]
        }
      ]
    },
    {
      "cell_type": "code",
      "metadata": {
        "colab": {
          "base_uri": "https://localhost:8080/"
        },
        "id": "mfVk34m3yxkU",
        "outputId": "abe3fdcc-0af0-4e3b-988e-60c8b44af896"
      },
      "source": [
        "# clone Scaled_YOLOv4\n",
        "!git clone https://github.com/roboflow-ai/ScaledYOLOv4.git  # clone repo\n",
        "%cd /content/ScaledYOLOv4/\n",
        "#checkout the yolov4-large branch\n",
        "!git checkout yolov4-large"
      ],
      "execution_count": 2,
      "outputs": [
        {
          "output_type": "stream",
          "name": "stdout",
          "text": [
            "Cloning into 'ScaledYOLOv4'...\n",
            "remote: Enumerating objects: 128, done.\u001b[K\n",
            "remote: Total 128 (delta 0), reused 0 (delta 0), pack-reused 128\u001b[K\n",
            "Receiving objects: 100% (128/128), 389.37 KiB | 3.33 MiB/s, done.\n",
            "Resolving deltas: 100% (39/39), done.\n",
            "/content/ScaledYOLOv4\n",
            "Branch 'yolov4-large' set up to track remote branch 'yolov4-large' from 'origin'.\n",
            "Switched to a new branch 'yolov4-large'\n"
          ]
        }
      ]
    },
    {
      "cell_type": "code",
      "metadata": {
        "colab": {
          "base_uri": "https://localhost:8080/"
        },
        "id": "UnvwJr6jzM84",
        "outputId": "499b8b8c-85f6-4160-e06a-502c030255d4"
      },
      "source": [
        "import torch\n",
        "print('Using torch %s %s' % (torch.__version__, torch.cuda.get_device_properties(0) if torch.cuda.is_available() else 'CPU'))"
      ],
      "execution_count": 3,
      "outputs": [
        {
          "output_type": "stream",
          "name": "stdout",
          "text": [
            "Using torch 1.9.0+cu102 _CudaDeviceProperties(name='Tesla K80', major=3, minor=7, total_memory=11441MB, multi_processor_count=13)\n"
          ]
        }
      ]
    },
    {
      "cell_type": "code",
      "metadata": {
        "colab": {
          "base_uri": "https://localhost:8080/"
        },
        "id": "P2TNpvXZfBEs",
        "outputId": "5938fef2-4068-4660-f901-a54ecc52cf9a"
      },
      "source": [
        "#install mish activation funciton for cuda\n",
        "%cd /content/\n",
        "!git clone https://github.com/JunnYu/mish-cuda\n",
        "%cd mish-cuda\n",
        "!python setup.py build install"
      ],
      "execution_count": 4,
      "outputs": [
        {
          "output_type": "stream",
          "name": "stdout",
          "text": [
            "/content\n",
            "Cloning into 'mish-cuda'...\n",
            "remote: Enumerating objects: 195, done.\u001b[K\n",
            "remote: Counting objects: 100% (88/88), done.\u001b[K\n",
            "remote: Compressing objects: 100% (75/75), done.\u001b[K\n",
            "remote: Total 195 (delta 7), reused 79 (delta 3), pack-reused 107\u001b[K\n",
            "Receiving objects: 100% (195/195), 208.77 KiB | 2.98 MiB/s, done.\n",
            "Resolving deltas: 100% (56/56), done.\n",
            "/content/mish-cuda\n",
            "/usr/lib/python3.7/distutils/extension.py:131: UserWarning: Unknown Extension options: 'headers'\n",
            "  warnings.warn(msg)\n",
            "running build\n",
            "running build_py\n",
            "creating build\n",
            "creating build/lib.linux-x86_64-3.7\n",
            "creating build/lib.linux-x86_64-3.7/mish_cuda\n",
            "copying src/mish_cuda/__init__.py -> build/lib.linux-x86_64-3.7/mish_cuda\n",
            "running egg_info\n",
            "creating src/mish_cuda.egg-info\n",
            "writing src/mish_cuda.egg-info/PKG-INFO\n",
            "writing dependency_links to src/mish_cuda.egg-info/dependency_links.txt\n",
            "writing requirements to src/mish_cuda.egg-info/requires.txt\n",
            "writing top-level names to src/mish_cuda.egg-info/top_level.txt\n",
            "writing manifest file 'src/mish_cuda.egg-info/SOURCES.txt'\n",
            "/usr/local/lib/python3.7/dist-packages/torch/utils/cpp_extension.py:370: UserWarning: Attempted to use ninja as the BuildExtension backend but we could not find ninja.. Falling back to using the slow distutils backend.\n",
            "  warnings.warn(msg.format('we could not find ninja.'))\n",
            "adding license file 'LICENSE'\n",
            "writing manifest file 'src/mish_cuda.egg-info/SOURCES.txt'\n",
            "running build_ext\n",
            "building 'mish_cuda._C' extension\n",
            "creating build/temp.linux-x86_64-3.7\n",
            "creating build/temp.linux-x86_64-3.7/csrc\n",
            "creating build/temp.linux-x86_64-3.7/csrc/cpu\n",
            "creating build/temp.linux-x86_64-3.7/csrc/cuda\n",
            "x86_64-linux-gnu-gcc -pthread -Wno-unused-result -Wsign-compare -DNDEBUG -g -fwrapv -O2 -Wall -g -fdebug-prefix-map=/build/python3.7-Y7dWVB/python3.7-3.7.12=. -fstack-protector-strong -Wformat -Werror=format-security -g -fdebug-prefix-map=/build/python3.7-Y7dWVB/python3.7-3.7.12=. -fstack-protector-strong -Wformat -Werror=format-security -Wdate-time -D_FORTIFY_SOURCE=2 -fPIC -I/usr/local/lib/python3.7/dist-packages/torch/include -I/usr/local/lib/python3.7/dist-packages/torch/include/torch/csrc/api/include -I/usr/local/lib/python3.7/dist-packages/torch/include/TH -I/usr/local/lib/python3.7/dist-packages/torch/include/THC -I/usr/local/cuda/include -I/usr/include/python3.7m -c csrc/cpu/mish_cpu.cpp -o build/temp.linux-x86_64-3.7/csrc/cpu/mish_cpu.o -DTORCH_API_INCLUDE_EXTENSION_H -DPYBIND11_COMPILER_TYPE=\"_gcc\" -DPYBIND11_STDLIB=\"_libstdcpp\" -DPYBIND11_BUILD_ABI=\"_cxxabi1011\" -DTORCH_EXTENSION_NAME=_C -D_GLIBCXX_USE_CXX11_ABI=0 -std=c++14\n",
            "In file included from \u001b[01m\u001b[K/usr/local/lib/python3.7/dist-packages/torch/include/ATen/Parallel.h:140:0\u001b[m\u001b[K,\n",
            "                 from \u001b[01m\u001b[K/usr/local/lib/python3.7/dist-packages/torch/include/ATen/CPUApplyUtils.h:3\u001b[m\u001b[K,\n",
            "                 from \u001b[01m\u001b[Kcsrc/cpu/mish_cpu.cpp:3\u001b[m\u001b[K:\n",
            "\u001b[01m\u001b[K/usr/local/lib/python3.7/dist-packages/torch/include/ATen/ParallelOpenMP.h:87:0:\u001b[m\u001b[K \u001b[01;35m\u001b[Kwarning: \u001b[m\u001b[Kignoring #pragma omp parallel [\u001b[01;35m\u001b[K-Wunknown-pragmas\u001b[m\u001b[K]\n",
            " #pragma omp parallel for if ((end - begin) >= grain_size)\n",
            " \n",
            "x86_64-linux-gnu-gcc -pthread -Wno-unused-result -Wsign-compare -DNDEBUG -g -fwrapv -O2 -Wall -g -fdebug-prefix-map=/build/python3.7-Y7dWVB/python3.7-3.7.12=. -fstack-protector-strong -Wformat -Werror=format-security -g -fdebug-prefix-map=/build/python3.7-Y7dWVB/python3.7-3.7.12=. -fstack-protector-strong -Wformat -Werror=format-security -Wdate-time -D_FORTIFY_SOURCE=2 -fPIC -I/usr/local/lib/python3.7/dist-packages/torch/include -I/usr/local/lib/python3.7/dist-packages/torch/include/torch/csrc/api/include -I/usr/local/lib/python3.7/dist-packages/torch/include/TH -I/usr/local/lib/python3.7/dist-packages/torch/include/THC -I/usr/local/cuda/include -I/usr/include/python3.7m -c csrc/cuda/mish_cuda.cpp -o build/temp.linux-x86_64-3.7/csrc/cuda/mish_cuda.o -DTORCH_API_INCLUDE_EXTENSION_H -DPYBIND11_COMPILER_TYPE=\"_gcc\" -DPYBIND11_STDLIB=\"_libstdcpp\" -DPYBIND11_BUILD_ABI=\"_cxxabi1011\" -DTORCH_EXTENSION_NAME=_C -D_GLIBCXX_USE_CXX11_ABI=0 -std=c++14\n",
            "In file included from \u001b[01m\u001b[K/usr/local/lib/python3.7/dist-packages/torch/include/ATen/Parallel.h:140:0\u001b[m\u001b[K,\n",
            "                 from \u001b[01m\u001b[K/usr/local/lib/python3.7/dist-packages/torch/include/torch/csrc/api/include/torch/utils.h:3\u001b[m\u001b[K,\n",
            "                 from \u001b[01m\u001b[K/usr/local/lib/python3.7/dist-packages/torch/include/torch/csrc/api/include/torch/nn/cloneable.h:5\u001b[m\u001b[K,\n",
            "                 from \u001b[01m\u001b[K/usr/local/lib/python3.7/dist-packages/torch/include/torch/csrc/api/include/torch/nn.h:3\u001b[m\u001b[K,\n",
            "                 from \u001b[01m\u001b[K/usr/local/lib/python3.7/dist-packages/torch/include/torch/csrc/api/include/torch/all.h:13\u001b[m\u001b[K,\n",
            "                 from \u001b[01m\u001b[K/usr/local/lib/python3.7/dist-packages/torch/include/torch/extension.h:4\u001b[m\u001b[K,\n",
            "                 from \u001b[01m\u001b[Kcsrc/cuda/mish_cuda.cpp:2\u001b[m\u001b[K:\n",
            "\u001b[01m\u001b[K/usr/local/lib/python3.7/dist-packages/torch/include/ATen/ParallelOpenMP.h:87:0:\u001b[m\u001b[K \u001b[01;35m\u001b[Kwarning: \u001b[m\u001b[Kignoring #pragma omp parallel [\u001b[01;35m\u001b[K-Wunknown-pragmas\u001b[m\u001b[K]\n",
            " #pragma omp parallel for if ((end - begin) >= grain_size)\n",
            " \n",
            "/usr/local/cuda/bin/nvcc -I/usr/local/lib/python3.7/dist-packages/torch/include -I/usr/local/lib/python3.7/dist-packages/torch/include/torch/csrc/api/include -I/usr/local/lib/python3.7/dist-packages/torch/include/TH -I/usr/local/lib/python3.7/dist-packages/torch/include/THC -I/usr/local/cuda/include -I/usr/include/python3.7m -c csrc/cuda/mish_kernel.cu -o build/temp.linux-x86_64-3.7/csrc/cuda/mish_kernel.o -D__CUDA_NO_HALF_OPERATORS__ -D__CUDA_NO_HALF_CONVERSIONS__ -D__CUDA_NO_BFLOAT16_CONVERSIONS__ -D__CUDA_NO_HALF2_OPERATORS__ --expt-relaxed-constexpr --compiler-options '-fPIC' --expt-extended-lambda -DTORCH_API_INCLUDE_EXTENSION_H -DPYBIND11_COMPILER_TYPE=\"_gcc\" -DPYBIND11_STDLIB=\"_libstdcpp\" -DPYBIND11_BUILD_ABI=\"_cxxabi1011\" -DTORCH_EXTENSION_NAME=_C -D_GLIBCXX_USE_CXX11_ABI=0 -gencode=arch=compute_37,code=compute_37 -gencode=arch=compute_37,code=sm_37 -std=c++14\n",
            "nvcc warning : The 'compute_35', 'compute_37', 'compute_50', 'sm_35', 'sm_37' and 'sm_50' architectures are deprecated, and may be removed in a future release (Use -Wno-deprecated-gpu-targets to suppress warning).\n",
            "x86_64-linux-gnu-g++ -pthread -shared -Wl,-O1 -Wl,-Bsymbolic-functions -Wl,-Bsymbolic-functions -Wl,-z,relro -Wl,-Bsymbolic-functions -Wl,-z,relro -g -fdebug-prefix-map=/build/python3.7-Y7dWVB/python3.7-3.7.12=. -fstack-protector-strong -Wformat -Werror=format-security -Wdate-time -D_FORTIFY_SOURCE=2 build/temp.linux-x86_64-3.7/csrc/cpu/mish_cpu.o build/temp.linux-x86_64-3.7/csrc/cuda/mish_cuda.o build/temp.linux-x86_64-3.7/csrc/cuda/mish_kernel.o -L/usr/local/lib/python3.7/dist-packages/torch/lib -L/usr/local/cuda/lib64 -lc10 -ltorch -ltorch_cpu -ltorch_python -lcudart -lc10_cuda -ltorch_cuda -o build/lib.linux-x86_64-3.7/mish_cuda/_C.cpython-37m-x86_64-linux-gnu.so\n",
            "running install\n",
            "running bdist_egg\n",
            "installing library code to build/bdist.linux-x86_64/egg\n",
            "running install_lib\n",
            "creating build/bdist.linux-x86_64\n",
            "creating build/bdist.linux-x86_64/egg\n",
            "creating build/bdist.linux-x86_64/egg/mish_cuda\n",
            "copying build/lib.linux-x86_64-3.7/mish_cuda/_C.cpython-37m-x86_64-linux-gnu.so -> build/bdist.linux-x86_64/egg/mish_cuda\n",
            "copying build/lib.linux-x86_64-3.7/mish_cuda/__init__.py -> build/bdist.linux-x86_64/egg/mish_cuda\n",
            "byte-compiling build/bdist.linux-x86_64/egg/mish_cuda/__init__.py to __init__.cpython-37.pyc\n",
            "creating stub loader for mish_cuda/_C.cpython-37m-x86_64-linux-gnu.so\n",
            "byte-compiling build/bdist.linux-x86_64/egg/mish_cuda/_C.py to _C.cpython-37.pyc\n",
            "creating build/bdist.linux-x86_64/egg/EGG-INFO\n",
            "copying src/mish_cuda.egg-info/PKG-INFO -> build/bdist.linux-x86_64/egg/EGG-INFO\n",
            "copying src/mish_cuda.egg-info/SOURCES.txt -> build/bdist.linux-x86_64/egg/EGG-INFO\n",
            "copying src/mish_cuda.egg-info/dependency_links.txt -> build/bdist.linux-x86_64/egg/EGG-INFO\n",
            "copying src/mish_cuda.egg-info/not-zip-safe -> build/bdist.linux-x86_64/egg/EGG-INFO\n",
            "copying src/mish_cuda.egg-info/requires.txt -> build/bdist.linux-x86_64/egg/EGG-INFO\n",
            "copying src/mish_cuda.egg-info/top_level.txt -> build/bdist.linux-x86_64/egg/EGG-INFO\n",
            "writing build/bdist.linux-x86_64/egg/EGG-INFO/native_libs.txt\n",
            "creating dist\n",
            "creating 'dist/mish_cuda-0.0.3-py3.7-linux-x86_64.egg' and adding 'build/bdist.linux-x86_64/egg' to it\n",
            "removing 'build/bdist.linux-x86_64/egg' (and everything under it)\n",
            "Processing mish_cuda-0.0.3-py3.7-linux-x86_64.egg\n",
            "creating /usr/local/lib/python3.7/dist-packages/mish_cuda-0.0.3-py3.7-linux-x86_64.egg\n",
            "Extracting mish_cuda-0.0.3-py3.7-linux-x86_64.egg to /usr/local/lib/python3.7/dist-packages\n",
            "Adding mish-cuda 0.0.3 to easy-install.pth file\n",
            "\n",
            "Installed /usr/local/lib/python3.7/dist-packages/mish_cuda-0.0.3-py3.7-linux-x86_64.egg\n",
            "Processing dependencies for mish-cuda==0.0.3\n",
            "Searching for torch==1.9.0+cu102\n",
            "Best match: torch 1.9.0+cu102\n",
            "Adding torch 1.9.0+cu102 to easy-install.pth file\n",
            "Installing convert-caffe2-to-onnx script to /usr/local/bin\n",
            "Installing convert-onnx-to-caffe2 script to /usr/local/bin\n",
            "\n",
            "Using /usr/local/lib/python3.7/dist-packages\n",
            "Searching for typing-extensions==3.7.4.3\n",
            "Best match: typing-extensions 3.7.4.3\n",
            "Adding typing-extensions 3.7.4.3 to easy-install.pth file\n",
            "\n",
            "Using /usr/local/lib/python3.7/dist-packages\n",
            "Finished processing dependencies for mish-cuda==0.0.3\n"
          ]
        }
      ]
    },
    {
      "cell_type": "code",
      "metadata": {
        "colab": {
          "base_uri": "https://localhost:8080/"
        },
        "id": "KtDt5MSkl8iN",
        "outputId": "2265ddc8-a86a-4053-c761-6d62632c0ffb"
      },
      "source": [
        "!pip install -U PyYAML"
      ],
      "execution_count": 5,
      "outputs": [
        {
          "output_type": "stream",
          "name": "stdout",
          "text": [
            "Requirement already satisfied: PyYAML in /usr/local/lib/python3.7/dist-packages (3.13)\n",
            "Collecting PyYAML\n",
            "  Downloading PyYAML-5.4.1-cp37-cp37m-manylinux1_x86_64.whl (636 kB)\n",
            "\u001b[K     |████████████████████████████████| 636 kB 5.3 MB/s \n",
            "\u001b[?25hInstalling collected packages: PyYAML\n",
            "  Attempting uninstall: PyYAML\n",
            "    Found existing installation: PyYAML 3.13\n",
            "    Uninstalling PyYAML-3.13:\n",
            "      Successfully uninstalled PyYAML-3.13\n",
            "Successfully installed PyYAML-5.4.1\n"
          ]
        }
      ]
    },
    {
      "cell_type": "code",
      "metadata": {
        "colab": {
          "base_uri": "https://localhost:8080/"
        },
        "id": "946yOiRymL39",
        "outputId": "6ad9cf1b-7c6d-49af-f438-ddf59cb73e55"
      },
      "source": [
        "%cd /content/ScaledYOLOv4/\n",
        "!python train.py --help"
      ],
      "execution_count": null,
      "outputs": [
        {
          "output_type": "stream",
          "name": "stdout",
          "text": [
            "/content/ScaledYOLOv4\n",
            "usage: train.py [-h] [--weights WEIGHTS] [--cfg CFG] [--data DATA] [--hyp HYP]\n",
            "                [--epochs EPOCHS] [--batch-size BATCH_SIZE]\n",
            "                [--img-size IMG_SIZE [IMG_SIZE ...]] [--rect]\n",
            "                [--resume [RESUME]] [--nosave] [--notest] [--noautoanchor]\n",
            "                [--evolve] [--bucket BUCKET] [--cache-images] [--name NAME]\n",
            "                [--device DEVICE] [--multi-scale] [--single-cls] [--adam]\n",
            "                [--sync-bn] [--local_rank LOCAL_RANK] [--logdir LOGDIR]\n",
            "\n",
            "optional arguments:\n",
            "  -h, --help            show this help message and exit\n",
            "  --weights WEIGHTS     initial weights path\n",
            "  --cfg CFG             model.yaml path\n",
            "  --data DATA           data.yaml path\n",
            "  --hyp HYP             hyperparameters path, i.e. data/hyp.scratch.yaml\n",
            "  --epochs EPOCHS\n",
            "  --batch-size BATCH_SIZE\n",
            "                        total batch size for all GPUs\n",
            "  --img-size IMG_SIZE [IMG_SIZE ...]\n",
            "                        train,test sizes\n",
            "  --rect                rectangular training\n",
            "  --resume [RESUME]     resume from given path/last.pt, or most recent run if\n",
            "                        blank\n",
            "  --nosave              only save final checkpoint\n",
            "  --notest              only test final epoch\n",
            "  --noautoanchor        disable autoanchor check\n",
            "  --evolve              evolve hyperparameters\n",
            "  --bucket BUCKET       gsutil bucket\n",
            "  --cache-images        cache images for faster training\n",
            "  --name NAME           renames results.txt to results_name.txt if supplied\n",
            "  --device DEVICE       cuda device, i.e. 0 or 0,1,2,3 or cpu\n",
            "  --multi-scale         vary img-size +/- 50%\n",
            "  --single-cls          train as single-class dataset\n",
            "  --adam                use torch.optim.Adam() optimizer\n",
            "  --sync-bn             use SyncBatchNorm, only available in DDP mode\n",
            "  --local_rank LOCAL_RANK\n",
            "                        DDP parameter, do not modify\n",
            "  --logdir LOGDIR       logging directory\n"
          ]
        }
      ]
    },
    {
      "cell_type": "code",
      "metadata": {
        "id": "VUuowbUzgODH"
      },
      "source": [
        "!cp -r /content/drive/MyDrive/ScaledYolo_Data /content/"
      ],
      "execution_count": 6,
      "outputs": []
    },
    {
      "cell_type": "code",
      "metadata": {
        "id": "iAVrw8bIMzhA"
      },
      "source": [
        "!cp -r /content/ScaledYOLOv4 /content/drive/MyDrive/Scaled_YOLOv4/"
      ],
      "execution_count": null,
      "outputs": []
    },
    {
      "cell_type": "code",
      "metadata": {
        "colab": {
          "base_uri": "https://localhost:8080/"
        },
        "id": "mOz5jjZYf89n",
        "outputId": "31609d83-03d0-4563-948d-7de28475701c"
      },
      "source": [
        "%cd /content/ScaledYOLOv4/\n",
        "!python train.py --img 415 --batch 4 --epochs 1260 --data /content/ScaledYOLOv4/data/coco.yaml --cfg /content/ScaledYOLOv4/models/yolov4-csp.yaml --weights '/content/drive/MyDrive/6_Oct_CSP_4/exp0_yolov4-csp-results/weights/last.pt' --name yolov4-csp-results --logdir '/content/drive/MyDrive/5_Oct_CSP_4/'"
      ],
      "execution_count": null,
      "outputs": [
        {
          "output_type": "stream",
          "name": "stdout",
          "text": [
            "/content/ScaledYOLOv4\n",
            "Using CUDA device0 _CudaDeviceProperties(name='Tesla K80', total_memory=11441MB)\n",
            "\n",
            "Namespace(adam=False, batch_size=4, bucket='', cache_images=False, cfg='/content/ScaledYOLOv4/models/yolov4-csp.yaml', data='/content/ScaledYOLOv4/data/coco.yaml', device='', epochs=1260, evolve=False, global_rank=-1, hyp='data/hyp.finetune.yaml', img_size=[415, 415], local_rank=-1, logdir='/content/drive/MyDrive/5_Oct_CSP_4/', multi_scale=False, name='yolov4-csp-results', noautoanchor=False, nosave=False, notest=False, rect=False, resume=False, single_cls=False, sync_bn=False, total_batch_size=4, weights='/content/drive/MyDrive/6_Oct_CSP_4/exp0_yolov4-csp-results/weights/last.pt', world_size=1)\n",
            "Start Tensorboard with \"tensorboard --logdir /content/drive/MyDrive/5_Oct_CSP_4/\", view at http://localhost:6006/\n",
            "Hyperparameters {'lr0': 0.01, 'momentum': 0.937, 'weight_decay': 0.0005, 'giou': 0.05, 'cls': 0.5, 'cls_pw': 1.0, 'obj': 1.0, 'obj_pw': 1.0, 'iou_t': 0.2, 'anchor_t': 4.0, 'fl_gamma': 0.0, 'hsv_h': 0.015, 'hsv_s': 0.7, 'hsv_v': 0.4, 'degrees': 0.0, 'translate': 0.5, 'scale': 0.8, 'shear': 0.0, 'perspective': 0.0, 'flipud': 0.0, 'fliplr': 0.5, 'mixup': 0.2}\n",
            "\n",
            "                 from  n    params  module                                  arguments                     \n",
            "  0                -1  1       928  models.common.Conv                      [3, 32, 3, 1]                 \n",
            "  1                -1  1     18560  models.common.Conv                      [32, 64, 3, 2]                \n",
            "  2                -1  1     20672  models.common.Bottleneck                [64, 64]                      \n",
            "  3                -1  1     73984  models.common.Conv                      [64, 128, 3, 2]               \n",
            "  4                -1  1    119936  models.common.BottleneckCSP             [128, 128, 2]                 \n",
            "  5                -1  1    295424  models.common.Conv                      [128, 256, 3, 2]              \n",
            "  6                -1  1   1463552  models.common.BottleneckCSP             [256, 256, 8]                 \n",
            "  7                -1  1   1180672  models.common.Conv                      [256, 512, 3, 2]              \n",
            "  8                -1  1   5843456  models.common.BottleneckCSP             [512, 512, 8]                 \n",
            "  9                -1  1   4720640  models.common.Conv                      [512, 1024, 3, 2]             \n",
            " 10                -1  1  12858368  models.common.BottleneckCSP             [1024, 1024, 4]               \n",
            " 11                -1  1   7610368  models.common.SPPCSP                    [1024, 512, 1]                \n",
            " 12                -1  1    131584  models.common.Conv                      [512, 256, 1, 1]              \n",
            " 13                -1  1         0  torch.nn.modules.upsampling.Upsample    [None, 2, 'nearest']          \n",
            " 14                 8  1    131584  models.common.Conv                      [512, 256, 1, 1]              \n",
            " 15          [-1, -2]  1         0  models.common.Concat                    [1]                           \n",
            " 16                -1  1   1642496  models.common.BottleneckCSP2            [512, 256, 2]                 \n",
            " 17                -1  1     33024  models.common.Conv                      [256, 128, 1, 1]              \n",
            " 18                -1  1         0  torch.nn.modules.upsampling.Upsample    [None, 2, 'nearest']          \n",
            " 19                 6  1     33024  models.common.Conv                      [256, 128, 1, 1]              \n",
            " 20          [-1, -2]  1         0  models.common.Concat                    [1]                           \n",
            " 21                -1  1    411648  models.common.BottleneckCSP2            [256, 128, 2]                 \n",
            " 22                -1  1    295424  models.common.Conv                      [128, 256, 3, 1]              \n",
            " 23                -2  1    295424  models.common.Conv                      [128, 256, 3, 2]              \n",
            " 24          [-1, 16]  1         0  models.common.Concat                    [1]                           \n",
            " 25                -1  1   1642496  models.common.BottleneckCSP2            [512, 256, 2]                 \n",
            " 26                -1  1   1180672  models.common.Conv                      [256, 512, 3, 1]              \n",
            " 27                -2  1   1180672  models.common.Conv                      [256, 512, 3, 2]              \n",
            " 28          [-1, 11]  1         0  models.common.Concat                    [1]                           \n",
            " 29                -1  1   6561792  models.common.BottleneckCSP2            [1024, 512, 2]                \n",
            " 30                -1  1   4720640  models.common.Conv                      [512, 1024, 3, 1]             \n",
            " 31      [22, 26, 30]  1     43080  models.yolo.Detect                      [3, [[12, 16, 19, 36, 40, 28], [36, 75, 76, 55, 72, 146], [142, 110, 192, 243, 459, 401]], [256, 512, 1024]]\n",
            "/usr/local/lib/python3.7/dist-packages/torch/nn/functional.py:718: UserWarning: Named tensors and all their associated APIs are an experimental feature and subject to change. Please do not use them for anything important until they are released as stable. (Triggered internally at  /pytorch/c10/core/TensorImpl.h:1156.)\n",
            "  return torch.max_pool2d(input, kernel_size, stride, padding, dilation, ceil_mode)\n",
            "Model Summary: 334 layers, 5.25101e+07 parameters, 5.25101e+07 gradients\n",
            "\n",
            "Transferred 658/660 items from /content/drive/MyDrive/6_Oct_CSP_4/exp0_yolov4-csp-results/weights/last.pt\n",
            "Optimizer groups: 111 .bias, 115 conv.weight, 108 other\n",
            "WARNING: --img-size 415 must be multiple of max stride 32, updating to 416\n",
            "WARNING: --img-size 415 must be multiple of max stride 32, updating to 416\n",
            "Scanning labels /content/ScaledYolo_Data/train.cache (394 found, 0 missing, 0 empty, 0 duplicate, for 394 images): 100% 394/394 [00:00<00:00, 11482.94it/s]\n",
            "Scanning labels /content/ScaledYolo_Data/val.cache (53 found, 0 missing, 0 empty, 0 duplicate, for 53 images): 100% 53/53 [00:00<00:00, 6075.71it/s]\n",
            "\n",
            "Analyzing anchors... anchors/target = 3.34, Best Possible Recall (BPR) = 0.9502. Attempting to generate improved anchors, please wait...\n",
            "WARNING: Extremely small objects found. 5 of 663 labels are < 3 pixels in width or height.\n",
            "Running kmeans for 9 anchors on 663 points...\n",
            "thr=0.25: 0.9502 best possible recall, 5.09 anchors past thr\n",
            "n=9, img_size=416, metric_all=0.333/0.688-mean/best, past_thr=0.488-mean: 19,70,  25,174,  105,131,  47,375,  71,258,  115,387,  191,248,  213,393,  338,322\n",
            "Evolving anchors with Genetic Algorithm: fitness = 0.7317: 100% 1000/1000 [00:00<00:00, 1956.58it/s]\n",
            "thr=0.25: 0.9985 best possible recall, 4.80 anchors past thr\n",
            "n=9, img_size=416, metric_all=0.320/0.732-mean/best, past_thr=0.485-mean: 7,60,  17,132,  42,88,  25,277,  102,145,  69,345,  114,378,  183,347,  302,329\n",
            "New anchors saved to model. Update model *.yaml to use these anchors in the future.\n",
            "\n",
            "Image sizes 416 train, 416 test\n",
            "Using 2 dataloader workers\n",
            "Starting training for 1260 epochs...\n",
            "\n",
            "     Epoch   gpu_mem      GIoU       obj       cls     total   targets  img_size\n",
            " 1200/1259     4.04G   0.02449   0.02077 0.0007724   0.04603         5       416: 100% 99/99 [01:05<00:00,  1.51it/s]\n",
            "               Class      Images     Targets           P           R      mAP@.5  mAP@.5:.95:   0% 0/14 [00:00<?, ?it/s][W pthreadpool-cpp.cc:90] Warning: Leaking Caffe2 thread-pool after fork. (function pthreadpool)\n",
            "[W pthreadpool-cpp.cc:90] Warning: Leaking Caffe2 thread-pool after fork. (function pthreadpool)\n",
            "               Class      Images     Targets           P           R      mAP@.5  mAP@.5:.95: 100% 14/14 [00:04<00:00,  3.29it/s]\n",
            "                 all          53         103       0.143       0.472        0.19      0.0895\n",
            "[W pthreadpool-cpp.cc:90] Warning: Leaking Caffe2 thread-pool after fork. (function pthreadpool)\n",
            "[W pthreadpool-cpp.cc:90] Warning: Leaking Caffe2 thread-pool after fork. (function pthreadpool)\n",
            "\n",
            "     Epoch   gpu_mem      GIoU       obj       cls     total   targets  img_size\n",
            " 1201/1259     4.08G   0.01942   0.01968  0.001076   0.04017         5       416: 100% 99/99 [00:54<00:00,  1.81it/s]\n",
            "               Class      Images     Targets           P           R      mAP@.5  mAP@.5:.95:   0% 0/14 [00:00<?, ?it/s][W pthreadpool-cpp.cc:90] Warning: Leaking Caffe2 thread-pool after fork. (function pthreadpool)\n",
            "[W pthreadpool-cpp.cc:90] Warning: Leaking Caffe2 thread-pool after fork. (function pthreadpool)\n",
            "               Class      Images     Targets           P           R      mAP@.5  mAP@.5:.95: 100% 14/14 [00:02<00:00,  5.14it/s]\n",
            "                 all          53         103       0.177       0.541       0.234      0.0942\n",
            "[W pthreadpool-cpp.cc:90] Warning: Leaking Caffe2 thread-pool after fork. (function pthreadpool)\n",
            "[W pthreadpool-cpp.cc:90] Warning: Leaking Caffe2 thread-pool after fork. (function pthreadpool)\n",
            "\n",
            "     Epoch   gpu_mem      GIoU       obj       cls     total   targets  img_size\n",
            " 1202/1259     4.08G   0.01799   0.01825  0.001286   0.03753         5       416: 100% 99/99 [00:54<00:00,  1.82it/s]\n",
            "               Class      Images     Targets           P           R      mAP@.5  mAP@.5:.95:   0% 0/14 [00:00<?, ?it/s][W pthreadpool-cpp.cc:90] Warning: Leaking Caffe2 thread-pool after fork. (function pthreadpool)\n",
            "[W pthreadpool-cpp.cc:90] Warning: Leaking Caffe2 thread-pool after fork. (function pthreadpool)\n",
            "               Class      Images     Targets           P           R      mAP@.5  mAP@.5:.95: 100% 14/14 [00:02<00:00,  5.13it/s]\n",
            "                 all          53         103       0.216       0.509       0.338       0.109\n",
            "[W pthreadpool-cpp.cc:90] Warning: Leaking Caffe2 thread-pool after fork. (function pthreadpool)\n",
            "[W pthreadpool-cpp.cc:90] Warning: Leaking Caffe2 thread-pool after fork. (function pthreadpool)\n",
            "\n",
            "     Epoch   gpu_mem      GIoU       obj       cls     total   targets  img_size\n",
            " 1203/1259     4.08G   0.01804   0.01693  0.001156   0.03613         6       416: 100% 99/99 [00:54<00:00,  1.82it/s]\n",
            "               Class      Images     Targets           P           R      mAP@.5  mAP@.5:.95:   0% 0/14 [00:00<?, ?it/s][W pthreadpool-cpp.cc:90] Warning: Leaking Caffe2 thread-pool after fork. (function pthreadpool)\n",
            "[W pthreadpool-cpp.cc:90] Warning: Leaking Caffe2 thread-pool after fork. (function pthreadpool)\n",
            "               Class      Images     Targets           P           R      mAP@.5  mAP@.5:.95: 100% 14/14 [00:02<00:00,  5.13it/s]\n",
            "                 all          53         103       0.264       0.573       0.433       0.115\n",
            "[W pthreadpool-cpp.cc:90] Warning: Leaking Caffe2 thread-pool after fork. (function pthreadpool)\n",
            "[W pthreadpool-cpp.cc:90] Warning: Leaking Caffe2 thread-pool after fork. (function pthreadpool)\n",
            "\n",
            "     Epoch   gpu_mem      GIoU       obj       cls     total   targets  img_size\n",
            " 1204/1259     4.08G   0.01829   0.01815  0.001134   0.03758         6       416: 100% 99/99 [00:54<00:00,  1.82it/s]\n",
            "               Class      Images     Targets           P           R      mAP@.5  mAP@.5:.95:   0% 0/14 [00:00<?, ?it/s][W pthreadpool-cpp.cc:90] Warning: Leaking Caffe2 thread-pool after fork. (function pthreadpool)\n",
            "[W pthreadpool-cpp.cc:90] Warning: Leaking Caffe2 thread-pool after fork. (function pthreadpool)\n",
            "               Class      Images     Targets           P           R      mAP@.5  mAP@.5:.95: 100% 14/14 [00:02<00:00,  5.17it/s]\n",
            "                 all          53         103       0.291       0.587       0.477       0.166\n",
            "[W pthreadpool-cpp.cc:90] Warning: Leaking Caffe2 thread-pool after fork. (function pthreadpool)\n",
            "[W pthreadpool-cpp.cc:90] Warning: Leaking Caffe2 thread-pool after fork. (function pthreadpool)\n",
            "\n",
            "     Epoch   gpu_mem      GIoU       obj       cls     total   targets  img_size\n",
            " 1205/1259     4.08G   0.01885   0.01714   0.00116   0.03715         5       416: 100% 99/99 [00:54<00:00,  1.81it/s]\n",
            "               Class      Images     Targets           P           R      mAP@.5  mAP@.5:.95:   0% 0/14 [00:00<?, ?it/s][W pthreadpool-cpp.cc:90] Warning: Leaking Caffe2 thread-pool after fork. (function pthreadpool)\n",
            "[W pthreadpool-cpp.cc:90] Warning: Leaking Caffe2 thread-pool after fork. (function pthreadpool)\n",
            "               Class      Images     Targets           P           R      mAP@.5  mAP@.5:.95: 100% 14/14 [00:02<00:00,  5.19it/s]\n",
            "                 all          53         103       0.339       0.629        0.51       0.204\n",
            "[W pthreadpool-cpp.cc:90] Warning: Leaking Caffe2 thread-pool after fork. (function pthreadpool)\n",
            "[W pthreadpool-cpp.cc:90] Warning: Leaking Caffe2 thread-pool after fork. (function pthreadpool)\n",
            "\n",
            "     Epoch   gpu_mem      GIoU       obj       cls     total   targets  img_size\n",
            " 1206/1259     4.08G   0.01924   0.01757  0.001135   0.03795         3       416: 100% 99/99 [00:54<00:00,  1.81it/s]\n",
            "               Class      Images     Targets           P           R      mAP@.5  mAP@.5:.95:   0% 0/14 [00:00<?, ?it/s][W pthreadpool-cpp.cc:90] Warning: Leaking Caffe2 thread-pool after fork. (function pthreadpool)\n",
            "[W pthreadpool-cpp.cc:90] Warning: Leaking Caffe2 thread-pool after fork. (function pthreadpool)\n",
            "               Class      Images     Targets           P           R      mAP@.5  mAP@.5:.95: 100% 14/14 [00:02<00:00,  5.13it/s]\n",
            "                 all          53         103       0.382       0.651       0.588       0.278\n",
            "[W pthreadpool-cpp.cc:90] Warning: Leaking Caffe2 thread-pool after fork. (function pthreadpool)\n",
            "[W pthreadpool-cpp.cc:90] Warning: Leaking Caffe2 thread-pool after fork. (function pthreadpool)\n",
            "\n",
            "     Epoch   gpu_mem      GIoU       obj       cls     total   targets  img_size\n",
            " 1207/1259     4.08G   0.01826    0.0178  0.001077   0.03714         9       416: 100% 99/99 [00:54<00:00,  1.80it/s]\n",
            "               Class      Images     Targets           P           R      mAP@.5  mAP@.5:.95:   0% 0/14 [00:00<?, ?it/s][W pthreadpool-cpp.cc:90] Warning: Leaking Caffe2 thread-pool after fork. (function pthreadpool)\n",
            "[W pthreadpool-cpp.cc:90] Warning: Leaking Caffe2 thread-pool after fork. (function pthreadpool)\n",
            "               Class      Images     Targets           P           R      mAP@.5  mAP@.5:.95: 100% 14/14 [00:02<00:00,  5.07it/s]\n",
            "                 all          53         103       0.424       0.646       0.599       0.304\n",
            "[W pthreadpool-cpp.cc:90] Warning: Leaking Caffe2 thread-pool after fork. (function pthreadpool)\n",
            "[W pthreadpool-cpp.cc:90] Warning: Leaking Caffe2 thread-pool after fork. (function pthreadpool)\n",
            "\n",
            "     Epoch   gpu_mem      GIoU       obj       cls     total   targets  img_size\n",
            " 1208/1259     4.08G   0.01916   0.01818 0.0009273   0.03826         2       416: 100% 99/99 [00:54<00:00,  1.81it/s]\n",
            "               Class      Images     Targets           P           R      mAP@.5  mAP@.5:.95:   0% 0/14 [00:00<?, ?it/s][W pthreadpool-cpp.cc:90] Warning: Leaking Caffe2 thread-pool after fork. (function pthreadpool)\n",
            "[W pthreadpool-cpp.cc:90] Warning: Leaking Caffe2 thread-pool after fork. (function pthreadpool)\n",
            "               Class      Images     Targets           P           R      mAP@.5  mAP@.5:.95: 100% 14/14 [00:02<00:00,  5.11it/s]\n",
            "                 all          53         103       0.455       0.658        0.63       0.338\n",
            "[W pthreadpool-cpp.cc:90] Warning: Leaking Caffe2 thread-pool after fork. (function pthreadpool)\n",
            "[W pthreadpool-cpp.cc:90] Warning: Leaking Caffe2 thread-pool after fork. (function pthreadpool)\n",
            "\n",
            "     Epoch   gpu_mem      GIoU       obj       cls     total   targets  img_size\n",
            " 1209/1259     4.08G   0.01797   0.01924   0.00149    0.0387         8       416: 100% 99/99 [00:54<00:00,  1.82it/s]\n",
            "               Class      Images     Targets           P           R      mAP@.5  mAP@.5:.95:   0% 0/14 [00:00<?, ?it/s][W pthreadpool-cpp.cc:90] Warning: Leaking Caffe2 thread-pool after fork. (function pthreadpool)\n",
            "[W pthreadpool-cpp.cc:90] Warning: Leaking Caffe2 thread-pool after fork. (function pthreadpool)\n",
            "               Class      Images     Targets           P           R      mAP@.5  mAP@.5:.95: 100% 14/14 [00:02<00:00,  5.08it/s]\n",
            "                 all          53         103       0.457       0.654       0.631       0.353\n",
            "[W pthreadpool-cpp.cc:90] Warning: Leaking Caffe2 thread-pool after fork. (function pthreadpool)\n",
            "[W pthreadpool-cpp.cc:90] Warning: Leaking Caffe2 thread-pool after fork. (function pthreadpool)\n",
            "\n",
            "     Epoch   gpu_mem      GIoU       obj       cls     total   targets  img_size\n",
            " 1210/1259     4.09G   0.01823   0.01877  0.001156   0.03816         2       416: 100% 99/99 [00:54<00:00,  1.81it/s]\n",
            "               Class      Images     Targets           P           R      mAP@.5  mAP@.5:.95:   0% 0/14 [00:00<?, ?it/s][W pthreadpool-cpp.cc:90] Warning: Leaking Caffe2 thread-pool after fork. (function pthreadpool)\n",
            "[W pthreadpool-cpp.cc:90] Warning: Leaking Caffe2 thread-pool after fork. (function pthreadpool)\n",
            "               Class      Images     Targets           P           R      mAP@.5  mAP@.5:.95: 100% 14/14 [00:02<00:00,  5.15it/s]\n",
            "                 all          53         103       0.472       0.657       0.638       0.373\n",
            "[W pthreadpool-cpp.cc:90] Warning: Leaking Caffe2 thread-pool after fork. (function pthreadpool)\n",
            "[W pthreadpool-cpp.cc:90] Warning: Leaking Caffe2 thread-pool after fork. (function pthreadpool)\n",
            "\n",
            "     Epoch   gpu_mem      GIoU       obj       cls     total   targets  img_size\n",
            " 1211/1259     4.09G   0.01762   0.01718 0.0009843   0.03579         4       416: 100% 99/99 [00:54<00:00,  1.80it/s]\n",
            "               Class      Images     Targets           P           R      mAP@.5  mAP@.5:.95:   0% 0/14 [00:00<?, ?it/s][W pthreadpool-cpp.cc:90] Warning: Leaking Caffe2 thread-pool after fork. (function pthreadpool)\n",
            "[W pthreadpool-cpp.cc:90] Warning: Leaking Caffe2 thread-pool after fork. (function pthreadpool)\n",
            "               Class      Images     Targets           P           R      mAP@.5  mAP@.5:.95: 100% 14/14 [00:02<00:00,  5.12it/s]\n",
            "                 all          53         103       0.487        0.66       0.639       0.388\n",
            "[W pthreadpool-cpp.cc:90] Warning: Leaking Caffe2 thread-pool after fork. (function pthreadpool)\n",
            "[W pthreadpool-cpp.cc:90] Warning: Leaking Caffe2 thread-pool after fork. (function pthreadpool)\n",
            "\n",
            "     Epoch   gpu_mem      GIoU       obj       cls     total   targets  img_size\n",
            " 1212/1259     4.09G   0.01843    0.0181  0.001275    0.0378         2       416: 100% 99/99 [00:54<00:00,  1.81it/s]\n",
            "               Class      Images     Targets           P           R      mAP@.5  mAP@.5:.95:   0% 0/14 [00:00<?, ?it/s][W pthreadpool-cpp.cc:90] Warning: Leaking Caffe2 thread-pool after fork. (function pthreadpool)\n",
            "[W pthreadpool-cpp.cc:90] Warning: Leaking Caffe2 thread-pool after fork. (function pthreadpool)\n",
            "               Class      Images     Targets           P           R      mAP@.5  mAP@.5:.95: 100% 14/14 [00:02<00:00,  5.14it/s]\n",
            "                 all          53         103       0.491        0.66       0.636       0.395\n",
            "[W pthreadpool-cpp.cc:90] Warning: Leaking Caffe2 thread-pool after fork. (function pthreadpool)\n",
            "[W pthreadpool-cpp.cc:90] Warning: Leaking Caffe2 thread-pool after fork. (function pthreadpool)\n",
            "\n",
            "     Epoch   gpu_mem      GIoU       obj       cls     total   targets  img_size\n",
            " 1213/1259     4.09G   0.01819    0.0173  0.001647   0.03714         3       416: 100% 99/99 [00:54<00:00,  1.81it/s]\n",
            "               Class      Images     Targets           P           R      mAP@.5  mAP@.5:.95:   0% 0/14 [00:00<?, ?it/s][W pthreadpool-cpp.cc:90] Warning: Leaking Caffe2 thread-pool after fork. (function pthreadpool)\n",
            "[W pthreadpool-cpp.cc:90] Warning: Leaking Caffe2 thread-pool after fork. (function pthreadpool)\n",
            "               Class      Images     Targets           P           R      mAP@.5  mAP@.5:.95: 100% 14/14 [00:02<00:00,  5.09it/s]\n",
            "                 all          53         103         0.5       0.667       0.646         0.4\n",
            "[W pthreadpool-cpp.cc:90] Warning: Leaking Caffe2 thread-pool after fork. (function pthreadpool)\n",
            "[W pthreadpool-cpp.cc:90] Warning: Leaking Caffe2 thread-pool after fork. (function pthreadpool)\n",
            "\n",
            "     Epoch   gpu_mem      GIoU       obj       cls     total   targets  img_size\n",
            " 1214/1259     4.09G    0.0187   0.01969 0.0009421   0.03933         5       416: 100% 99/99 [00:54<00:00,  1.81it/s]\n",
            "               Class      Images     Targets           P           R      mAP@.5  mAP@.5:.95:   0% 0/14 [00:00<?, ?it/s][W pthreadpool-cpp.cc:90] Warning: Leaking Caffe2 thread-pool after fork. (function pthreadpool)\n",
            "[W pthreadpool-cpp.cc:90] Warning: Leaking Caffe2 thread-pool after fork. (function pthreadpool)\n",
            "               Class      Images     Targets           P           R      mAP@.5  mAP@.5:.95: 100% 14/14 [00:02<00:00,  5.10it/s]\n",
            "                 all          53         103       0.509       0.667        0.65       0.414\n",
            "[W pthreadpool-cpp.cc:90] Warning: Leaking Caffe2 thread-pool after fork. (function pthreadpool)\n",
            "[W pthreadpool-cpp.cc:90] Warning: Leaking Caffe2 thread-pool after fork. (function pthreadpool)\n",
            "\n",
            "     Epoch   gpu_mem      GIoU       obj       cls     total   targets  img_size\n",
            " 1215/1259     4.09G   0.01748   0.01708 0.0009548   0.03552         6       416: 100% 99/99 [00:54<00:00,  1.81it/s]\n",
            "               Class      Images     Targets           P           R      mAP@.5  mAP@.5:.95:   0% 0/14 [00:00<?, ?it/s][W pthreadpool-cpp.cc:90] Warning: Leaking Caffe2 thread-pool after fork. (function pthreadpool)\n",
            "[W pthreadpool-cpp.cc:90] Warning: Leaking Caffe2 thread-pool after fork. (function pthreadpool)\n",
            "               Class      Images     Targets           P           R      mAP@.5  mAP@.5:.95: 100% 14/14 [00:02<00:00,  5.11it/s]\n",
            "                 all          53         103       0.509       0.667        0.65       0.421\n",
            "[W pthreadpool-cpp.cc:90] Warning: Leaking Caffe2 thread-pool after fork. (function pthreadpool)\n",
            "[W pthreadpool-cpp.cc:90] Warning: Leaking Caffe2 thread-pool after fork. (function pthreadpool)\n",
            "\n",
            "     Epoch   gpu_mem      GIoU       obj       cls     total   targets  img_size\n",
            " 1216/1259     4.09G   0.01944   0.01902  0.001242    0.0397         5       416: 100% 99/99 [00:55<00:00,  1.80it/s]\n",
            "               Class      Images     Targets           P           R      mAP@.5  mAP@.5:.95:   0% 0/14 [00:00<?, ?it/s][W pthreadpool-cpp.cc:90] Warning: Leaking Caffe2 thread-pool after fork. (function pthreadpool)\n",
            "[W pthreadpool-cpp.cc:90] Warning: Leaking Caffe2 thread-pool after fork. (function pthreadpool)\n",
            "               Class      Images     Targets           P           R      mAP@.5  mAP@.5:.95: 100% 14/14 [00:02<00:00,  5.12it/s]\n",
            "                 all          53         103       0.501       0.674       0.647       0.422\n",
            "[W pthreadpool-cpp.cc:90] Warning: Leaking Caffe2 thread-pool after fork. (function pthreadpool)\n",
            "[W pthreadpool-cpp.cc:90] Warning: Leaking Caffe2 thread-pool after fork. (function pthreadpool)\n",
            "\n",
            "     Epoch   gpu_mem      GIoU       obj       cls     total   targets  img_size\n",
            " 1217/1259     4.09G   0.01754   0.01786  0.001167   0.03657        11       416: 100% 99/99 [00:54<00:00,  1.81it/s]\n",
            "               Class      Images     Targets           P           R      mAP@.5  mAP@.5:.95:   0% 0/14 [00:00<?, ?it/s][W pthreadpool-cpp.cc:90] Warning: Leaking Caffe2 thread-pool after fork. (function pthreadpool)\n",
            "[W pthreadpool-cpp.cc:90] Warning: Leaking Caffe2 thread-pool after fork. (function pthreadpool)\n",
            "               Class      Images     Targets           P           R      mAP@.5  mAP@.5:.95: 100% 14/14 [00:02<00:00,  5.14it/s]\n",
            "                 all          53         103       0.487       0.667       0.651       0.429\n",
            "[W pthreadpool-cpp.cc:90] Warning: Leaking Caffe2 thread-pool after fork. (function pthreadpool)\n",
            "[W pthreadpool-cpp.cc:90] Warning: Leaking Caffe2 thread-pool after fork. (function pthreadpool)\n",
            "\n",
            "     Epoch   gpu_mem      GIoU       obj       cls     total   targets  img_size\n",
            " 1218/1259     4.09G   0.01858   0.01764  0.001392   0.03762         7       416: 100% 99/99 [00:55<00:00,  1.78it/s]\n",
            "               Class      Images     Targets           P           R      mAP@.5  mAP@.5:.95:   0% 0/14 [00:00<?, ?it/s][W pthreadpool-cpp.cc:90] Warning: Leaking Caffe2 thread-pool after fork. (function pthreadpool)\n",
            "[W pthreadpool-cpp.cc:90] Warning: Leaking Caffe2 thread-pool after fork. (function pthreadpool)\n",
            "               Class      Images     Targets           P           R      mAP@.5  mAP@.5:.95: 100% 14/14 [00:02<00:00,  5.09it/s]\n",
            "                 all          53         103       0.506       0.682       0.652       0.438\n",
            "[W pthreadpool-cpp.cc:90] Warning: Leaking Caffe2 thread-pool after fork. (function pthreadpool)\n",
            "[W pthreadpool-cpp.cc:90] Warning: Leaking Caffe2 thread-pool after fork. (function pthreadpool)\n",
            "\n",
            "     Epoch   gpu_mem      GIoU       obj       cls     total   targets  img_size\n",
            " 1219/1259     4.09G   0.01923   0.01947  0.001324   0.04002        14       416: 100% 99/99 [00:54<00:00,  1.80it/s]\n",
            "               Class      Images     Targets           P           R      mAP@.5  mAP@.5:.95:   0% 0/14 [00:00<?, ?it/s][W pthreadpool-cpp.cc:90] Warning: Leaking Caffe2 thread-pool after fork. (function pthreadpool)\n",
            "[W pthreadpool-cpp.cc:90] Warning: Leaking Caffe2 thread-pool after fork. (function pthreadpool)\n",
            "               Class      Images     Targets           P           R      mAP@.5  mAP@.5:.95: 100% 14/14 [00:02<00:00,  5.12it/s]\n",
            "                 all          53         103       0.533       0.701       0.654       0.439\n",
            "[W pthreadpool-cpp.cc:90] Warning: Leaking Caffe2 thread-pool after fork. (function pthreadpool)\n",
            "[W pthreadpool-cpp.cc:90] Warning: Leaking Caffe2 thread-pool after fork. (function pthreadpool)\n",
            "\n",
            "     Epoch   gpu_mem      GIoU       obj       cls     total   targets  img_size\n",
            " 1220/1259     4.09G   0.02027   0.01931  0.001112   0.04069         7       416: 100% 99/99 [00:54<00:00,  1.81it/s]\n",
            "               Class      Images     Targets           P           R      mAP@.5  mAP@.5:.95:   0% 0/14 [00:00<?, ?it/s][W pthreadpool-cpp.cc:90] Warning: Leaking Caffe2 thread-pool after fork. (function pthreadpool)\n",
            "[W pthreadpool-cpp.cc:90] Warning: Leaking Caffe2 thread-pool after fork. (function pthreadpool)\n",
            "               Class      Images     Targets           P           R      mAP@.5  mAP@.5:.95: 100% 14/14 [00:02<00:00,  5.09it/s]\n",
            "                 all          53         103       0.529       0.701       0.656       0.438\n",
            "[W pthreadpool-cpp.cc:90] Warning: Leaking Caffe2 thread-pool after fork. (function pthreadpool)\n",
            "[W pthreadpool-cpp.cc:90] Warning: Leaking Caffe2 thread-pool after fork. (function pthreadpool)\n",
            "\n",
            "     Epoch   gpu_mem      GIoU       obj       cls     total   targets  img_size\n",
            " 1221/1259     4.09G   0.01903   0.01867  0.001165   0.03886         8       416: 100% 99/99 [00:55<00:00,  1.78it/s]\n",
            "               Class      Images     Targets           P           R      mAP@.5  mAP@.5:.95:   0% 0/14 [00:00<?, ?it/s][W pthreadpool-cpp.cc:90] Warning: Leaking Caffe2 thread-pool after fork. (function pthreadpool)\n",
            "[W pthreadpool-cpp.cc:90] Warning: Leaking Caffe2 thread-pool after fork. (function pthreadpool)\n",
            "               Class      Images     Targets           P           R      mAP@.5  mAP@.5:.95: 100% 14/14 [00:02<00:00,  5.11it/s]\n",
            "                 all          53         103       0.497        0.69       0.652       0.437\n",
            "[W pthreadpool-cpp.cc:90] Warning: Leaking Caffe2 thread-pool after fork. (function pthreadpool)\n",
            "\n",
            "     Epoch   gpu_mem      GIoU       obj       cls     total   targets  img_size\n",
            "  0% 0/99 [00:00<?, ?it/s][W pthreadpool-cpp.cc:90] Warning: Leaking Caffe2 thread-pool after fork. (function pthreadpool)\n",
            " 1222/1259     4.09G   0.01842   0.01879  0.001119   0.03834         1       416: 100% 99/99 [00:54<00:00,  1.80it/s]\n",
            "               Class      Images     Targets           P           R      mAP@.5  mAP@.5:.95:   0% 0/14 [00:00<?, ?it/s][W pthreadpool-cpp.cc:90] Warning: Leaking Caffe2 thread-pool after fork. (function pthreadpool)\n",
            "[W pthreadpool-cpp.cc:90] Warning: Leaking Caffe2 thread-pool after fork. (function pthreadpool)\n",
            "               Class      Images     Targets           P           R      mAP@.5  mAP@.5:.95: 100% 14/14 [00:02<00:00,  5.00it/s]\n",
            "                 all          53         103       0.497        0.69       0.652       0.438\n",
            "[W pthreadpool-cpp.cc:90] Warning: Leaking Caffe2 thread-pool after fork. (function pthreadpool)\n",
            "[W pthreadpool-cpp.cc:90] Warning: Leaking Caffe2 thread-pool after fork. (function pthreadpool)\n",
            "\n",
            "     Epoch   gpu_mem      GIoU       obj       cls     total   targets  img_size\n",
            " 1223/1259     4.09G    0.0185    0.0184  0.001398    0.0383         2       416: 100% 99/99 [00:54<00:00,  1.80it/s]\n",
            "               Class      Images     Targets           P           R      mAP@.5  mAP@.5:.95:   0% 0/14 [00:00<?, ?it/s][W pthreadpool-cpp.cc:90] Warning: Leaking Caffe2 thread-pool after fork. (function pthreadpool)\n",
            "[W pthreadpool-cpp.cc:90] Warning: Leaking Caffe2 thread-pool after fork. (function pthreadpool)\n",
            "               Class      Images     Targets           P           R      mAP@.5  mAP@.5:.95: 100% 14/14 [00:02<00:00,  5.10it/s]\n",
            "                 all          53         103       0.476        0.69       0.654       0.435\n",
            "[W pthreadpool-cpp.cc:90] Warning: Leaking Caffe2 thread-pool after fork. (function pthreadpool)\n",
            "[W pthreadpool-cpp.cc:90] Warning: Leaking Caffe2 thread-pool after fork. (function pthreadpool)\n",
            "\n",
            "     Epoch   gpu_mem      GIoU       obj       cls     total   targets  img_size\n",
            " 1224/1259     4.09G   0.01784   0.01759 0.0009885   0.03642         7       416: 100% 99/99 [00:55<00:00,  1.79it/s]\n",
            "               Class      Images     Targets           P           R      mAP@.5  mAP@.5:.95:   0% 0/14 [00:00<?, ?it/s][W pthreadpool-cpp.cc:90] Warning: Leaking Caffe2 thread-pool after fork. (function pthreadpool)\n",
            "[W pthreadpool-cpp.cc:90] Warning: Leaking Caffe2 thread-pool after fork. (function pthreadpool)\n",
            "               Class      Images     Targets           P           R      mAP@.5  mAP@.5:.95: 100% 14/14 [00:02<00:00,  5.17it/s]\n",
            "                 all          53         103       0.467       0.661       0.653        0.43\n",
            "[W pthreadpool-cpp.cc:90] Warning: Leaking Caffe2 thread-pool after fork. (function pthreadpool)\n",
            "[W pthreadpool-cpp.cc:90] Warning: Leaking Caffe2 thread-pool after fork. (function pthreadpool)\n",
            "\n",
            "     Epoch   gpu_mem      GIoU       obj       cls     total   targets  img_size\n",
            " 1225/1259     4.09G   0.01881    0.0189  0.001176   0.03888         2       416: 100% 99/99 [00:54<00:00,  1.81it/s]\n",
            "               Class      Images     Targets           P           R      mAP@.5  mAP@.5:.95:   0% 0/14 [00:00<?, ?it/s][W pthreadpool-cpp.cc:90] Warning: Leaking Caffe2 thread-pool after fork. (function pthreadpool)\n",
            "[W pthreadpool-cpp.cc:90] Warning: Leaking Caffe2 thread-pool after fork. (function pthreadpool)\n",
            "               Class      Images     Targets           P           R      mAP@.5  mAP@.5:.95: 100% 14/14 [00:02<00:00,  5.10it/s]\n",
            "                 all          53         103       0.491       0.667       0.658       0.436\n",
            "[W pthreadpool-cpp.cc:90] Warning: Leaking Caffe2 thread-pool after fork. (function pthreadpool)\n",
            "[W pthreadpool-cpp.cc:90] Warning: Leaking Caffe2 thread-pool after fork. (function pthreadpool)\n",
            "\n",
            "     Epoch   gpu_mem      GIoU       obj       cls     total   targets  img_size\n",
            " 1226/1259     4.09G    0.0195   0.02018  0.001288   0.04096         0       416: 100% 99/99 [00:54<00:00,  1.81it/s]\n",
            "               Class      Images     Targets           P           R      mAP@.5  mAP@.5:.95:   0% 0/14 [00:00<?, ?it/s][W pthreadpool-cpp.cc:90] Warning: Leaking Caffe2 thread-pool after fork. (function pthreadpool)\n",
            "[W pthreadpool-cpp.cc:90] Warning: Leaking Caffe2 thread-pool after fork. (function pthreadpool)\n",
            "               Class      Images     Targets           P           R      mAP@.5  mAP@.5:.95: 100% 14/14 [00:02<00:00,  5.09it/s]\n",
            "                 all          53         103       0.494       0.667       0.666       0.441\n",
            "[W pthreadpool-cpp.cc:90] Warning: Leaking Caffe2 thread-pool after fork. (function pthreadpool)\n",
            "\n",
            "     Epoch   gpu_mem      GIoU       obj       cls     total   targets  img_size\n",
            "  0% 0/99 [00:00<?, ?it/s][W pthreadpool-cpp.cc:90] Warning: Leaking Caffe2 thread-pool after fork. (function pthreadpool)\n",
            " 1227/1259     4.09G   0.01922   0.02022  0.001898   0.04133         1       416: 100% 99/99 [00:55<00:00,  1.80it/s]\n",
            "               Class      Images     Targets           P           R      mAP@.5  mAP@.5:.95:   0% 0/14 [00:00<?, ?it/s][W pthreadpool-cpp.cc:90] Warning: Leaking Caffe2 thread-pool after fork. (function pthreadpool)\n",
            "[W pthreadpool-cpp.cc:90] Warning: Leaking Caffe2 thread-pool after fork. (function pthreadpool)\n",
            "               Class      Images     Targets           P           R      mAP@.5  mAP@.5:.95: 100% 14/14 [00:02<00:00,  5.05it/s]\n",
            "                 all          53         103       0.484       0.679       0.665        0.44\n",
            "[W pthreadpool-cpp.cc:90] Warning: Leaking Caffe2 thread-pool after fork. (function pthreadpool)\n",
            "[W pthreadpool-cpp.cc:90] Warning: Leaking Caffe2 thread-pool after fork. (function pthreadpool)\n",
            "\n",
            "     Epoch   gpu_mem      GIoU       obj       cls     total   targets  img_size\n",
            " 1228/1259     4.09G   0.01868   0.02018  0.001113   0.03997         7       416: 100% 99/99 [00:56<00:00,  1.76it/s]\n",
            "               Class      Images     Targets           P           R      mAP@.5  mAP@.5:.95:   0% 0/14 [00:00<?, ?it/s][W pthreadpool-cpp.cc:90] Warning: Leaking Caffe2 thread-pool after fork. (function pthreadpool)\n",
            "[W pthreadpool-cpp.cc:90] Warning: Leaking Caffe2 thread-pool after fork. (function pthreadpool)\n",
            "               Class      Images     Targets           P           R      mAP@.5  mAP@.5:.95: 100% 14/14 [00:02<00:00,  5.23it/s]\n",
            "                 all          53         103       0.478       0.676       0.663       0.443\n",
            "[W pthreadpool-cpp.cc:90] Warning: Leaking Caffe2 thread-pool after fork. (function pthreadpool)\n",
            "\n",
            "     Epoch   gpu_mem      GIoU       obj       cls     total   targets  img_size\n",
            "  0% 0/99 [00:00<?, ?it/s][W pthreadpool-cpp.cc:90] Warning: Leaking Caffe2 thread-pool after fork. (function pthreadpool)\n",
            " 1229/1259     4.09G   0.01916   0.02118  0.001362    0.0417         5       416: 100% 99/99 [00:54<00:00,  1.80it/s]\n",
            "               Class      Images     Targets           P           R      mAP@.5  mAP@.5:.95:   0% 0/14 [00:00<?, ?it/s][W pthreadpool-cpp.cc:90] Warning: Leaking Caffe2 thread-pool after fork. (function pthreadpool)\n",
            "[W pthreadpool-cpp.cc:90] Warning: Leaking Caffe2 thread-pool after fork. (function pthreadpool)\n",
            "               Class      Images     Targets           P           R      mAP@.5  mAP@.5:.95: 100% 14/14 [00:02<00:00,  5.11it/s]\n",
            "                 all          53         103       0.485       0.681       0.666       0.445\n",
            "[W pthreadpool-cpp.cc:90] Warning: Leaking Caffe2 thread-pool after fork. (function pthreadpool)\n",
            "\n",
            "     Epoch   gpu_mem      GIoU       obj       cls     total   targets  img_size\n",
            "  0% 0/99 [00:00<?, ?it/s][W pthreadpool-cpp.cc:90] Warning: Leaking Caffe2 thread-pool after fork. (function pthreadpool)\n",
            " 1230/1259     4.09G    0.0185   0.01832 0.0009513   0.03777         3       416: 100% 99/99 [00:54<00:00,  1.82it/s]\n",
            "               Class      Images     Targets           P           R      mAP@.5  mAP@.5:.95:   0% 0/14 [00:00<?, ?it/s][W pthreadpool-cpp.cc:90] Warning: Leaking Caffe2 thread-pool after fork. (function pthreadpool)\n",
            "[W pthreadpool-cpp.cc:90] Warning: Leaking Caffe2 thread-pool after fork. (function pthreadpool)\n",
            "               Class      Images     Targets           P           R      mAP@.5  mAP@.5:.95: 100% 14/14 [00:02<00:00,  5.11it/s]\n",
            "                 all          53         103       0.484       0.683       0.667       0.441\n",
            "[W pthreadpool-cpp.cc:90] Warning: Leaking Caffe2 thread-pool after fork. (function pthreadpool)\n",
            "[W pthreadpool-cpp.cc:90] Warning: Leaking Caffe2 thread-pool after fork. (function pthreadpool)\n",
            "\n",
            "     Epoch   gpu_mem      GIoU       obj       cls     total   targets  img_size\n",
            " 1231/1259     4.09G   0.01892   0.01916  0.001948   0.04003         9       416: 100% 99/99 [00:56<00:00,  1.76it/s]\n",
            "               Class      Images     Targets           P           R      mAP@.5  mAP@.5:.95:   0% 0/14 [00:00<?, ?it/s][W pthreadpool-cpp.cc:90] Warning: Leaking Caffe2 thread-pool after fork. (function pthreadpool)\n",
            "[W pthreadpool-cpp.cc:90] Warning: Leaking Caffe2 thread-pool after fork. (function pthreadpool)\n",
            "               Class      Images     Targets           P           R      mAP@.5  mAP@.5:.95: 100% 14/14 [00:02<00:00,  5.19it/s]\n",
            "                 all          53         103       0.485       0.696       0.665       0.439\n",
            "[W pthreadpool-cpp.cc:90] Warning: Leaking Caffe2 thread-pool after fork. (function pthreadpool)\n",
            "[W pthreadpool-cpp.cc:90] Warning: Leaking Caffe2 thread-pool after fork. (function pthreadpool)\n",
            "\n",
            "     Epoch   gpu_mem      GIoU       obj       cls     total   targets  img_size\n",
            " 1232/1259     4.09G   0.02098   0.02036  0.001628   0.04296         9       416:  27% 27/99 [00:17<00:39,  1.80it/s]"
          ]
        }
      ]
    },
    {
      "cell_type": "code",
      "metadata": {
        "colab": {
          "base_uri": "https://localhost:8080/"
        },
        "id": "XZ0NlY1lkLLQ",
        "outputId": "6628c532-e938-4de4-d924-0128e5fabb4e"
      },
      "source": [
        "# when we ran this, we saw .007 second inference time. That is 140 FPS on a TESLA P100!\n",
        "# use the best weights!\n",
        "%cd /content/ScaledYOLOv4/\n",
        "!python detect.py --weights /content/drive/MyDrive/6_Oct_CSP_4/exp0_yolov4-csp-results/weights/last.pt --img 416 --conf 0.4 --source /content/ScaledYolo_Data/val"
      ],
      "execution_count": 17,
      "outputs": [
        {
          "output_type": "stream",
          "name": "stdout",
          "text": [
            "/content/ScaledYOLOv4\n",
            "Namespace(agnostic_nms=False, augment=False, classes=None, conf_thres=0.4, device='', img_size=416, iou_thres=0.5, output='inference/output', save_txt=False, source='/content/ScaledYolo_Data/val', update=False, view_img=False, weights=['/content/drive/MyDrive/6_Oct_CSP_4/exp0_yolov4-csp-results/weights/last.pt'])\n",
            "Using CUDA device0 _CudaDeviceProperties(name='Tesla K80', total_memory=11441MB)\n",
            "\n",
            "Fusing layers... Model Summary: 235 layers, 5.24813e+07 parameters, 5.04494e+07 gradients\n",
            "/usr/local/lib/python3.7/dist-packages/torch/nn/functional.py:718: UserWarning: Named tensors and all their associated APIs are an experimental feature and subject to change. Please do not use them for anything important until they are released as stable. (Triggered internally at  /pytorch/c10/core/TensorImpl.h:1156.)\n",
            "  return torch.max_pool2d(input, kernel_size, stride, padding, dilation, ceil_mode)\n",
            "image 1/53 /content/ScaledYolo_Data/val/04_3420.jpg: 416x416 Done. (0.096s)\n",
            "image 2/53 /content/ScaledYolo_Data/val/08_1830.jpg: 416x416 1 tower_tucohys, Done. (0.091s)\n",
            "image 3/53 /content/ScaledYolo_Data/val/08_1890.jpg: 416x416 1 tower_tucohys, Done. (0.087s)\n",
            "image 4/53 /content/ScaledYolo_Data/val/09_2550.jpg: 416x416 1 tower_woodens, Done. (0.081s)\n",
            "image 5/53 /content/ScaledYolo_Data/val/09_9180.jpg: 416x416 Done. (0.072s)\n",
            "image 6/53 /content/ScaledYolo_Data/val/1000_00527.jpg: 416x416 1 tower_lattices, Done. (0.072s)\n",
            "image 7/53 /content/ScaledYolo_Data/val/104_2190.jpg: 416x416 1 tower_lattices, Done. (0.067s)\n",
            "image 8/53 /content/ScaledYolo_Data/val/105_4350.jpg: 416x416 1 tower_lattices, Done. (0.066s)\n",
            "image 9/53 /content/ScaledYolo_Data/val/106_30.jpg: 416x416 1 tower_woodens, Done. (0.067s)\n",
            "image 10/53 /content/ScaledYolo_Data/val/107_2505.jpg: 416x416 3 tower_lattices, Done. (0.065s)\n",
            "image 11/53 /content/ScaledYolo_Data/val/110_0.jpg: 416x416 1 tower_lattices, 1 tower_tucohys, Done. (0.066s)\n",
            "image 12/53 /content/ScaledYolo_Data/val/111_3585.jpg: 416x416 1 tower_lattices, 2 tower_tucohys, Done. (0.065s)\n",
            "image 13/53 /content/ScaledYolo_Data/val/112_165.jpg: 416x416 1 tower_woodens, Done. (0.065s)\n",
            "image 14/53 /content/ScaledYolo_Data/val/114_210.jpg: 416x416 3 tower_woodens, Done. (0.065s)\n",
            "image 15/53 /content/ScaledYolo_Data/val/13_5580.jpg: 416x416 Done. (0.064s)\n",
            "image 16/53 /content/ScaledYolo_Data/val/14_01171.jpg: 416x416 3 tower_woodens, Done. (0.065s)\n",
            "image 17/53 /content/ScaledYolo_Data/val/16_3720.jpg: 416x416 1 tower_lattices, Done. (0.065s)\n",
            "image 18/53 /content/ScaledYolo_Data/val/19_00137.jpg: 416x416 5 tower_lattices, 2 tower_woodens, Done. (0.065s)\n",
            "image 19/53 /content/ScaledYolo_Data/val/20_3120.jpg: 416x416 Done. (0.064s)\n",
            "image 20/53 /content/ScaledYolo_Data/val/20_360.jpg: 416x416 1 tower_lattices, 1 tower_woodens, Done. (0.065s)\n",
            "image 21/53 /content/ScaledYolo_Data/val/20_7215.jpg: 416x416 Done. (0.065s)\n",
            "image 22/53 /content/ScaledYolo_Data/val/22_00434.jpg: 416x416 1 tower_tucohys, Done. (0.066s)\n",
            "image 23/53 /content/ScaledYolo_Data/val/22_02021.jpg: 416x416 1 tower_woodens, Done. (0.065s)\n",
            "image 24/53 /content/ScaledYolo_Data/val/23_01656.jpg: 416x416 1 tower_lattices, Done. (0.065s)\n",
            "image 25/53 /content/ScaledYolo_Data/val/25_00029.jpg: 416x416 1 tower_lattices, 3 tower_tucohys, Done. (0.065s)\n",
            "image 26/53 /content/ScaledYolo_Data/val/26_2850.jpg: 416x416 1 tower_woodens, Done. (0.065s)\n",
            "image 27/53 /content/ScaledYolo_Data/val/27_00375.jpg: 416x416 1 tower_tucohys, Done. (0.065s)\n",
            "image 28/53 /content/ScaledYolo_Data/val/28_00090.jpg: 416x416 2 tower_tucohys, Done. (0.066s)\n",
            "image 29/53 /content/ScaledYolo_Data/val/34_1005.jpg: 416x416 1 tower_lattices, 1 tower_tucohys, Done. (0.065s)\n",
            "image 30/53 /content/ScaledYolo_Data/val/41_00961.jpg: 416x416 1 tower_woodens, Done. (0.065s)\n",
            "image 31/53 /content/ScaledYolo_Data/val/43_00591.jpg: 416x416 Done. (0.064s)\n",
            "image 32/53 /content/ScaledYolo_Data/val/46_00596.jpg: 416x416 1 tower_tucohys, Done. (0.067s)\n",
            "image 33/53 /content/ScaledYolo_Data/val/47_00601.jpg: 416x416 1 tower_woodens, Done. (0.065s)\n",
            "image 34/53 /content/ScaledYolo_Data/val/48_02416.jpg: 416x416 1 tower_tucohys, 1 tower_woodens, Done. (0.065s)\n",
            "image 35/53 /content/ScaledYolo_Data/val/52_00721.jpg: 416x416 Done. (0.064s)\n",
            "image 36/53 /content/ScaledYolo_Data/val/57_01046.jpg: 416x416 1 tower_woodens, Done. (0.066s)\n",
            "image 37/53 /content/ScaledYolo_Data/val/58_00956.jpg: 416x416 2 tower_lattices, 1 tower_woodens, Done. (0.066s)\n",
            "image 38/53 /content/ScaledYolo_Data/val/63_01871.jpg: 416x416 1 tower_lattices, Done. (0.065s)\n",
            "image 39/53 /content/ScaledYolo_Data/val/64_00036.jpg: 416x416 2 tower_lattices, 1 tower_tucohys, Done. (0.065s)\n",
            "image 40/53 /content/ScaledYolo_Data/val/66_00191.jpg: 416x416 5 tower_lattices, Done. (0.065s)\n",
            "image 41/53 /content/ScaledYolo_Data/val/67_00356.jpg: 416x416 1 tower_lattices, 1 tower_woodens, Done. (0.065s)\n",
            "image 42/53 /content/ScaledYolo_Data/val/67_02716.jpg: 416x416 2 tower_lattices, Done. (0.066s)\n",
            "image 43/53 /content/ScaledYolo_Data/val/70_00343.jpg: 416x416 1 tower_woodens, Done. (0.065s)\n",
            "image 44/53 /content/ScaledYolo_Data/val/70_00655.jpg: 416x416 1 tower_woodens, Done. (0.065s)\n",
            "image 45/53 /content/ScaledYolo_Data/val/70_01510.jpg: 416x416 1 tower_woodens, Done. (0.065s)\n",
            "image 46/53 /content/ScaledYolo_Data/val/71_3880.jpg: 416x416 1 tower_lattices, 1 tower_tucohys, Done. (0.066s)\n",
            "image 47/53 /content/ScaledYolo_Data/val/71_4520.jpg: 416x416 1 tower_lattices, Done. (0.065s)\n",
            "image 48/53 /content/ScaledYolo_Data/val/71_9160.jpg: 416x416 1 tower_tucohys, Done. (0.065s)\n",
            "image 49/53 /content/ScaledYolo_Data/val/74_00453.jpg: 416x416 1 tower_lattices, Done. (0.065s)\n",
            "image 50/53 /content/ScaledYolo_Data/val/76_1230.jpg: 416x416 1 tower_lattices, Done. (0.066s)\n",
            "image 51/53 /content/ScaledYolo_Data/val/78_465.jpg: 416x416 1 tower_lattices, Done. (0.065s)\n",
            "image 52/53 /content/ScaledYolo_Data/val/80_1660.jpg: 416x416 1 tower_lattices, Done. (0.065s)\n",
            "image 53/53 /content/ScaledYolo_Data/val/90_5550.jpg: 416x416 1 tower_tucohys, Done. (0.065s)\n",
            "Results saved to inference/output\n",
            "Done. (5.067s)\n"
          ]
        }
      ]
    },
    {
      "cell_type": "code",
      "metadata": {
        "id": "5wSoO2lhq74R",
        "colab": {
          "base_uri": "https://localhost:8080/",
          "height": 41
        },
        "outputId": "cce86101-e7d3-4a91-aec6-016ad461a8d3"
      },
      "source": [
        "from IPython.display import Image, display\n",
        "display(Image('/content/drive/MyDrive/8_Oct_CSP_4/exp0_yolov4-csp-results/results.png'))  # view results.png"
      ],
      "execution_count": 18,
      "outputs": [
        {
          "output_type": "display_data",
          "data": {
            "image/png": "/content/drive/MyDrive/8_Oct_CSP_4/exp0_yolov4-csp-results/results.png",
            "text/plain": [
              "<IPython.core.display.Image object>"
            ]
          },
          "metadata": {}
        }
      ]
    },
    {
      "cell_type": "code",
      "metadata": {
        "colab": {
          "base_uri": "https://localhost:8080/"
        },
        "id": "FFMSNA11gTzG",
        "outputId": "1a74782b-1f5f-4e89-b520-d0bd4a52e8b9"
      },
      "source": [
        "!python /content/ScaledYOLOv4/test.py --help"
      ],
      "execution_count": 11,
      "outputs": [
        {
          "output_type": "stream",
          "name": "stdout",
          "text": [
            "usage: test.py [-h] [--weights WEIGHTS [WEIGHTS ...]] [--data DATA]\n",
            "               [--batch-size BATCH_SIZE] [--img-size IMG_SIZE]\n",
            "               [--conf-thres CONF_THRES] [--iou-thres IOU_THRES] [--save-json]\n",
            "               [--task TASK] [--device DEVICE] [--single-cls] [--augment]\n",
            "               [--merge] [--verbose] [--save-txt]\n",
            "\n",
            "optional arguments:\n",
            "  -h, --help            show this help message and exit\n",
            "  --weights WEIGHTS [WEIGHTS ...]\n",
            "                        model.pt path(s)\n",
            "  --data DATA           *.data path\n",
            "  --batch-size BATCH_SIZE\n",
            "                        size of each image batch\n",
            "  --img-size IMG_SIZE   inference size (pixels)\n",
            "  --conf-thres CONF_THRES\n",
            "                        object confidence threshold\n",
            "  --iou-thres IOU_THRES\n",
            "                        IOU threshold for NMS\n",
            "  --save-json           save a cocoapi-compatible JSON results file\n",
            "  --task TASK           'val', 'test', 'study'\n",
            "  --device DEVICE       cuda device, i.e. 0 or 0,1,2,3 or cpu\n",
            "  --single-cls          treat as single-class dataset\n",
            "  --augment             augmented inference\n",
            "  --merge               use Merge NMS\n",
            "  --verbose             report mAP by class\n",
            "  --save-txt            save results to *.txt\n"
          ]
        }
      ]
    },
    {
      "cell_type": "code",
      "metadata": {
        "id": "O-3dusvne5w5",
        "colab": {
          "base_uri": "https://localhost:8080/"
        },
        "outputId": "49a6fee0-b833-4960-84b5-6e341fba36dd"
      },
      "source": [
        "!python /content/ScaledYOLOv4/test.py --img 415 --conf 0.001 --iou 0.65 --batch 8 --device 0 --data /content/ScaledYOLOv4/data/coco.yaml --weights /content/drive/MyDrive/6_Oct_CSP_4/exp0_yolov4-csp-results/weights/last.pt --verbose"
      ],
      "execution_count": 19,
      "outputs": [
        {
          "output_type": "stream",
          "name": "stdout",
          "text": [
            "Namespace(augment=False, batch_size=8, conf_thres=0.001, data='/content/ScaledYOLOv4/data/coco.yaml', device='0', img_size=415, iou_thres=0.65, merge=False, save_json=True, save_txt=False, single_cls=False, task='val', verbose=True, weights=['/content/drive/MyDrive/6_Oct_CSP_4/exp0_yolov4-csp-results/weights/last.pt'])\n",
            "Using CUDA device0 _CudaDeviceProperties(name='Tesla K80', total_memory=11441MB)\n",
            "\n",
            "Fusing layers... Model Summary: 235 layers, 5.24813e+07 parameters, 5.04494e+07 gradients\n",
            "WARNING: --img-size 415 must be multiple of max stride 32, updating to 416\n",
            "/usr/local/lib/python3.7/dist-packages/torch/nn/functional.py:718: UserWarning: Named tensors and all their associated APIs are an experimental feature and subject to change. Please do not use them for anything important until they are released as stable. (Triggered internally at  /pytorch/c10/core/TensorImpl.h:1156.)\n",
            "  return torch.max_pool2d(input, kernel_size, stride, padding, dilation, ceil_mode)\n",
            "Scanning labels /content/ScaledYolo_Data/train.cache (394 found, 0 missing, 0 empty, 0 duplicate, for 394 images): 100% 394/394 [00:00<00:00, 12363.69it/s]\n",
            "               Class      Images     Targets           P           R      mAP@.5  mAP@.5:.95: 100% 50/50 [00:19<00:00,  2.50it/s]\n",
            "                 all         394         663       0.829       0.935       0.941       0.806\n",
            "       tower_lattice         394         275       0.898       0.989       0.984       0.881\n",
            "        tower_tucohy         394         170       0.803       0.888       0.907        0.78\n",
            "        tower_wooden         394         218       0.787       0.927       0.932       0.756\n",
            "Speed: 43.6/1.9/45.5 ms inference/NMS/total per 416x416 image at batch-size 8\n",
            "\n",
            "COCO mAP with pycocotools... saving detections_val2017__results.json...\n",
            "ERROR: pycocotools unable to run: invalid literal for int() with base 10: '19_00993_'\n"
          ]
        }
      ]
    },
    {
      "cell_type": "code",
      "metadata": {
        "colab": {
          "base_uri": "https://localhost:8080/"
        },
        "id": "JxnDLa5Rg5L3",
        "outputId": "1ca78523-73da-49c9-dbcf-1dc4f7d68875"
      },
      "source": [
        "#test data\n",
        "!python /content/ScaledYOLOv4/test.py --img 415 --conf 0.001 --iou 0.65 --batch 8 --device 0 --data /content/ScaledYOLOv4/data/coco.yaml --weights /content/drive/MyDrive/6_Oct_CSP_4/exp0_yolov4-csp-results/weights/last.pt --verbose"
      ],
      "execution_count": 22,
      "outputs": [
        {
          "output_type": "stream",
          "name": "stdout",
          "text": [
            "Namespace(augment=False, batch_size=8, conf_thres=0.001, data='/content/ScaledYOLOv4/data/coco.yaml', device='0', img_size=415, iou_thres=0.65, merge=False, save_json=True, save_txt=False, single_cls=False, task='val', verbose=True, weights=['/content/drive/MyDrive/6_Oct_CSP_4/exp0_yolov4-csp-results/weights/last.pt'])\n",
            "Using CUDA device0 _CudaDeviceProperties(name='Tesla K80', total_memory=11441MB)\n",
            "\n",
            "Fusing layers... Model Summary: 235 layers, 5.24813e+07 parameters, 5.04494e+07 gradients\n",
            "WARNING: --img-size 415 must be multiple of max stride 32, updating to 416\n",
            "/usr/local/lib/python3.7/dist-packages/torch/nn/functional.py:718: UserWarning: Named tensors and all their associated APIs are an experimental feature and subject to change. Please do not use them for anything important until they are released as stable. (Triggered internally at  /pytorch/c10/core/TensorImpl.h:1156.)\n",
            "  return torch.max_pool2d(input, kernel_size, stride, padding, dilation, ceil_mode)\n",
            "Scanning labels /content/ScaledYolo_Data/test.cache (123 found, 0 missing, 0 empty, 0 duplicate, for 123 images): 100% 123/123 [00:00<00:00, 11566.99it/s]\n",
            "               Class      Images     Targets           P           R      mAP@.5  mAP@.5:.95: 100% 16/16 [00:06<00:00,  2.36it/s]\n",
            "                 all         123         202       0.659       0.673       0.671       0.462\n",
            "       tower_lattice         123          88       0.739        0.83       0.833       0.641\n",
            "        tower_tucohy         123          45        0.63       0.756       0.712       0.525\n",
            "        tower_wooden         123          69       0.608       0.435       0.468       0.221\n",
            "Speed: 44.1/2.0/46.1 ms inference/NMS/total per 416x416 image at batch-size 8\n",
            "\n",
            "COCO mAP with pycocotools... saving detections_val2017__results.json...\n",
            "ERROR: pycocotools unable to run: list index out of range\n"
          ]
        }
      ]
    },
    {
      "cell_type": "code",
      "metadata": {
        "id": "_e7PYBLHoNEf",
        "colab": {
          "base_uri": "https://localhost:8080/"
        },
        "outputId": "f5e91241-8180-4af6-a01a-c1f60790e172"
      },
      "source": [
        "#val data\n",
        "!python /content/ScaledYOLOv4/test.py --img 415 --conf 0.001 --iou 0.65 --batch 8 --device 0 --data /content/ScaledYOLOv4/data/coco.yaml --weights /content/drive/MyDrive/6_Oct_CSP_4/exp0_yolov4-csp-results/weights/last.pt --verbose"
      ],
      "execution_count": 23,
      "outputs": [
        {
          "output_type": "stream",
          "name": "stdout",
          "text": [
            "Namespace(augment=False, batch_size=8, conf_thres=0.001, data='/content/ScaledYOLOv4/data/coco.yaml', device='0', img_size=415, iou_thres=0.65, merge=False, save_json=True, save_txt=False, single_cls=False, task='val', verbose=True, weights=['/content/drive/MyDrive/6_Oct_CSP_4/exp0_yolov4-csp-results/weights/last.pt'])\n",
            "Using CUDA device0 _CudaDeviceProperties(name='Tesla K80', total_memory=11441MB)\n",
            "\n",
            "Fusing layers... Model Summary: 235 layers, 5.24813e+07 parameters, 5.04494e+07 gradients\n",
            "WARNING: --img-size 415 must be multiple of max stride 32, updating to 416\n",
            "/usr/local/lib/python3.7/dist-packages/torch/nn/functional.py:718: UserWarning: Named tensors and all their associated APIs are an experimental feature and subject to change. Please do not use them for anything important until they are released as stable. (Triggered internally at  /pytorch/c10/core/TensorImpl.h:1156.)\n",
            "  return torch.max_pool2d(input, kernel_size, stride, padding, dilation, ceil_mode)\n",
            "Scanning labels /content/ScaledYolo_Data/val.cache (53 found, 0 missing, 0 empty, 0 duplicate, for 53 images): 100% 53/53 [00:00<00:00, 9966.29it/s]\n",
            "               Class      Images     Targets           P           R      mAP@.5  mAP@.5:.95: 100% 7/7 [00:03<00:00,  2.08it/s]\n",
            "                 all          53         103       0.573        0.69       0.677       0.456\n",
            "       tower_lattice          53          41       0.719        0.78       0.809        0.58\n",
            "        tower_tucohy          53          16       0.574       0.875       0.799        0.58\n",
            "        tower_wooden          53          46       0.427       0.413       0.425       0.209\n",
            "Speed: 47.1/1.5/48.7 ms inference/NMS/total per 416x416 image at batch-size 8\n",
            "\n",
            "COCO mAP with pycocotools... saving detections_val2017__results.json...\n",
            "ERROR: pycocotools unable to run: list index out of range\n"
          ]
        }
      ]
    },
    {
      "cell_type": "code",
      "metadata": {
        "id": "tVwtJch4L-V2"
      },
      "source": [
        ""
      ],
      "execution_count": null,
      "outputs": []
    }
  ]
}