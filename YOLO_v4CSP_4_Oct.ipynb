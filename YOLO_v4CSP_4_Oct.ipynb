{
  "nbformat": 4,
  "nbformat_minor": 0,
  "metadata": {
    "colab": {
      "name": "YOLO v4CSP.ipynb",
      "provenance": [],
      "collapsed_sections": [],
      "include_colab_link": true
    },
    "kernelspec": {
      "display_name": "Python 3",
      "name": "python3"
    },
    "language_info": {
      "name": "python"
    },
    "accelerator": "GPU"
  },
  "cells": [
    {
      "cell_type": "markdown",
      "metadata": {
        "id": "view-in-github",
        "colab_type": "text"
      },
      "source": [
        "<a href=\"https://colab.research.google.com/github/yushendye/AerialInspection/blob/main/YOLO_v4CSP_4_Oct.ipynb\" target=\"_parent\"><img src=\"https://colab.research.google.com/assets/colab-badge.svg\" alt=\"Open In Colab\"/></a>"
      ]
    },
    {
      "cell_type": "code",
      "metadata": {
        "colab": {
          "base_uri": "https://localhost:8080/"
        },
        "id": "htqQXHp5fbO0",
        "outputId": "c0b7df8c-63af-4f2f-f5df-53fe2ef8cfa2"
      },
      "source": [
        "from google.colab import drive\n",
        "drive.mount('/content/drive')"
      ],
      "execution_count": 1,
      "outputs": [
        {
          "output_type": "stream",
          "name": "stdout",
          "text": [
            "Mounted at /content/drive\n"
          ]
        }
      ]
    },
    {
      "cell_type": "code",
      "metadata": {
        "colab": {
          "base_uri": "https://localhost:8080/"
        },
        "id": "mfVk34m3yxkU",
        "outputId": "28b6e775-8d60-429d-eb9d-700efb2ece12"
      },
      "source": [
        "# clone Scaled_YOLOv4\n",
        "!git clone https://github.com/roboflow-ai/ScaledYOLOv4.git  # clone repo\n",
        "%cd /content/ScaledYOLOv4/\n",
        "#checkout the yolov4-large branch\n",
        "!git checkout yolov4-large"
      ],
      "execution_count": 2,
      "outputs": [
        {
          "output_type": "stream",
          "name": "stdout",
          "text": [
            "Cloning into 'ScaledYOLOv4'...\n",
            "remote: Enumerating objects: 128, done.\u001b[K\n",
            "remote: Total 128 (delta 0), reused 0 (delta 0), pack-reused 128\u001b[K\n",
            "Receiving objects: 100% (128/128), 389.37 KiB | 3.82 MiB/s, done.\n",
            "Resolving deltas: 100% (39/39), done.\n",
            "/content/ScaledYOLOv4\n",
            "Branch 'yolov4-large' set up to track remote branch 'yolov4-large' from 'origin'.\n",
            "Switched to a new branch 'yolov4-large'\n"
          ]
        }
      ]
    },
    {
      "cell_type": "code",
      "metadata": {
        "colab": {
          "base_uri": "https://localhost:8080/"
        },
        "id": "UnvwJr6jzM84",
        "outputId": "163af869-de7b-48bd-f02b-92b6052d2d89"
      },
      "source": [
        "import torch\n",
        "print('Using torch %s %s' % (torch.__version__, torch.cuda.get_device_properties(0) if torch.cuda.is_available() else 'CPU'))"
      ],
      "execution_count": 3,
      "outputs": [
        {
          "output_type": "stream",
          "name": "stdout",
          "text": [
            "Using torch 1.9.0+cu102 _CudaDeviceProperties(name='Tesla K80', major=3, minor=7, total_memory=11441MB, multi_processor_count=13)\n"
          ]
        }
      ]
    },
    {
      "cell_type": "code",
      "metadata": {
        "colab": {
          "base_uri": "https://localhost:8080/"
        },
        "id": "P2TNpvXZfBEs",
        "outputId": "e25431da-a6b6-499c-e358-61c7a7fa52fd"
      },
      "source": [
        "#install mish activation funciton for cuda\n",
        "%cd /content/\n",
        "!git clone https://github.com/JunnYu/mish-cuda\n",
        "%cd mish-cuda\n",
        "!python setup.py build install"
      ],
      "execution_count": 4,
      "outputs": [
        {
          "output_type": "stream",
          "name": "stdout",
          "text": [
            "/content\n",
            "Cloning into 'mish-cuda'...\n",
            "remote: Enumerating objects: 195, done.\u001b[K\n",
            "remote: Counting objects: 100% (88/88), done.\u001b[K\n",
            "remote: Compressing objects: 100% (75/75), done.\u001b[K\n",
            "remote: Total 195 (delta 7), reused 79 (delta 3), pack-reused 107\u001b[K\n",
            "Receiving objects: 100% (195/195), 208.77 KiB | 2.86 MiB/s, done.\n",
            "Resolving deltas: 100% (56/56), done.\n",
            "/content/mish-cuda\n",
            "/usr/lib/python3.7/distutils/extension.py:131: UserWarning: Unknown Extension options: 'headers'\n",
            "  warnings.warn(msg)\n",
            "running build\n",
            "running build_py\n",
            "creating build\n",
            "creating build/lib.linux-x86_64-3.7\n",
            "creating build/lib.linux-x86_64-3.7/mish_cuda\n",
            "copying src/mish_cuda/__init__.py -> build/lib.linux-x86_64-3.7/mish_cuda\n",
            "running egg_info\n",
            "creating src/mish_cuda.egg-info\n",
            "writing src/mish_cuda.egg-info/PKG-INFO\n",
            "writing dependency_links to src/mish_cuda.egg-info/dependency_links.txt\n",
            "writing requirements to src/mish_cuda.egg-info/requires.txt\n",
            "writing top-level names to src/mish_cuda.egg-info/top_level.txt\n",
            "writing manifest file 'src/mish_cuda.egg-info/SOURCES.txt'\n",
            "/usr/local/lib/python3.7/dist-packages/torch/utils/cpp_extension.py:370: UserWarning: Attempted to use ninja as the BuildExtension backend but we could not find ninja.. Falling back to using the slow distutils backend.\n",
            "  warnings.warn(msg.format('we could not find ninja.'))\n",
            "adding license file 'LICENSE'\n",
            "writing manifest file 'src/mish_cuda.egg-info/SOURCES.txt'\n",
            "running build_ext\n",
            "building 'mish_cuda._C' extension\n",
            "creating build/temp.linux-x86_64-3.7\n",
            "creating build/temp.linux-x86_64-3.7/csrc\n",
            "creating build/temp.linux-x86_64-3.7/csrc/cpu\n",
            "creating build/temp.linux-x86_64-3.7/csrc/cuda\n",
            "x86_64-linux-gnu-gcc -pthread -Wno-unused-result -Wsign-compare -DNDEBUG -g -fwrapv -O2 -Wall -g -fdebug-prefix-map=/build/python3.7-Y7dWVB/python3.7-3.7.12=. -fstack-protector-strong -Wformat -Werror=format-security -g -fdebug-prefix-map=/build/python3.7-Y7dWVB/python3.7-3.7.12=. -fstack-protector-strong -Wformat -Werror=format-security -Wdate-time -D_FORTIFY_SOURCE=2 -fPIC -I/usr/local/lib/python3.7/dist-packages/torch/include -I/usr/local/lib/python3.7/dist-packages/torch/include/torch/csrc/api/include -I/usr/local/lib/python3.7/dist-packages/torch/include/TH -I/usr/local/lib/python3.7/dist-packages/torch/include/THC -I/usr/local/cuda/include -I/usr/include/python3.7m -c csrc/cpu/mish_cpu.cpp -o build/temp.linux-x86_64-3.7/csrc/cpu/mish_cpu.o -DTORCH_API_INCLUDE_EXTENSION_H -DPYBIND11_COMPILER_TYPE=\"_gcc\" -DPYBIND11_STDLIB=\"_libstdcpp\" -DPYBIND11_BUILD_ABI=\"_cxxabi1011\" -DTORCH_EXTENSION_NAME=_C -D_GLIBCXX_USE_CXX11_ABI=0 -std=c++14\n",
            "In file included from \u001b[01m\u001b[K/usr/local/lib/python3.7/dist-packages/torch/include/ATen/Parallel.h:140:0\u001b[m\u001b[K,\n",
            "                 from \u001b[01m\u001b[K/usr/local/lib/python3.7/dist-packages/torch/include/ATen/CPUApplyUtils.h:3\u001b[m\u001b[K,\n",
            "                 from \u001b[01m\u001b[Kcsrc/cpu/mish_cpu.cpp:3\u001b[m\u001b[K:\n",
            "\u001b[01m\u001b[K/usr/local/lib/python3.7/dist-packages/torch/include/ATen/ParallelOpenMP.h:87:0:\u001b[m\u001b[K \u001b[01;35m\u001b[Kwarning: \u001b[m\u001b[Kignoring #pragma omp parallel [\u001b[01;35m\u001b[K-Wunknown-pragmas\u001b[m\u001b[K]\n",
            " #pragma omp parallel for if ((end - begin) >= grain_size)\n",
            " \n",
            "x86_64-linux-gnu-gcc -pthread -Wno-unused-result -Wsign-compare -DNDEBUG -g -fwrapv -O2 -Wall -g -fdebug-prefix-map=/build/python3.7-Y7dWVB/python3.7-3.7.12=. -fstack-protector-strong -Wformat -Werror=format-security -g -fdebug-prefix-map=/build/python3.7-Y7dWVB/python3.7-3.7.12=. -fstack-protector-strong -Wformat -Werror=format-security -Wdate-time -D_FORTIFY_SOURCE=2 -fPIC -I/usr/local/lib/python3.7/dist-packages/torch/include -I/usr/local/lib/python3.7/dist-packages/torch/include/torch/csrc/api/include -I/usr/local/lib/python3.7/dist-packages/torch/include/TH -I/usr/local/lib/python3.7/dist-packages/torch/include/THC -I/usr/local/cuda/include -I/usr/include/python3.7m -c csrc/cuda/mish_cuda.cpp -o build/temp.linux-x86_64-3.7/csrc/cuda/mish_cuda.o -DTORCH_API_INCLUDE_EXTENSION_H -DPYBIND11_COMPILER_TYPE=\"_gcc\" -DPYBIND11_STDLIB=\"_libstdcpp\" -DPYBIND11_BUILD_ABI=\"_cxxabi1011\" -DTORCH_EXTENSION_NAME=_C -D_GLIBCXX_USE_CXX11_ABI=0 -std=c++14\n",
            "In file included from \u001b[01m\u001b[K/usr/local/lib/python3.7/dist-packages/torch/include/ATen/Parallel.h:140:0\u001b[m\u001b[K,\n",
            "                 from \u001b[01m\u001b[K/usr/local/lib/python3.7/dist-packages/torch/include/torch/csrc/api/include/torch/utils.h:3\u001b[m\u001b[K,\n",
            "                 from \u001b[01m\u001b[K/usr/local/lib/python3.7/dist-packages/torch/include/torch/csrc/api/include/torch/nn/cloneable.h:5\u001b[m\u001b[K,\n",
            "                 from \u001b[01m\u001b[K/usr/local/lib/python3.7/dist-packages/torch/include/torch/csrc/api/include/torch/nn.h:3\u001b[m\u001b[K,\n",
            "                 from \u001b[01m\u001b[K/usr/local/lib/python3.7/dist-packages/torch/include/torch/csrc/api/include/torch/all.h:13\u001b[m\u001b[K,\n",
            "                 from \u001b[01m\u001b[K/usr/local/lib/python3.7/dist-packages/torch/include/torch/extension.h:4\u001b[m\u001b[K,\n",
            "                 from \u001b[01m\u001b[Kcsrc/cuda/mish_cuda.cpp:2\u001b[m\u001b[K:\n",
            "\u001b[01m\u001b[K/usr/local/lib/python3.7/dist-packages/torch/include/ATen/ParallelOpenMP.h:87:0:\u001b[m\u001b[K \u001b[01;35m\u001b[Kwarning: \u001b[m\u001b[Kignoring #pragma omp parallel [\u001b[01;35m\u001b[K-Wunknown-pragmas\u001b[m\u001b[K]\n",
            " #pragma omp parallel for if ((end - begin) >= grain_size)\n",
            " \n",
            "/usr/local/cuda/bin/nvcc -I/usr/local/lib/python3.7/dist-packages/torch/include -I/usr/local/lib/python3.7/dist-packages/torch/include/torch/csrc/api/include -I/usr/local/lib/python3.7/dist-packages/torch/include/TH -I/usr/local/lib/python3.7/dist-packages/torch/include/THC -I/usr/local/cuda/include -I/usr/include/python3.7m -c csrc/cuda/mish_kernel.cu -o build/temp.linux-x86_64-3.7/csrc/cuda/mish_kernel.o -D__CUDA_NO_HALF_OPERATORS__ -D__CUDA_NO_HALF_CONVERSIONS__ -D__CUDA_NO_BFLOAT16_CONVERSIONS__ -D__CUDA_NO_HALF2_OPERATORS__ --expt-relaxed-constexpr --compiler-options '-fPIC' --expt-extended-lambda -DTORCH_API_INCLUDE_EXTENSION_H -DPYBIND11_COMPILER_TYPE=\"_gcc\" -DPYBIND11_STDLIB=\"_libstdcpp\" -DPYBIND11_BUILD_ABI=\"_cxxabi1011\" -DTORCH_EXTENSION_NAME=_C -D_GLIBCXX_USE_CXX11_ABI=0 -gencode=arch=compute_37,code=compute_37 -gencode=arch=compute_37,code=sm_37 -std=c++14\n",
            "nvcc warning : The 'compute_35', 'compute_37', 'compute_50', 'sm_35', 'sm_37' and 'sm_50' architectures are deprecated, and may be removed in a future release (Use -Wno-deprecated-gpu-targets to suppress warning).\n",
            "x86_64-linux-gnu-g++ -pthread -shared -Wl,-O1 -Wl,-Bsymbolic-functions -Wl,-Bsymbolic-functions -Wl,-z,relro -Wl,-Bsymbolic-functions -Wl,-z,relro -g -fdebug-prefix-map=/build/python3.7-Y7dWVB/python3.7-3.7.12=. -fstack-protector-strong -Wformat -Werror=format-security -Wdate-time -D_FORTIFY_SOURCE=2 build/temp.linux-x86_64-3.7/csrc/cpu/mish_cpu.o build/temp.linux-x86_64-3.7/csrc/cuda/mish_cuda.o build/temp.linux-x86_64-3.7/csrc/cuda/mish_kernel.o -L/usr/local/lib/python3.7/dist-packages/torch/lib -L/usr/local/cuda/lib64 -lc10 -ltorch -ltorch_cpu -ltorch_python -lcudart -lc10_cuda -ltorch_cuda -o build/lib.linux-x86_64-3.7/mish_cuda/_C.cpython-37m-x86_64-linux-gnu.so\n",
            "running install\n",
            "running bdist_egg\n",
            "installing library code to build/bdist.linux-x86_64/egg\n",
            "running install_lib\n",
            "creating build/bdist.linux-x86_64\n",
            "creating build/bdist.linux-x86_64/egg\n",
            "creating build/bdist.linux-x86_64/egg/mish_cuda\n",
            "copying build/lib.linux-x86_64-3.7/mish_cuda/_C.cpython-37m-x86_64-linux-gnu.so -> build/bdist.linux-x86_64/egg/mish_cuda\n",
            "copying build/lib.linux-x86_64-3.7/mish_cuda/__init__.py -> build/bdist.linux-x86_64/egg/mish_cuda\n",
            "byte-compiling build/bdist.linux-x86_64/egg/mish_cuda/__init__.py to __init__.cpython-37.pyc\n",
            "creating stub loader for mish_cuda/_C.cpython-37m-x86_64-linux-gnu.so\n",
            "byte-compiling build/bdist.linux-x86_64/egg/mish_cuda/_C.py to _C.cpython-37.pyc\n",
            "creating build/bdist.linux-x86_64/egg/EGG-INFO\n",
            "copying src/mish_cuda.egg-info/PKG-INFO -> build/bdist.linux-x86_64/egg/EGG-INFO\n",
            "copying src/mish_cuda.egg-info/SOURCES.txt -> build/bdist.linux-x86_64/egg/EGG-INFO\n",
            "copying src/mish_cuda.egg-info/dependency_links.txt -> build/bdist.linux-x86_64/egg/EGG-INFO\n",
            "copying src/mish_cuda.egg-info/not-zip-safe -> build/bdist.linux-x86_64/egg/EGG-INFO\n",
            "copying src/mish_cuda.egg-info/requires.txt -> build/bdist.linux-x86_64/egg/EGG-INFO\n",
            "copying src/mish_cuda.egg-info/top_level.txt -> build/bdist.linux-x86_64/egg/EGG-INFO\n",
            "writing build/bdist.linux-x86_64/egg/EGG-INFO/native_libs.txt\n",
            "creating dist\n",
            "creating 'dist/mish_cuda-0.0.3-py3.7-linux-x86_64.egg' and adding 'build/bdist.linux-x86_64/egg' to it\n",
            "removing 'build/bdist.linux-x86_64/egg' (and everything under it)\n",
            "Processing mish_cuda-0.0.3-py3.7-linux-x86_64.egg\n",
            "creating /usr/local/lib/python3.7/dist-packages/mish_cuda-0.0.3-py3.7-linux-x86_64.egg\n",
            "Extracting mish_cuda-0.0.3-py3.7-linux-x86_64.egg to /usr/local/lib/python3.7/dist-packages\n",
            "Adding mish-cuda 0.0.3 to easy-install.pth file\n",
            "\n",
            "Installed /usr/local/lib/python3.7/dist-packages/mish_cuda-0.0.3-py3.7-linux-x86_64.egg\n",
            "Processing dependencies for mish-cuda==0.0.3\n",
            "Searching for torch==1.9.0+cu102\n",
            "Best match: torch 1.9.0+cu102\n",
            "Adding torch 1.9.0+cu102 to easy-install.pth file\n",
            "Installing convert-caffe2-to-onnx script to /usr/local/bin\n",
            "Installing convert-onnx-to-caffe2 script to /usr/local/bin\n",
            "\n",
            "Using /usr/local/lib/python3.7/dist-packages\n",
            "Searching for typing-extensions==3.7.4.3\n",
            "Best match: typing-extensions 3.7.4.3\n",
            "Adding typing-extensions 3.7.4.3 to easy-install.pth file\n",
            "\n",
            "Using /usr/local/lib/python3.7/dist-packages\n",
            "Finished processing dependencies for mish-cuda==0.0.3\n"
          ]
        }
      ]
    },
    {
      "cell_type": "code",
      "metadata": {
        "colab": {
          "base_uri": "https://localhost:8080/"
        },
        "id": "KtDt5MSkl8iN",
        "outputId": "2becbf30-90c2-4323-8075-ca05d9bb37b2"
      },
      "source": [
        "!pip install -U PyYAML"
      ],
      "execution_count": 5,
      "outputs": [
        {
          "output_type": "stream",
          "name": "stdout",
          "text": [
            "Requirement already satisfied: PyYAML in /usr/local/lib/python3.7/dist-packages (3.13)\n",
            "Collecting PyYAML\n",
            "  Downloading PyYAML-5.4.1-cp37-cp37m-manylinux1_x86_64.whl (636 kB)\n",
            "\u001b[K     |████████████████████████████████| 636 kB 5.2 MB/s \n",
            "\u001b[?25hInstalling collected packages: PyYAML\n",
            "  Attempting uninstall: PyYAML\n",
            "    Found existing installation: PyYAML 3.13\n",
            "    Uninstalling PyYAML-3.13:\n",
            "      Successfully uninstalled PyYAML-3.13\n",
            "Successfully installed PyYAML-5.4.1\n"
          ]
        }
      ]
    },
    {
      "cell_type": "code",
      "metadata": {
        "colab": {
          "base_uri": "https://localhost:8080/"
        },
        "id": "946yOiRymL39",
        "outputId": "6ad9cf1b-7c6d-49af-f438-ddf59cb73e55"
      },
      "source": [
        "%cd /content/ScaledYOLOv4/\n",
        "!python train.py --help"
      ],
      "execution_count": null,
      "outputs": [
        {
          "output_type": "stream",
          "name": "stdout",
          "text": [
            "/content/ScaledYOLOv4\n",
            "usage: train.py [-h] [--weights WEIGHTS] [--cfg CFG] [--data DATA] [--hyp HYP]\n",
            "                [--epochs EPOCHS] [--batch-size BATCH_SIZE]\n",
            "                [--img-size IMG_SIZE [IMG_SIZE ...]] [--rect]\n",
            "                [--resume [RESUME]] [--nosave] [--notest] [--noautoanchor]\n",
            "                [--evolve] [--bucket BUCKET] [--cache-images] [--name NAME]\n",
            "                [--device DEVICE] [--multi-scale] [--single-cls] [--adam]\n",
            "                [--sync-bn] [--local_rank LOCAL_RANK] [--logdir LOGDIR]\n",
            "\n",
            "optional arguments:\n",
            "  -h, --help            show this help message and exit\n",
            "  --weights WEIGHTS     initial weights path\n",
            "  --cfg CFG             model.yaml path\n",
            "  --data DATA           data.yaml path\n",
            "  --hyp HYP             hyperparameters path, i.e. data/hyp.scratch.yaml\n",
            "  --epochs EPOCHS\n",
            "  --batch-size BATCH_SIZE\n",
            "                        total batch size for all GPUs\n",
            "  --img-size IMG_SIZE [IMG_SIZE ...]\n",
            "                        train,test sizes\n",
            "  --rect                rectangular training\n",
            "  --resume [RESUME]     resume from given path/last.pt, or most recent run if\n",
            "                        blank\n",
            "  --nosave              only save final checkpoint\n",
            "  --notest              only test final epoch\n",
            "  --noautoanchor        disable autoanchor check\n",
            "  --evolve              evolve hyperparameters\n",
            "  --bucket BUCKET       gsutil bucket\n",
            "  --cache-images        cache images for faster training\n",
            "  --name NAME           renames results.txt to results_name.txt if supplied\n",
            "  --device DEVICE       cuda device, i.e. 0 or 0,1,2,3 or cpu\n",
            "  --multi-scale         vary img-size +/- 50%\n",
            "  --single-cls          train as single-class dataset\n",
            "  --adam                use torch.optim.Adam() optimizer\n",
            "  --sync-bn             use SyncBatchNorm, only available in DDP mode\n",
            "  --local_rank LOCAL_RANK\n",
            "                        DDP parameter, do not modify\n",
            "  --logdir LOGDIR       logging directory\n"
          ]
        }
      ]
    },
    {
      "cell_type": "code",
      "metadata": {
        "id": "VUuowbUzgODH"
      },
      "source": [
        "!cp -r /content/drive/MyDrive/ScaledYolo_Data /content/"
      ],
      "execution_count": 6,
      "outputs": []
    },
    {
      "cell_type": "code",
      "metadata": {
        "id": "iAVrw8bIMzhA"
      },
      "source": [
        "!cp -r /content/ScaledYOLOv4 /content/drive/MyDrive/Scaled_YOLOv4/"
      ],
      "execution_count": null,
      "outputs": []
    },
    {
      "cell_type": "code",
      "metadata": {
        "colab": {
          "base_uri": "https://localhost:8080/"
        },
        "id": "mOz5jjZYf89n",
        "outputId": "acd5f76e-9a60-4bd4-a2c5-792d51e16538"
      },
      "source": [
        "%cd /content/ScaledYOLOv4/\n",
        "!python train.py --img 415 --batch 4 --epochs 800 --data /content/ScaledYOLOv4/data/coco.yaml --cfg /content/ScaledYOLOv4/models/yolov4-csp.yaml --weights '/content/drive/MyDrive/4_Oct_CSP_3/exp0_yolov4-csp-results/weights/last_749.pt' --name yolov4-csp-results --logdir '/content/drive/MyDrive/4_Oct_CSP_4/'"
      ],
      "execution_count": null,
      "outputs": [
        {
          "output_type": "stream",
          "name": "stdout",
          "text": [
            "/content/ScaledYOLOv4\n",
            "Using CUDA device0 _CudaDeviceProperties(name='Tesla K80', total_memory=11441MB)\n",
            "\n",
            "Namespace(adam=False, batch_size=4, bucket='', cache_images=False, cfg='/content/ScaledYOLOv4/models/yolov4-csp.yaml', data='/content/ScaledYOLOv4/data/coco.yaml', device='', epochs=800, evolve=False, global_rank=-1, hyp='data/hyp.finetune.yaml', img_size=[415, 415], local_rank=-1, logdir='/content/drive/MyDrive/4_Oct_CSP_4/', multi_scale=False, name='yolov4-csp-results', noautoanchor=False, nosave=False, notest=False, rect=False, resume=False, single_cls=False, sync_bn=False, total_batch_size=4, weights='/content/drive/MyDrive/4_Oct_CSP_3/exp0_yolov4-csp-results/weights/last_749.pt', world_size=1)\n",
            "Start Tensorboard with \"tensorboard --logdir /content/drive/MyDrive/4_Oct_CSP_4/\", view at http://localhost:6006/\n",
            "Hyperparameters {'lr0': 0.01, 'momentum': 0.937, 'weight_decay': 0.0005, 'giou': 0.05, 'cls': 0.5, 'cls_pw': 1.0, 'obj': 1.0, 'obj_pw': 1.0, 'iou_t': 0.2, 'anchor_t': 4.0, 'fl_gamma': 0.0, 'hsv_h': 0.015, 'hsv_s': 0.7, 'hsv_v': 0.4, 'degrees': 0.0, 'translate': 0.5, 'scale': 0.8, 'shear': 0.0, 'perspective': 0.0, 'flipud': 0.0, 'fliplr': 0.5, 'mixup': 0.2}\n",
            "\n",
            "                 from  n    params  module                                  arguments                     \n",
            "  0                -1  1       928  models.common.Conv                      [3, 32, 3, 1]                 \n",
            "  1                -1  1     18560  models.common.Conv                      [32, 64, 3, 2]                \n",
            "  2                -1  1     20672  models.common.Bottleneck                [64, 64]                      \n",
            "  3                -1  1     73984  models.common.Conv                      [64, 128, 3, 2]               \n",
            "  4                -1  1    119936  models.common.BottleneckCSP             [128, 128, 2]                 \n",
            "  5                -1  1    295424  models.common.Conv                      [128, 256, 3, 2]              \n",
            "  6                -1  1   1463552  models.common.BottleneckCSP             [256, 256, 8]                 \n",
            "  7                -1  1   1180672  models.common.Conv                      [256, 512, 3, 2]              \n",
            "  8                -1  1   5843456  models.common.BottleneckCSP             [512, 512, 8]                 \n",
            "  9                -1  1   4720640  models.common.Conv                      [512, 1024, 3, 2]             \n",
            " 10                -1  1  12858368  models.common.BottleneckCSP             [1024, 1024, 4]               \n",
            " 11                -1  1   7610368  models.common.SPPCSP                    [1024, 512, 1]                \n",
            " 12                -1  1    131584  models.common.Conv                      [512, 256, 1, 1]              \n",
            " 13                -1  1         0  torch.nn.modules.upsampling.Upsample    [None, 2, 'nearest']          \n",
            " 14                 8  1    131584  models.common.Conv                      [512, 256, 1, 1]              \n",
            " 15          [-1, -2]  1         0  models.common.Concat                    [1]                           \n",
            " 16                -1  1   1642496  models.common.BottleneckCSP2            [512, 256, 2]                 \n",
            " 17                -1  1     33024  models.common.Conv                      [256, 128, 1, 1]              \n",
            " 18                -1  1         0  torch.nn.modules.upsampling.Upsample    [None, 2, 'nearest']          \n",
            " 19                 6  1     33024  models.common.Conv                      [256, 128, 1, 1]              \n",
            " 20          [-1, -2]  1         0  models.common.Concat                    [1]                           \n",
            " 21                -1  1    411648  models.common.BottleneckCSP2            [256, 128, 2]                 \n",
            " 22                -1  1    295424  models.common.Conv                      [128, 256, 3, 1]              \n",
            " 23                -2  1    295424  models.common.Conv                      [128, 256, 3, 2]              \n",
            " 24          [-1, 16]  1         0  models.common.Concat                    [1]                           \n",
            " 25                -1  1   1642496  models.common.BottleneckCSP2            [512, 256, 2]                 \n",
            " 26                -1  1   1180672  models.common.Conv                      [256, 512, 3, 1]              \n",
            " 27                -2  1   1180672  models.common.Conv                      [256, 512, 3, 2]              \n",
            " 28          [-1, 11]  1         0  models.common.Concat                    [1]                           \n",
            " 29                -1  1   6561792  models.common.BottleneckCSP2            [1024, 512, 2]                \n",
            " 30                -1  1   4720640  models.common.Conv                      [512, 1024, 3, 1]             \n",
            " 31      [22, 26, 30]  1     43080  models.yolo.Detect                      [3, [[12, 16, 19, 36, 40, 28], [36, 75, 76, 55, 72, 146], [142, 110, 192, 243, 459, 401]], [256, 512, 1024]]\n",
            "/usr/local/lib/python3.7/dist-packages/torch/nn/functional.py:718: UserWarning: Named tensors and all their associated APIs are an experimental feature and subject to change. Please do not use them for anything important until they are released as stable. (Triggered internally at  /pytorch/c10/core/TensorImpl.h:1156.)\n",
            "  return torch.max_pool2d(input, kernel_size, stride, padding, dilation, ceil_mode)\n",
            "Model Summary: 334 layers, 5.25101e+07 parameters, 5.25101e+07 gradients\n",
            "\n",
            "Transferred 658/660 items from /content/drive/MyDrive/4_Oct_CSP_3/exp0_yolov4-csp-results/weights/last_749.pt\n",
            "Optimizer groups: 111 .bias, 115 conv.weight, 108 other\n",
            "WARNING: --img-size 415 must be multiple of max stride 32, updating to 416\n",
            "WARNING: --img-size 415 must be multiple of max stride 32, updating to 416\n",
            "Scanning labels /content/ScaledYolo_Data/train.cache (394 found, 0 missing, 0 empty, 0 duplicate, for 394 images): 100% 394/394 [00:00<00:00, 11737.82it/s]\n",
            "Scanning labels /content/ScaledYolo_Data/train.cache (394 found, 0 missing, 0 empty, 0 duplicate, for 394 images): 100% 394/394 [00:00<00:00, 11500.52it/s]\n",
            "\n",
            "Analyzing anchors... anchors/target = 3.32, Best Possible Recall (BPR) = 0.9532. Attempting to generate improved anchors, please wait...\n",
            "WARNING: Extremely small objects found. 5 of 663 labels are < 3 pixels in width or height.\n",
            "Running kmeans for 9 anchors on 663 points...\n",
            "thr=0.25: 0.9502 best possible recall, 5.09 anchors past thr\n",
            "n=9, img_size=416, metric_all=0.332/0.687-mean/best, past_thr=0.487-mean: 19,68,  25,167,  111,129,  69,253,  49,375,  116,388,  189,260,  215,396,  338,322\n",
            "Evolving anchors with Genetic Algorithm: fitness = 0.7362: 100% 1000/1000 [00:00<00:00, 1870.23it/s]\n",
            "thr=0.25: 0.9985 best possible recall, 5.13 anchors past thr\n",
            "n=9, img_size=416, metric_all=0.337/0.737-mean/best, past_thr=0.487-mean: 8,56,  17,144,  45,86,  28,306,  64,235,  104,147,  70,382,  114,376,  214,344\n",
            "New anchors saved to model. Update model *.yaml to use these anchors in the future.\n",
            "\n",
            "Image sizes 416 train, 416 test\n",
            "Using 2 dataloader workers\n",
            "Starting training for 800 epochs...\n",
            "\n",
            "     Epoch   gpu_mem      GIoU       obj       cls     total   targets  img_size\n",
            "   750/799     3.87G   0.05387   0.03415  0.002505   0.09052         5       416: 100% 99/99 [01:08<00:00,  1.44it/s]\n",
            "               Class      Images     Targets           P           R      mAP@.5  mAP@.5:.95:   0% 0/99 [00:00<?, ?it/s][W pthreadpool-cpp.cc:90] Warning: Leaking Caffe2 thread-pool after fork. (function pthreadpool)\n",
            "[W pthreadpool-cpp.cc:90] Warning: Leaking Caffe2 thread-pool after fork. (function pthreadpool)\n",
            "               Class      Images     Targets           P           R      mAP@.5  mAP@.5:.95: 100% 99/99 [00:19<00:00,  5.18it/s]\n",
            "                 all         394         663       0.218       0.847       0.417       0.122\n",
            "[W pthreadpool-cpp.cc:90] Warning: Leaking Caffe2 thread-pool after fork. (function pthreadpool)\n",
            "[W pthreadpool-cpp.cc:90] Warning: Leaking Caffe2 thread-pool after fork. (function pthreadpool)\n",
            "\n",
            "     Epoch   gpu_mem      GIoU       obj       cls     total   targets  img_size\n",
            "   751/799     3.96G   0.03604   0.03359  0.003861   0.07349         5       416: 100% 99/99 [00:58<00:00,  1.70it/s]\n",
            "               Class      Images     Targets           P           R      mAP@.5  mAP@.5:.95:   0% 0/99 [00:00<?, ?it/s][W pthreadpool-cpp.cc:90] Warning: Leaking Caffe2 thread-pool after fork. (function pthreadpool)\n",
            "[W pthreadpool-cpp.cc:90] Warning: Leaking Caffe2 thread-pool after fork. (function pthreadpool)\n",
            "               Class      Images     Targets           P           R      mAP@.5  mAP@.5:.95: 100% 99/99 [00:18<00:00,  5.24it/s]\n",
            "                 all         394         663        0.35       0.887       0.688       0.333\n",
            "[W pthreadpool-cpp.cc:90] Warning: Leaking Caffe2 thread-pool after fork. (function pthreadpool)\n",
            "[W pthreadpool-cpp.cc:90] Warning: Leaking Caffe2 thread-pool after fork. (function pthreadpool)\n",
            "\n",
            "     Epoch   gpu_mem      GIoU       obj       cls     total   targets  img_size\n",
            "   752/799     3.96G   0.02833   0.02996   0.00372   0.06201         5       416: 100% 99/99 [00:57<00:00,  1.72it/s]\n",
            "               Class      Images     Targets           P           R      mAP@.5  mAP@.5:.95:   0% 0/99 [00:00<?, ?it/s][W pthreadpool-cpp.cc:90] Warning: Leaking Caffe2 thread-pool after fork. (function pthreadpool)\n",
            "[W pthreadpool-cpp.cc:90] Warning: Leaking Caffe2 thread-pool after fork. (function pthreadpool)\n",
            "               Class      Images     Targets           P           R      mAP@.5  mAP@.5:.95: 100% 99/99 [00:18<00:00,  5.23it/s]\n",
            "                 all         394         663       0.456       0.896       0.874       0.566\n",
            "[W pthreadpool-cpp.cc:90] Warning: Leaking Caffe2 thread-pool after fork. (function pthreadpool)\n",
            "[W pthreadpool-cpp.cc:90] Warning: Leaking Caffe2 thread-pool after fork. (function pthreadpool)\n",
            "\n",
            "     Epoch   gpu_mem      GIoU       obj       cls     total   targets  img_size\n",
            "   753/799     3.96G   0.02557   0.02654   0.00308   0.05519         6       416: 100% 99/99 [00:57<00:00,  1.71it/s]\n",
            "               Class      Images     Targets           P           R      mAP@.5  mAP@.5:.95:   0% 0/99 [00:00<?, ?it/s][W pthreadpool-cpp.cc:90] Warning: Leaking Caffe2 thread-pool after fork. (function pthreadpool)\n",
            "[W pthreadpool-cpp.cc:90] Warning: Leaking Caffe2 thread-pool after fork. (function pthreadpool)\n",
            "               Class      Images     Targets           P           R      mAP@.5  mAP@.5:.95: 100% 99/99 [00:18<00:00,  5.22it/s]\n",
            "                 all         394         663       0.518       0.893       0.888       0.645\n",
            "[W pthreadpool-cpp.cc:90] Warning: Leaking Caffe2 thread-pool after fork. (function pthreadpool)\n",
            "[W pthreadpool-cpp.cc:90] Warning: Leaking Caffe2 thread-pool after fork. (function pthreadpool)\n",
            "\n",
            "     Epoch   gpu_mem      GIoU       obj       cls     total   targets  img_size\n",
            "   754/799     3.96G   0.02548   0.02877  0.003203   0.05745         6       416: 100% 99/99 [00:57<00:00,  1.71it/s]\n",
            "               Class      Images     Targets           P           R      mAP@.5  mAP@.5:.95:   0% 0/99 [00:00<?, ?it/s][W pthreadpool-cpp.cc:90] Warning: Leaking Caffe2 thread-pool after fork. (function pthreadpool)\n",
            "[W pthreadpool-cpp.cc:90] Warning: Leaking Caffe2 thread-pool after fork. (function pthreadpool)\n",
            "               Class      Images     Targets           P           R      mAP@.5  mAP@.5:.95: 100% 99/99 [00:19<00:00,  5.20it/s]\n",
            "                 all         394         663       0.586       0.903       0.895       0.682\n",
            "[W pthreadpool-cpp.cc:90] Warning: Leaking Caffe2 thread-pool after fork. (function pthreadpool)\n",
            "[W pthreadpool-cpp.cc:90] Warning: Leaking Caffe2 thread-pool after fork. (function pthreadpool)\n",
            "\n",
            "     Epoch   gpu_mem      GIoU       obj       cls     total   targets  img_size\n",
            "   755/799     3.96G   0.02468   0.02647  0.002458   0.05361         5       416: 100% 99/99 [00:57<00:00,  1.71it/s]\n",
            "               Class      Images     Targets           P           R      mAP@.5  mAP@.5:.95:   0% 0/99 [00:00<?, ?it/s][W pthreadpool-cpp.cc:90] Warning: Leaking Caffe2 thread-pool after fork. (function pthreadpool)\n",
            "[W pthreadpool-cpp.cc:90] Warning: Leaking Caffe2 thread-pool after fork. (function pthreadpool)\n",
            "               Class      Images     Targets           P           R      mAP@.5  mAP@.5:.95: 100% 99/99 [00:19<00:00,  5.21it/s]\n",
            "                 all         394         663        0.61       0.905       0.904       0.703\n",
            "[W pthreadpool-cpp.cc:90] Warning: Leaking Caffe2 thread-pool after fork. (function pthreadpool)\n",
            "[W pthreadpool-cpp.cc:90] Warning: Leaking Caffe2 thread-pool after fork. (function pthreadpool)\n",
            "\n",
            "     Epoch   gpu_mem      GIoU       obj       cls     total   targets  img_size\n",
            "   756/799     3.96G   0.02452   0.02827  0.002752   0.05554         3       416: 100% 99/99 [00:58<00:00,  1.70it/s]\n",
            "               Class      Images     Targets           P           R      mAP@.5  mAP@.5:.95:   0% 0/99 [00:00<?, ?it/s][W pthreadpool-cpp.cc:90] Warning: Leaking Caffe2 thread-pool after fork. (function pthreadpool)\n",
            "[W pthreadpool-cpp.cc:90] Warning: Leaking Caffe2 thread-pool after fork. (function pthreadpool)\n",
            "               Class      Images     Targets           P           R      mAP@.5  mAP@.5:.95: 100% 99/99 [00:19<00:00,  5.21it/s]\n",
            "                 all         394         663       0.635       0.905       0.906       0.707\n",
            "[W pthreadpool-cpp.cc:90] Warning: Leaking Caffe2 thread-pool after fork. (function pthreadpool)\n",
            "[W pthreadpool-cpp.cc:90] Warning: Leaking Caffe2 thread-pool after fork. (function pthreadpool)\n",
            "\n",
            "     Epoch   gpu_mem      GIoU       obj       cls     total   targets  img_size\n",
            "   757/799     3.96G   0.02537   0.02788  0.002447    0.0557         9       416: 100% 99/99 [00:58<00:00,  1.70it/s]\n",
            "               Class      Images     Targets           P           R      mAP@.5  mAP@.5:.95:   0% 0/99 [00:00<?, ?it/s][W pthreadpool-cpp.cc:90] Warning: Leaking Caffe2 thread-pool after fork. (function pthreadpool)\n",
            "[W pthreadpool-cpp.cc:90] Warning: Leaking Caffe2 thread-pool after fork. (function pthreadpool)\n",
            "               Class      Images     Targets           P           R      mAP@.5  mAP@.5:.95: 100% 99/99 [00:19<00:00,  5.21it/s]\n",
            "                 all         394         663       0.639       0.905       0.908       0.708\n",
            "[W pthreadpool-cpp.cc:90] Warning: Leaking Caffe2 thread-pool after fork. (function pthreadpool)\n",
            "[W pthreadpool-cpp.cc:90] Warning: Leaking Caffe2 thread-pool after fork. (function pthreadpool)\n",
            "\n",
            "     Epoch   gpu_mem      GIoU       obj       cls     total   targets  img_size\n",
            "   758/799     3.96G     0.024   0.02725  0.002148    0.0534         2       416: 100% 99/99 [00:57<00:00,  1.72it/s]\n",
            "               Class      Images     Targets           P           R      mAP@.5  mAP@.5:.95:   0% 0/99 [00:00<?, ?it/s][W pthreadpool-cpp.cc:90] Warning: Leaking Caffe2 thread-pool after fork. (function pthreadpool)\n",
            "[W pthreadpool-cpp.cc:90] Warning: Leaking Caffe2 thread-pool after fork. (function pthreadpool)\n",
            "               Class      Images     Targets           P           R      mAP@.5  mAP@.5:.95: 100% 99/99 [00:18<00:00,  5.24it/s]\n",
            "                 all         394         663       0.658       0.904       0.906       0.704\n",
            "[W pthreadpool-cpp.cc:90] Warning: Leaking Caffe2 thread-pool after fork. (function pthreadpool)\n",
            "[W pthreadpool-cpp.cc:90] Warning: Leaking Caffe2 thread-pool after fork. (function pthreadpool)\n",
            "\n",
            "     Epoch   gpu_mem      GIoU       obj       cls     total   targets  img_size\n",
            "   759/799     3.96G    0.0237   0.02865  0.002467   0.05482         8       416: 100% 99/99 [00:56<00:00,  1.74it/s]\n",
            "               Class      Images     Targets           P           R      mAP@.5  mAP@.5:.95:   0% 0/99 [00:00<?, ?it/s][W pthreadpool-cpp.cc:90] Warning: Leaking Caffe2 thread-pool after fork. (function pthreadpool)\n",
            "[W pthreadpool-cpp.cc:90] Warning: Leaking Caffe2 thread-pool after fork. (function pthreadpool)\n",
            "               Class      Images     Targets           P           R      mAP@.5  mAP@.5:.95: 100% 99/99 [00:18<00:00,  5.22it/s]\n",
            "                 all         394         663       0.684       0.908        0.91       0.703\n",
            "[W pthreadpool-cpp.cc:90] Warning: Leaking Caffe2 thread-pool after fork. (function pthreadpool)\n",
            "[W pthreadpool-cpp.cc:90] Warning: Leaking Caffe2 thread-pool after fork. (function pthreadpool)\n",
            "\n",
            "     Epoch   gpu_mem      GIoU       obj       cls     total   targets  img_size\n",
            "   760/799     3.96G   0.02457   0.02951  0.002175   0.05625         2       416: 100% 99/99 [00:57<00:00,  1.73it/s]\n",
            "               Class      Images     Targets           P           R      mAP@.5  mAP@.5:.95:   0% 0/99 [00:00<?, ?it/s][W pthreadpool-cpp.cc:90] Warning: Leaking Caffe2 thread-pool after fork. (function pthreadpool)\n",
            "[W pthreadpool-cpp.cc:90] Warning: Leaking Caffe2 thread-pool after fork. (function pthreadpool)\n",
            "               Class      Images     Targets           P           R      mAP@.5  mAP@.5:.95: 100% 99/99 [00:18<00:00,  5.23it/s]\n",
            "                 all         394         663       0.699       0.903       0.909       0.703\n",
            "[W pthreadpool-cpp.cc:90] Warning: Leaking Caffe2 thread-pool after fork. (function pthreadpool)\n",
            "[W pthreadpool-cpp.cc:90] Warning: Leaking Caffe2 thread-pool after fork. (function pthreadpool)\n",
            "\n",
            "     Epoch   gpu_mem      GIoU       obj       cls     total   targets  img_size\n",
            "   761/799     3.96G   0.02422   0.02667  0.002679   0.05356         4       416: 100% 99/99 [00:56<00:00,  1.74it/s]\n",
            "               Class      Images     Targets           P           R      mAP@.5  mAP@.5:.95:   0% 0/99 [00:00<?, ?it/s][W pthreadpool-cpp.cc:90] Warning: Leaking Caffe2 thread-pool after fork. (function pthreadpool)\n",
            "[W pthreadpool-cpp.cc:90] Warning: Leaking Caffe2 thread-pool after fork. (function pthreadpool)\n",
            "               Class      Images     Targets           P           R      mAP@.5  mAP@.5:.95: 100% 99/99 [00:18<00:00,  5.24it/s]\n",
            "                 all         394         663       0.745       0.898       0.908       0.705\n",
            "[W pthreadpool-cpp.cc:90] Warning: Leaking Caffe2 thread-pool after fork. (function pthreadpool)\n",
            "[W pthreadpool-cpp.cc:90] Warning: Leaking Caffe2 thread-pool after fork. (function pthreadpool)\n",
            "\n",
            "     Epoch   gpu_mem      GIoU       obj       cls     total   targets  img_size\n",
            "   762/799     3.96G   0.02451   0.02877  0.002549   0.05583         2       416: 100% 99/99 [00:57<00:00,  1.73it/s]\n",
            "               Class      Images     Targets           P           R      mAP@.5  mAP@.5:.95:   0% 0/99 [00:00<?, ?it/s][W pthreadpool-cpp.cc:90] Warning: Leaking Caffe2 thread-pool after fork. (function pthreadpool)\n",
            "[W pthreadpool-cpp.cc:90] Warning: Leaking Caffe2 thread-pool after fork. (function pthreadpool)\n",
            "               Class      Images     Targets           P           R      mAP@.5  mAP@.5:.95: 100% 99/99 [00:18<00:00,  5.23it/s]\n",
            "                 all         394         663        0.73       0.902        0.91       0.704\n",
            "[W pthreadpool-cpp.cc:90] Warning: Leaking Caffe2 thread-pool after fork. (function pthreadpool)\n",
            "\n",
            "     Epoch   gpu_mem      GIoU       obj       cls     total   targets  img_size\n",
            "  0% 0/99 [00:00<?, ?it/s][W pthreadpool-cpp.cc:90] Warning: Leaking Caffe2 thread-pool after fork. (function pthreadpool)\n",
            "   763/799     3.96G   0.02366   0.02695  0.002589    0.0532         3       416: 100% 99/99 [00:57<00:00,  1.73it/s]\n",
            "               Class      Images     Targets           P           R      mAP@.5  mAP@.5:.95:   0% 0/99 [00:00<?, ?it/s][W pthreadpool-cpp.cc:90] Warning: Leaking Caffe2 thread-pool after fork. (function pthreadpool)\n",
            "[W pthreadpool-cpp.cc:90] Warning: Leaking Caffe2 thread-pool after fork. (function pthreadpool)\n",
            "               Class      Images     Targets           P           R      mAP@.5  mAP@.5:.95: 100% 99/99 [00:18<00:00,  5.25it/s]\n",
            "                 all         394         663       0.716       0.903       0.914       0.711\n",
            "[W pthreadpool-cpp.cc:90] Warning: Leaking Caffe2 thread-pool after fork. (function pthreadpool)\n",
            "[W pthreadpool-cpp.cc:90] Warning: Leaking Caffe2 thread-pool after fork. (function pthreadpool)\n",
            "\n",
            "     Epoch   gpu_mem      GIoU       obj       cls     total   targets  img_size\n",
            "   764/799     3.96G   0.02363   0.02943  0.002454   0.05551         5       416: 100% 99/99 [00:57<00:00,  1.71it/s]\n",
            "               Class      Images     Targets           P           R      mAP@.5  mAP@.5:.95:   0% 0/99 [00:00<?, ?it/s][W pthreadpool-cpp.cc:90] Warning: Leaking Caffe2 thread-pool after fork. (function pthreadpool)\n",
            "[W pthreadpool-cpp.cc:90] Warning: Leaking Caffe2 thread-pool after fork. (function pthreadpool)\n",
            "               Class      Images     Targets           P           R      mAP@.5  mAP@.5:.95: 100% 99/99 [00:18<00:00,  5.23it/s]\n",
            "                 all         394         663       0.723       0.904       0.911       0.715\n",
            "[W pthreadpool-cpp.cc:90] Warning: Leaking Caffe2 thread-pool after fork. (function pthreadpool)\n",
            "\n",
            "     Epoch   gpu_mem      GIoU       obj       cls     total   targets  img_size\n",
            "[W pthreadpool-cpp.cc:90] Warning: Leaking Caffe2 thread-pool after fork. (function pthreadpool)\n",
            "   765/799     3.96G   0.02391   0.02738  0.002392   0.05368         6       416: 100% 99/99 [00:57<00:00,  1.71it/s]\n",
            "               Class      Images     Targets           P           R      mAP@.5  mAP@.5:.95:   0% 0/99 [00:00<?, ?it/s][W pthreadpool-cpp.cc:90] Warning: Leaking Caffe2 thread-pool after fork. (function pthreadpool)\n",
            "[W pthreadpool-cpp.cc:90] Warning: Leaking Caffe2 thread-pool after fork. (function pthreadpool)\n",
            "               Class      Images     Targets           P           R      mAP@.5  mAP@.5:.95: 100% 99/99 [00:19<00:00,  5.20it/s]\n",
            "                 all         394         663       0.718       0.907       0.911       0.712\n",
            "[W pthreadpool-cpp.cc:90] Warning: Leaking Caffe2 thread-pool after fork. (function pthreadpool)\n",
            "\n",
            "     Epoch   gpu_mem      GIoU       obj       cls     total   targets  img_size\n",
            "  0% 0/99 [00:00<?, ?it/s][W pthreadpool-cpp.cc:90] Warning: Leaking Caffe2 thread-pool after fork. (function pthreadpool)\n",
            "   766/799     3.96G   0.02441   0.02918  0.002814    0.0564         5       416: 100% 99/99 [00:57<00:00,  1.72it/s]\n",
            "               Class      Images     Targets           P           R      mAP@.5  mAP@.5:.95:   0% 0/99 [00:00<?, ?it/s][W pthreadpool-cpp.cc:90] Warning: Leaking Caffe2 thread-pool after fork. (function pthreadpool)\n",
            "[W pthreadpool-cpp.cc:90] Warning: Leaking Caffe2 thread-pool after fork. (function pthreadpool)\n",
            "               Class      Images     Targets           P           R      mAP@.5  mAP@.5:.95: 100% 99/99 [00:18<00:00,  5.21it/s]\n",
            "                 all         394         663       0.698       0.908        0.91       0.708\n",
            "[W pthreadpool-cpp.cc:90] Warning: Leaking Caffe2 thread-pool after fork. (function pthreadpool)\n",
            "[W pthreadpool-cpp.cc:90] Warning: Leaking Caffe2 thread-pool after fork. (function pthreadpool)\n",
            "\n",
            "     Epoch   gpu_mem      GIoU       obj       cls     total   targets  img_size\n",
            "   767/799     3.96G   0.02295   0.02787   0.00271   0.05353        11       416: 100% 99/99 [00:57<00:00,  1.73it/s]\n",
            "               Class      Images     Targets           P           R      mAP@.5  mAP@.5:.95:   0% 0/99 [00:00<?, ?it/s][W pthreadpool-cpp.cc:90] Warning: Leaking Caffe2 thread-pool after fork. (function pthreadpool)\n",
            "[W pthreadpool-cpp.cc:90] Warning: Leaking Caffe2 thread-pool after fork. (function pthreadpool)\n",
            "               Class      Images     Targets           P           R      mAP@.5  mAP@.5:.95: 100% 99/99 [00:18<00:00,  5.21it/s]\n",
            "                 all         394         663        0.69       0.904       0.907       0.715\n",
            "[W pthreadpool-cpp.cc:90] Warning: Leaking Caffe2 thread-pool after fork. (function pthreadpool)\n",
            "[W pthreadpool-cpp.cc:90] Warning: Leaking Caffe2 thread-pool after fork. (function pthreadpool)\n",
            "\n",
            "     Epoch   gpu_mem      GIoU       obj       cls     total   targets  img_size\n",
            "   768/799     3.96G   0.02486   0.02771  0.002858   0.05543         7       416: 100% 99/99 [00:57<00:00,  1.72it/s]\n",
            "               Class      Images     Targets           P           R      mAP@.5  mAP@.5:.95:   0% 0/99 [00:00<?, ?it/s][W pthreadpool-cpp.cc:90] Warning: Leaking Caffe2 thread-pool after fork. (function pthreadpool)\n",
            "[W pthreadpool-cpp.cc:90] Warning: Leaking Caffe2 thread-pool after fork. (function pthreadpool)\n",
            "               Class      Images     Targets           P           R      mAP@.5  mAP@.5:.95: 100% 99/99 [00:18<00:00,  5.22it/s]\n",
            "                 all         394         663       0.719       0.914       0.913       0.707\n",
            "[W pthreadpool-cpp.cc:90] Warning: Leaking Caffe2 thread-pool after fork. (function pthreadpool)\n",
            "[W pthreadpool-cpp.cc:90] Warning: Leaking Caffe2 thread-pool after fork. (function pthreadpool)\n",
            "\n",
            "     Epoch   gpu_mem      GIoU       obj       cls     total   targets  img_size\n",
            "   769/799     3.96G   0.02439   0.03031  0.002975   0.05767        14       416: 100% 99/99 [00:57<00:00,  1.72it/s]\n",
            "               Class      Images     Targets           P           R      mAP@.5  mAP@.5:.95:   0% 0/99 [00:00<?, ?it/s][W pthreadpool-cpp.cc:90] Warning: Leaking Caffe2 thread-pool after fork. (function pthreadpool)\n",
            "[W pthreadpool-cpp.cc:90] Warning: Leaking Caffe2 thread-pool after fork. (function pthreadpool)\n",
            "               Class      Images     Targets           P           R      mAP@.5  mAP@.5:.95: 100% 99/99 [00:18<00:00,  5.21it/s]\n",
            "                 all         394         663        0.71       0.914       0.917       0.712\n",
            "[W pthreadpool-cpp.cc:90] Warning: Leaking Caffe2 thread-pool after fork. (function pthreadpool)\n",
            "[W pthreadpool-cpp.cc:90] Warning: Leaking Caffe2 thread-pool after fork. (function pthreadpool)\n",
            "\n",
            "     Epoch   gpu_mem      GIoU       obj       cls     total   targets  img_size\n",
            "   770/799     3.96G   0.02485   0.02836  0.002971   0.05618         7       416: 100% 99/99 [00:57<00:00,  1.73it/s]\n",
            "               Class      Images     Targets           P           R      mAP@.5  mAP@.5:.95:   0% 0/99 [00:00<?, ?it/s][W pthreadpool-cpp.cc:90] Warning: Leaking Caffe2 thread-pool after fork. (function pthreadpool)\n",
            "[W pthreadpool-cpp.cc:90] Warning: Leaking Caffe2 thread-pool after fork. (function pthreadpool)\n",
            "               Class      Images     Targets           P           R      mAP@.5  mAP@.5:.95: 100% 99/99 [00:19<00:00,  5.20it/s]\n",
            "                 all         394         663       0.696       0.914       0.915        0.71\n",
            "[W pthreadpool-cpp.cc:90] Warning: Leaking Caffe2 thread-pool after fork. (function pthreadpool)\n",
            "[W pthreadpool-cpp.cc:90] Warning: Leaking Caffe2 thread-pool after fork. (function pthreadpool)\n",
            "\n",
            "     Epoch   gpu_mem      GIoU       obj       cls     total   targets  img_size\n",
            "   771/799     3.96G   0.02378   0.02896  0.002271   0.05501         8       416: 100% 99/99 [00:58<00:00,  1.69it/s]\n",
            "               Class      Images     Targets           P           R      mAP@.5  mAP@.5:.95:   0% 0/99 [00:00<?, ?it/s][W pthreadpool-cpp.cc:90] Warning: Leaking Caffe2 thread-pool after fork. (function pthreadpool)\n",
            "[W pthreadpool-cpp.cc:90] Warning: Leaking Caffe2 thread-pool after fork. (function pthreadpool)\n",
            "               Class      Images     Targets           P           R      mAP@.5  mAP@.5:.95: 100% 99/99 [00:19<00:00,  5.21it/s]\n",
            "                 all         394         663         0.7        0.92       0.918        0.71\n",
            "[W pthreadpool-cpp.cc:90] Warning: Leaking Caffe2 thread-pool after fork. (function pthreadpool)\n",
            "\n",
            "     Epoch   gpu_mem      GIoU       obj       cls     total   targets  img_size\n",
            "  0% 0/99 [00:00<?, ?it/s][W pthreadpool-cpp.cc:90] Warning: Leaking Caffe2 thread-pool after fork. (function pthreadpool)\n",
            "   772/799     3.96G   0.02404   0.02882  0.002484   0.05535         1       416: 100% 99/99 [00:58<00:00,  1.68it/s]\n",
            "               Class      Images     Targets           P           R      mAP@.5  mAP@.5:.95:   0% 0/99 [00:00<?, ?it/s][W pthreadpool-cpp.cc:90] Warning: Leaking Caffe2 thread-pool after fork. (function pthreadpool)\n",
            "[W pthreadpool-cpp.cc:90] Warning: Leaking Caffe2 thread-pool after fork. (function pthreadpool)\n",
            "               Class      Images     Targets           P           R      mAP@.5  mAP@.5:.95: 100% 99/99 [00:19<00:00,  5.20it/s]\n",
            "                 all         394         663       0.709       0.915       0.917       0.713\n",
            "[W pthreadpool-cpp.cc:90] Warning: Leaking Caffe2 thread-pool after fork. (function pthreadpool)\n",
            "[W pthreadpool-cpp.cc:90] Warning: Leaking Caffe2 thread-pool after fork. (function pthreadpool)\n",
            "\n",
            "     Epoch   gpu_mem      GIoU       obj       cls     total   targets  img_size\n",
            "   773/799     3.96G   0.02417   0.02854  0.002755   0.05546         2       416: 100% 99/99 [00:59<00:00,  1.67it/s]\n",
            "               Class      Images     Targets           P           R      mAP@.5  mAP@.5:.95:   0% 0/99 [00:00<?, ?it/s][W pthreadpool-cpp.cc:90] Warning: Leaking Caffe2 thread-pool after fork. (function pthreadpool)\n",
            "[W pthreadpool-cpp.cc:90] Warning: Leaking Caffe2 thread-pool after fork. (function pthreadpool)\n",
            "               Class      Images     Targets           P           R      mAP@.5  mAP@.5:.95: 100% 99/99 [00:19<00:00,  5.20it/s]\n",
            "                 all         394         663       0.715        0.92       0.917       0.721\n",
            "[W pthreadpool-cpp.cc:90] Warning: Leaking Caffe2 thread-pool after fork. (function pthreadpool)\n",
            "\n",
            "     Epoch   gpu_mem      GIoU       obj       cls     total   targets  img_size\n",
            "  0% 0/99 [00:00<?, ?it/s][W pthreadpool-cpp.cc:90] Warning: Leaking Caffe2 thread-pool after fork. (function pthreadpool)\n",
            "   774/799     3.96G   0.02323   0.02671  0.003129   0.05307         7       416: 100% 99/99 [00:59<00:00,  1.66it/s]\n",
            "               Class      Images     Targets           P           R      mAP@.5  mAP@.5:.95:   0% 0/99 [00:00<?, ?it/s][W pthreadpool-cpp.cc:90] Warning: Leaking Caffe2 thread-pool after fork. (function pthreadpool)\n",
            "[W pthreadpool-cpp.cc:90] Warning: Leaking Caffe2 thread-pool after fork. (function pthreadpool)\n",
            "               Class      Images     Targets           P           R      mAP@.5  mAP@.5:.95: 100% 99/99 [00:18<00:00,  5.22it/s]\n",
            "                 all         394         663       0.724       0.916       0.919       0.723\n",
            "[W pthreadpool-cpp.cc:90] Warning: Leaking Caffe2 thread-pool after fork. (function pthreadpool)\n",
            "[W pthreadpool-cpp.cc:90] Warning: Leaking Caffe2 thread-pool after fork. (function pthreadpool)\n",
            "\n",
            "     Epoch   gpu_mem      GIoU       obj       cls     total   targets  img_size\n",
            "   775/799     3.96G   0.02389   0.02939  0.002378   0.05566         2       416: 100% 99/99 [00:59<00:00,  1.66it/s]\n",
            "               Class      Images     Targets           P           R      mAP@.5  mAP@.5:.95:   0% 0/99 [00:00<?, ?it/s][W pthreadpool-cpp.cc:90] Warning: Leaking Caffe2 thread-pool after fork. (function pthreadpool)\n",
            "[W pthreadpool-cpp.cc:90] Warning: Leaking Caffe2 thread-pool after fork. (function pthreadpool)\n",
            "               Class      Images     Targets           P           R      mAP@.5  mAP@.5:.95: 100% 99/99 [00:19<00:00,  5.21it/s]\n",
            "                 all         394         663       0.724       0.912       0.916        0.72\n",
            "[W pthreadpool-cpp.cc:90] Warning: Leaking Caffe2 thread-pool after fork. (function pthreadpool)\n",
            "[W pthreadpool-cpp.cc:90] Warning: Leaking Caffe2 thread-pool after fork. (function pthreadpool)\n",
            "\n",
            "     Epoch   gpu_mem      GIoU       obj       cls     total   targets  img_size\n",
            "   776/799     3.96G   0.02388   0.02868  0.002652   0.05522         0       416: 100% 99/99 [00:56<00:00,  1.74it/s]\n",
            "               Class      Images     Targets           P           R      mAP@.5  mAP@.5:.95:   0% 0/99 [00:00<?, ?it/s][W pthreadpool-cpp.cc:90] Warning: Leaking Caffe2 thread-pool after fork. (function pthreadpool)\n",
            "[W pthreadpool-cpp.cc:90] Warning: Leaking Caffe2 thread-pool after fork. (function pthreadpool)\n",
            "               Class      Images     Targets           P           R      mAP@.5  mAP@.5:.95: 100% 99/99 [00:20<00:00,  4.85it/s]\n",
            "                 all         394         663       0.704       0.921       0.919       0.721\n",
            "[W pthreadpool-cpp.cc:90] Warning: Leaking Caffe2 thread-pool after fork. (function pthreadpool)\n",
            "[W pthreadpool-cpp.cc:90] Warning: Leaking Caffe2 thread-pool after fork. (function pthreadpool)\n",
            "\n",
            "     Epoch   gpu_mem      GIoU       obj       cls     total   targets  img_size\n",
            "   777/799     3.96G   0.02404   0.03033  0.003067   0.05744         1       416: 100% 99/99 [00:56<00:00,  1.74it/s]\n",
            "               Class      Images     Targets           P           R      mAP@.5  mAP@.5:.95:   0% 0/99 [00:00<?, ?it/s][W pthreadpool-cpp.cc:90] Warning: Leaking Caffe2 thread-pool after fork. (function pthreadpool)\n",
            "[W pthreadpool-cpp.cc:90] Warning: Leaking Caffe2 thread-pool after fork. (function pthreadpool)\n",
            "               Class      Images     Targets           P           R      mAP@.5  mAP@.5:.95: 100% 99/99 [00:18<00:00,  5.21it/s]\n",
            "                 all         394         663       0.702       0.921       0.919       0.726\n",
            "[W pthreadpool-cpp.cc:90] Warning: Leaking Caffe2 thread-pool after fork. (function pthreadpool)\n",
            "[W pthreadpool-cpp.cc:90] Warning: Leaking Caffe2 thread-pool after fork. (function pthreadpool)\n",
            "\n",
            "     Epoch   gpu_mem      GIoU       obj       cls     total   targets  img_size\n",
            "   778/799     3.96G   0.02309   0.02927  0.001933    0.0543         7       416: 100% 99/99 [01:01<00:00,  1.62it/s]\n",
            "               Class      Images     Targets           P           R      mAP@.5  mAP@.5:.95:   0% 0/99 [00:00<?, ?it/s][W pthreadpool-cpp.cc:90] Warning: Leaking Caffe2 thread-pool after fork. (function pthreadpool)\n",
            "[W pthreadpool-cpp.cc:90] Warning: Leaking Caffe2 thread-pool after fork. (function pthreadpool)\n",
            "               Class      Images     Targets           P           R      mAP@.5  mAP@.5:.95: 100% 99/99 [00:19<00:00,  5.21it/s]\n",
            "                 all         394         663       0.693       0.919       0.913       0.723\n",
            "[W pthreadpool-cpp.cc:90] Warning: Leaking Caffe2 thread-pool after fork. (function pthreadpool)\n",
            "[W pthreadpool-cpp.cc:90] Warning: Leaking Caffe2 thread-pool after fork. (function pthreadpool)\n",
            "\n",
            "     Epoch   gpu_mem      GIoU       obj       cls     total   targets  img_size\n",
            "   779/799     3.96G   0.02369   0.02957  0.002537   0.05579         5       416: 100% 99/99 [00:56<00:00,  1.74it/s]\n",
            "               Class      Images     Targets           P           R      mAP@.5  mAP@.5:.95:   0% 0/99 [00:00<?, ?it/s][W pthreadpool-cpp.cc:90] Warning: Leaking Caffe2 thread-pool after fork. (function pthreadpool)\n",
            "[W pthreadpool-cpp.cc:90] Warning: Leaking Caffe2 thread-pool after fork. (function pthreadpool)\n",
            "               Class      Images     Targets           P           R      mAP@.5  mAP@.5:.95: 100% 99/99 [00:20<00:00,  4.91it/s]\n",
            "                 all         394         663       0.664       0.923       0.916       0.726\n",
            "[W pthreadpool-cpp.cc:90] Warning: Leaking Caffe2 thread-pool after fork. (function pthreadpool)\n",
            "[W pthreadpool-cpp.cc:90] Warning: Leaking Caffe2 thread-pool after fork. (function pthreadpool)\n",
            "\n",
            "     Epoch   gpu_mem      GIoU       obj       cls     total   targets  img_size\n",
            "   780/799     3.96G   0.02298   0.02573  0.002121   0.05083         3       416: 100% 99/99 [01:00<00:00,  1.65it/s]\n",
            "               Class      Images     Targets           P           R      mAP@.5  mAP@.5:.95:   0% 0/99 [00:00<?, ?it/s][W pthreadpool-cpp.cc:90] Warning: Leaking Caffe2 thread-pool after fork. (function pthreadpool)\n",
            "[W pthreadpool-cpp.cc:90] Warning: Leaking Caffe2 thread-pool after fork. (function pthreadpool)\n",
            "               Class      Images     Targets           P           R      mAP@.5  mAP@.5:.95: 100% 99/99 [00:19<00:00,  5.21it/s]\n",
            "                 all         394         663       0.698       0.916       0.914       0.725\n",
            "[W pthreadpool-cpp.cc:90] Warning: Leaking Caffe2 thread-pool after fork. (function pthreadpool)\n",
            "[W pthreadpool-cpp.cc:90] Warning: Leaking Caffe2 thread-pool after fork. (function pthreadpool)\n",
            "\n",
            "     Epoch   gpu_mem      GIoU       obj       cls     total   targets  img_size\n",
            "   781/799     3.96G   0.02359   0.02725  0.002761   0.05361         9       416: 100% 99/99 [00:59<00:00,  1.67it/s]\n",
            "               Class      Images     Targets           P           R      mAP@.5  mAP@.5:.95:   0% 0/99 [00:00<?, ?it/s][W pthreadpool-cpp.cc:90] Warning: Leaking Caffe2 thread-pool after fork. (function pthreadpool)\n",
            "[W pthreadpool-cpp.cc:90] Warning: Leaking Caffe2 thread-pool after fork. (function pthreadpool)\n",
            "               Class      Images     Targets           P           R      mAP@.5  mAP@.5:.95: 100% 99/99 [00:19<00:00,  5.21it/s]\n",
            "                 all         394         663       0.707       0.916       0.917       0.726\n",
            "[W pthreadpool-cpp.cc:90] Warning: Leaking Caffe2 thread-pool after fork. (function pthreadpool)\n",
            "[W pthreadpool-cpp.cc:90] Warning: Leaking Caffe2 thread-pool after fork. (function pthreadpool)\n",
            "\n",
            "     Epoch   gpu_mem      GIoU       obj       cls     total   targets  img_size\n",
            "   782/799     3.96G   0.02342   0.02825  0.003123    0.0548        14       416:  46% 46/99 [00:26<00:30,  1.76it/s]"
          ]
        }
      ]
    },
    {
      "cell_type": "code",
      "metadata": {
        "colab": {
          "base_uri": "https://localhost:8080/"
        },
        "id": "XZ0NlY1lkLLQ",
        "outputId": "2a9ebc07-926f-4907-b3ed-4cdc29e9992c"
      },
      "source": [
        "# when we ran this, we saw .007 second inference time. That is 140 FPS on a TESLA P100!\n",
        "# use the best weights!\n",
        "%cd /content/ScaledYOLOv4/\n",
        "!python detect.py --weights /content/drive/MyDrive/4_Oct_CSP_3/exp0_yolov4-csp-results/weights/last_749.pt --img 416 --conf 0.4 --source /content/ScaledYolo_Data/val"
      ],
      "execution_count": 14,
      "outputs": [
        {
          "output_type": "stream",
          "name": "stdout",
          "text": [
            "/content/ScaledYOLOv4\n",
            "Namespace(agnostic_nms=False, augment=False, classes=None, conf_thres=0.4, device='', img_size=416, iou_thres=0.5, output='inference/output', save_txt=False, source='/content/ScaledYolo_Data/val', update=False, view_img=False, weights=['/content/drive/MyDrive/4_Oct_CSP_3/exp0_yolov4-csp-results/weights/last_749.pt'])\n",
            "Using CUDA device0 _CudaDeviceProperties(name='Tesla K80', total_memory=11441MB)\n",
            "\n",
            "Fusing layers... Model Summary: 235 layers, 5.24813e+07 parameters, 5.04494e+07 gradients\n",
            "/usr/local/lib/python3.7/dist-packages/torch/nn/functional.py:718: UserWarning: Named tensors and all their associated APIs are an experimental feature and subject to change. Please do not use them for anything important until they are released as stable. (Triggered internally at  /pytorch/c10/core/TensorImpl.h:1156.)\n",
            "  return torch.max_pool2d(input, kernel_size, stride, padding, dilation, ceil_mode)\n",
            "image 1/53 /content/ScaledYolo_Data/val/04_3420.jpg: 416x416 Done. (0.064s)\n",
            "image 2/53 /content/ScaledYolo_Data/val/08_1830.jpg: 416x416 1 tower_woodens, Done. (0.066s)\n",
            "image 3/53 /content/ScaledYolo_Data/val/08_1890.jpg: 416x416 1 tower_tucohys, Done. (0.065s)\n",
            "image 4/53 /content/ScaledYolo_Data/val/09_2550.jpg: 416x416 1 tower_woodens, Done. (0.065s)\n",
            "image 5/53 /content/ScaledYolo_Data/val/09_9180.jpg: 416x416 1 tower_tucohys, Done. (0.065s)\n",
            "image 6/53 /content/ScaledYolo_Data/val/1000_00527.jpg: 416x416 1 tower_lattices, 1 tower_tucohys, Done. (0.066s)\n",
            "image 7/53 /content/ScaledYolo_Data/val/104_2190.jpg: 416x416 1 tower_lattices, Done. (0.065s)\n",
            "image 8/53 /content/ScaledYolo_Data/val/105_4350.jpg: 416x416 1 tower_lattices, Done. (0.065s)\n",
            "image 9/53 /content/ScaledYolo_Data/val/106_30.jpg: 416x416 1 tower_woodens, Done. (0.065s)\n",
            "image 10/53 /content/ScaledYolo_Data/val/107_2505.jpg: 416x416 5 tower_lattices, Done. (0.065s)\n",
            "image 11/53 /content/ScaledYolo_Data/val/110_0.jpg: 416x416 1 tower_lattices, 1 tower_tucohys, Done. (0.065s)\n",
            "image 12/53 /content/ScaledYolo_Data/val/111_3585.jpg: 416x416 2 tower_tucohys, Done. (0.065s)\n",
            "image 13/53 /content/ScaledYolo_Data/val/112_165.jpg: 416x416 1 tower_woodens, Done. (0.065s)\n",
            "image 14/53 /content/ScaledYolo_Data/val/114_210.jpg: 416x416 2 tower_woodens, Done. (0.065s)\n",
            "image 15/53 /content/ScaledYolo_Data/val/13_5580.jpg: 416x416 Done. (0.064s)\n",
            "image 16/53 /content/ScaledYolo_Data/val/14_01171.jpg: 416x416 3 tower_woodens, Done. (0.065s)\n",
            "image 17/53 /content/ScaledYolo_Data/val/16_3720.jpg: 416x416 1 tower_lattices, Done. (0.065s)\n",
            "image 18/53 /content/ScaledYolo_Data/val/19_00137.jpg: 416x416 5 tower_lattices, 1 tower_woodens, Done. (0.065s)\n",
            "image 19/53 /content/ScaledYolo_Data/val/20_3120.jpg: 416x416 Done. (0.064s)\n",
            "image 20/53 /content/ScaledYolo_Data/val/20_360.jpg: 416x416 1 tower_lattices, Done. (0.066s)\n",
            "image 21/53 /content/ScaledYolo_Data/val/20_7215.jpg: 416x416 Done. (0.064s)\n",
            "image 22/53 /content/ScaledYolo_Data/val/22_00434.jpg: 416x416 1 tower_tucohys, Done. (0.066s)\n",
            "image 23/53 /content/ScaledYolo_Data/val/22_02021.jpg: 416x416 1 tower_woodens, Done. (0.065s)\n",
            "image 24/53 /content/ScaledYolo_Data/val/23_01656.jpg: 416x416 1 tower_lattices, Done. (0.065s)\n",
            "image 25/53 /content/ScaledYolo_Data/val/25_00029.jpg: 416x416 1 tower_lattices, 3 tower_tucohys, Done. (0.065s)\n",
            "image 26/53 /content/ScaledYolo_Data/val/26_2850.jpg: 416x416 Done. (0.064s)\n",
            "image 27/53 /content/ScaledYolo_Data/val/27_00375.jpg: 416x416 1 tower_tucohys, Done. (0.066s)\n",
            "image 28/53 /content/ScaledYolo_Data/val/28_00090.jpg: 416x416 2 tower_tucohys, Done. (0.065s)\n",
            "image 29/53 /content/ScaledYolo_Data/val/34_1005.jpg: 416x416 1 tower_lattices, 1 tower_tucohys, Done. (0.065s)\n",
            "image 30/53 /content/ScaledYolo_Data/val/41_00961.jpg: 416x416 Done. (0.064s)\n",
            "image 31/53 /content/ScaledYolo_Data/val/43_00591.jpg: 416x416 Done. (0.064s)\n",
            "image 32/53 /content/ScaledYolo_Data/val/46_00596.jpg: 416x416 1 tower_tucohys, Done. (0.065s)\n",
            "image 33/53 /content/ScaledYolo_Data/val/47_00601.jpg: 416x416 1 tower_woodens, Done. (0.065s)\n",
            "image 34/53 /content/ScaledYolo_Data/val/48_02416.jpg: 416x416 Done. (0.064s)\n",
            "image 35/53 /content/ScaledYolo_Data/val/52_00721.jpg: 416x416 Done. (0.064s)\n",
            "image 36/53 /content/ScaledYolo_Data/val/57_01046.jpg: 416x416 1 tower_woodens, Done. (0.065s)\n",
            "image 37/53 /content/ScaledYolo_Data/val/58_00956.jpg: 416x416 2 tower_lattices, 2 tower_woodens, Done. (0.066s)\n",
            "image 38/53 /content/ScaledYolo_Data/val/63_01871.jpg: 416x416 1 tower_lattices, Done. (0.065s)\n",
            "image 39/53 /content/ScaledYolo_Data/val/64_00036.jpg: 416x416 2 tower_lattices, 1 tower_tucohys, Done. (0.065s)\n",
            "image 40/53 /content/ScaledYolo_Data/val/66_00191.jpg: 416x416 4 tower_lattices, 1 tower_tucohys, Done. (0.065s)\n",
            "image 41/53 /content/ScaledYolo_Data/val/67_00356.jpg: 416x416 1 tower_lattices, 1 tower_woodens, Done. (0.067s)\n",
            "image 42/53 /content/ScaledYolo_Data/val/67_02716.jpg: 416x416 2 tower_lattices, 1 tower_tucohys, Done. (0.065s)\n",
            "image 43/53 /content/ScaledYolo_Data/val/70_00343.jpg: 416x416 1 tower_woodens, Done. (0.065s)\n",
            "image 44/53 /content/ScaledYolo_Data/val/70_00655.jpg: 416x416 1 tower_woodens, Done. (0.065s)\n",
            "image 45/53 /content/ScaledYolo_Data/val/70_01510.jpg: 416x416 1 tower_woodens, Done. (0.065s)\n",
            "image 46/53 /content/ScaledYolo_Data/val/71_3880.jpg: 416x416 1 tower_lattices, 1 tower_tucohys, Done. (0.066s)\n",
            "image 47/53 /content/ScaledYolo_Data/val/71_4520.jpg: 416x416 1 tower_lattices, Done. (0.065s)\n",
            "image 48/53 /content/ScaledYolo_Data/val/71_9160.jpg: 416x416 1 tower_lattices, Done. (0.065s)\n",
            "image 49/53 /content/ScaledYolo_Data/val/74_00453.jpg: 416x416 1 tower_lattices, Done. (0.065s)\n",
            "image 50/53 /content/ScaledYolo_Data/val/76_1230.jpg: 416x416 1 tower_lattices, Done. (0.065s)\n",
            "image 51/53 /content/ScaledYolo_Data/val/78_465.jpg: 416x416 1 tower_lattices, Done. (0.065s)\n",
            "image 52/53 /content/ScaledYolo_Data/val/80_1660.jpg: 416x416 1 tower_lattices, Done. (0.065s)\n",
            "image 53/53 /content/ScaledYolo_Data/val/90_5550.jpg: 416x416 1 tower_tucohys, Done. (0.065s)\n",
            "Results saved to inference/output\n",
            "Done. (5.024s)\n"
          ]
        }
      ]
    },
    {
      "cell_type": "code",
      "metadata": {
        "id": "5wSoO2lhq74R",
        "colab": {
          "base_uri": "https://localhost:8080/",
          "height": 41
        },
        "outputId": "72de7bb8-6a43-4e33-e773-5b1cccb81cec"
      },
      "source": [
        "from IPython.display import Image, display\n",
        "display(Image('/content/drive/MyDrive/2_Oct_CSP_2/exp0_yolov4-csp-results/results.png'))  # view results.png"
      ],
      "execution_count": null,
      "outputs": [
        {
          "output_type": "display_data",
          "data": {
            "image/png": "/content/drive/MyDrive/2_Oct_CSP_2/exp0_yolov4-csp-results/results.png",
            "text/plain": [
              "<IPython.core.display.Image object>"
            ]
          },
          "metadata": {}
        }
      ]
    },
    {
      "cell_type": "code",
      "metadata": {
        "colab": {
          "base_uri": "https://localhost:8080/"
        },
        "id": "FFMSNA11gTzG",
        "outputId": "09df5388-3071-4c9a-e9f6-500793444ca5"
      },
      "source": [
        "!python /content/ScaledYOLOv4/test.py --help"
      ],
      "execution_count": null,
      "outputs": [
        {
          "output_type": "stream",
          "name": "stdout",
          "text": [
            "usage: test.py [-h] [--weights WEIGHTS [WEIGHTS ...]] [--data DATA]\n",
            "               [--batch-size BATCH_SIZE] [--img-size IMG_SIZE]\n",
            "               [--conf-thres CONF_THRES] [--iou-thres IOU_THRES] [--save-json]\n",
            "               [--task TASK] [--device DEVICE] [--single-cls] [--augment]\n",
            "               [--merge] [--verbose] [--save-txt]\n",
            "\n",
            "optional arguments:\n",
            "  -h, --help            show this help message and exit\n",
            "  --weights WEIGHTS [WEIGHTS ...]\n",
            "                        model.pt path(s)\n",
            "  --data DATA           *.data path\n",
            "  --batch-size BATCH_SIZE\n",
            "                        size of each image batch\n",
            "  --img-size IMG_SIZE   inference size (pixels)\n",
            "  --conf-thres CONF_THRES\n",
            "                        object confidence threshold\n",
            "  --iou-thres IOU_THRES\n",
            "                        IOU threshold for NMS\n",
            "  --save-json           save a cocoapi-compatible JSON results file\n",
            "  --task TASK           'val', 'test', 'study'\n",
            "  --device DEVICE       cuda device, i.e. 0 or 0,1,2,3 or cpu\n",
            "  --single-cls          treat as single-class dataset\n",
            "  --augment             augmented inference\n",
            "  --merge               use Merge NMS\n",
            "  --verbose             report mAP by class\n",
            "  --save-txt            save results to *.txt\n"
          ]
        }
      ]
    },
    {
      "cell_type": "code",
      "metadata": {
        "id": "O-3dusvne5w5",
        "colab": {
          "base_uri": "https://localhost:8080/"
        },
        "outputId": "0de61a6e-b04d-4388-df2d-f1b9cb153c00"
      },
      "source": [
        "!python /content/ScaledYOLOv4/test.py --img 415 --conf 0.001 --iou 0.65 --batch 8 --device 0 --data /content/ScaledYOLOv4/data/coco.yaml --weights /content/drive/MyDrive/4_Oct_CSP_3/exp0_yolov4-csp-results/weights/last_748.pt --verbose"
      ],
      "execution_count": 9,
      "outputs": [
        {
          "output_type": "stream",
          "name": "stdout",
          "text": [
            "Namespace(augment=False, batch_size=8, conf_thres=0.001, data='/content/ScaledYOLOv4/data/coco.yaml', device='0', img_size=415, iou_thres=0.65, merge=False, save_json=True, save_txt=False, single_cls=False, task='val', verbose=True, weights=['/content/drive/MyDrive/4_Oct_CSP_3/exp0_yolov4-csp-results/weights/last_748.pt'])\n",
            "Using CUDA device0 _CudaDeviceProperties(name='Tesla K80', total_memory=11441MB)\n",
            "\n",
            "Fusing layers... Model Summary: 235 layers, 5.24813e+07 parameters, 5.04494e+07 gradients\n",
            "WARNING: --img-size 415 must be multiple of max stride 32, updating to 416\n",
            "/usr/local/lib/python3.7/dist-packages/torch/nn/functional.py:718: UserWarning: Named tensors and all their associated APIs are an experimental feature and subject to change. Please do not use them for anything important until they are released as stable. (Triggered internally at  /pytorch/c10/core/TensorImpl.h:1156.)\n",
            "  return torch.max_pool2d(input, kernel_size, stride, padding, dilation, ceil_mode)\n",
            "Scanning labels /content/ScaledYolo_Data/val.cache (53 found, 0 missing, 0 empty, 0 duplicate, for 53 images): 100% 53/53 [00:00<00:00, 10534.96it/s]\n",
            "               Class      Images     Targets           P           R      mAP@.5  mAP@.5:.95: 100% 7/7 [00:03<00:00,  2.02it/s]\n",
            "                 all          53         103       0.475       0.683       0.657       0.432\n",
            "       tower_lattice          53          41       0.637        0.78       0.783       0.574\n",
            "        tower_tucohy          53          16       0.398       0.812       0.782       0.538\n",
            "        tower_wooden          53          46        0.39       0.457       0.407       0.184\n",
            "Speed: 47.2/1.6/48.9 ms inference/NMS/total per 416x416 image at batch-size 8\n",
            "\n",
            "COCO mAP with pycocotools... saving detections_val2017__results.json...\n",
            "ERROR: pycocotools unable to run: list index out of range\n"
          ]
        }
      ]
    },
    {
      "cell_type": "code",
      "metadata": {
        "colab": {
          "base_uri": "https://localhost:8080/"
        },
        "id": "JxnDLa5Rg5L3",
        "outputId": "2f768bac-d81e-418b-8129-410d12c1fe3f"
      },
      "source": [
        "!python /content/ScaledYOLOv4/test.py --img 415 --conf 0.001 --iou 0.65 --batch 8 --device 0 --data /content/ScaledYOLOv4/data/coco.yaml --weights /content/drive/MyDrive/4_Oct_CSP_3/exp0_yolov4-csp-results/weights/last_748.pt --verbose"
      ],
      "execution_count": 10,
      "outputs": [
        {
          "output_type": "stream",
          "name": "stdout",
          "text": [
            "Namespace(augment=False, batch_size=8, conf_thres=0.001, data='/content/ScaledYOLOv4/data/coco.yaml', device='0', img_size=415, iou_thres=0.65, merge=False, save_json=True, save_txt=False, single_cls=False, task='val', verbose=True, weights=['/content/drive/MyDrive/4_Oct_CSP_3/exp0_yolov4-csp-results/weights/last_748.pt'])\n",
            "Using CUDA device0 _CudaDeviceProperties(name='Tesla K80', total_memory=11441MB)\n",
            "\n",
            "Fusing layers... Model Summary: 235 layers, 5.24813e+07 parameters, 5.04494e+07 gradients\n",
            "WARNING: --img-size 415 must be multiple of max stride 32, updating to 416\n",
            "/usr/local/lib/python3.7/dist-packages/torch/nn/functional.py:718: UserWarning: Named tensors and all their associated APIs are an experimental feature and subject to change. Please do not use them for anything important until they are released as stable. (Triggered internally at  /pytorch/c10/core/TensorImpl.h:1156.)\n",
            "  return torch.max_pool2d(input, kernel_size, stride, padding, dilation, ceil_mode)\n",
            "Scanning images: 100% 123/123 [00:00<00:00, 457.29it/s]\n",
            "Scanning labels /content/ScaledYolo_Data/test.cache (123 found, 0 missing, 0 empty, 0 duplicate, for 123 images): 100% 123/123 [00:00<00:00, 11112.77it/s]\n",
            "               Class      Images     Targets           P           R      mAP@.5  mAP@.5:.95: 100% 16/16 [00:07<00:00,  2.22it/s]\n",
            "                 all         123         202       0.536       0.671       0.648       0.427\n",
            "       tower_lattice         123          88       0.655       0.807       0.819       0.597\n",
            "        tower_tucohy         123          45       0.525       0.756       0.691       0.497\n",
            "        tower_wooden         123          69       0.428       0.449       0.434       0.188\n",
            "Speed: 47.3/2.1/49.4 ms inference/NMS/total per 416x416 image at batch-size 8\n",
            "\n",
            "COCO mAP with pycocotools... saving detections_val2017__results.json...\n",
            "ERROR: pycocotools unable to run: list index out of range\n"
          ]
        }
      ]
    },
    {
      "cell_type": "code",
      "metadata": {
        "id": "_e7PYBLHoNEf",
        "outputId": "74ec7288-ff89-47fb-c6b2-8ebdb4a8a3d7",
        "colab": {
          "base_uri": "https://localhost:8080/"
        }
      },
      "source": [
        "!python /content/ScaledYOLOv4/test.py --img 415 --conf 0.001 --iou 0.65 --batch 8 --device 0 --data /content/ScaledYOLOv4/data/coco.yaml --weights /content/drive/MyDrive/4_Oct_CSP_3/exp0_yolov4-csp-results/weights/last_748.pt --verbose"
      ],
      "execution_count": 12,
      "outputs": [
        {
          "output_type": "stream",
          "name": "stdout",
          "text": [
            "Namespace(augment=False, batch_size=8, conf_thres=0.001, data='/content/ScaledYOLOv4/data/coco.yaml', device='0', img_size=415, iou_thres=0.65, merge=False, save_json=True, save_txt=False, single_cls=False, task='val', verbose=True, weights=['/content/drive/MyDrive/4_Oct_CSP_3/exp0_yolov4-csp-results/weights/last_748.pt'])\n",
            "Using CUDA device0 _CudaDeviceProperties(name='Tesla K80', total_memory=11441MB)\n",
            "\n",
            "Fusing layers... Model Summary: 235 layers, 5.24813e+07 parameters, 5.04494e+07 gradients\n",
            "WARNING: --img-size 415 must be multiple of max stride 32, updating to 416\n",
            "/usr/local/lib/python3.7/dist-packages/torch/nn/functional.py:718: UserWarning: Named tensors and all their associated APIs are an experimental feature and subject to change. Please do not use them for anything important until they are released as stable. (Triggered internally at  /pytorch/c10/core/TensorImpl.h:1156.)\n",
            "  return torch.max_pool2d(input, kernel_size, stride, padding, dilation, ceil_mode)\n",
            "Scanning labels /content/ScaledYolo_Data/train.cache (394 found, 0 missing, 0 empty, 0 duplicate, for 394 images): 100% 394/394 [00:00<00:00, 11606.66it/s]\n",
            "               Class      Images     Targets           P           R      mAP@.5  mAP@.5:.95: 100% 50/50 [00:21<00:00,  2.33it/s]\n",
            "                 all         394         663       0.718       0.912       0.921       0.734\n",
            "       tower_lattice         394         275       0.815       0.978       0.981       0.827\n",
            "        tower_tucohy         394         170       0.675       0.853       0.881       0.707\n",
            "        tower_wooden         394         218       0.665       0.904       0.901       0.668\n",
            "Speed: 47.3/1.9/49.2 ms inference/NMS/total per 416x416 image at batch-size 8\n",
            "\n",
            "COCO mAP with pycocotools... saving detections_val2017__results.json...\n",
            "ERROR: pycocotools unable to run: invalid literal for int() with base 10: '19_00993_'\n"
          ]
        }
      ]
    },
    {
      "cell_type": "code",
      "metadata": {
        "id": "GhZa0uoZ4_af"
      },
      "source": [
        ""
      ],
      "execution_count": null,
      "outputs": []
    }
  ]
}